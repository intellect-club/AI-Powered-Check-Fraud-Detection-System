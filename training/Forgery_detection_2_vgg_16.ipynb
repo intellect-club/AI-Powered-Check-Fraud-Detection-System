{
  "nbformat": 4,
  "nbformat_minor": 0,
  "metadata": {
    "colab": {
      "provenance": []
    },
    "kernelspec": {
      "name": "python3",
      "display_name": "Python 3"
    },
    "language_info": {
      "name": "python"
    }
  },
  "cells": [
    {
      "cell_type": "code",
      "execution_count": null,
      "metadata": {
        "id": "Oa8_-buP2JjJ"
      },
      "outputs": [],
      "source": [
        "import os\n",
        "import numpy as np\n",
        "import tensorflow as tf\n",
        "from tensorflow.keras.applications import VGG16\n",
        "from tensorflow.keras import layers, models\n",
        "from tensorflow.keras.preprocessing.image import ImageDataGenerator\n",
        "from sklearn.model_selection import train_test_split\n"
      ]
    },
    {
      "cell_type": "code",
      "source": [
        "\n",
        "# Dataset path\n",
        "dataset_path = '/content/drive/MyDrive/Fraud1/data/train_data'\n",
        "\n",
        "# Image dimensions\n",
        "img_height = 224\n",
        "img_width = 224\n",
        "batch_size = 32\n"
      ],
      "metadata": {
        "id": "WvFPS6p922dc"
      },
      "execution_count": null,
      "outputs": []
    },
    {
      "cell_type": "code",
      "source": [
        "def preprocess_grayscale_to_rgb(image):\n",
        "    \"\"\"Convert a grayscale image to RGB by replicating the channel.\"\"\"\n",
        "    if len(image.shape) == 2 or image.shape[-1] == 1:  # Grayscale image\n",
        "        image = np.stack((image.squeeze(),) * 3, axis=-1)  # Convert to RGB\n",
        "    return image\n"
      ],
      "metadata": {
        "id": "AQnpjrf926L6"
      },
      "execution_count": null,
      "outputs": []
    },
    {
      "cell_type": "code",
      "source": [
        "# Updated Data Generators\n",
        "datagen = ImageDataGenerator(\n",
        "    rescale=1.0 / 255,  # Normalize pixel values\n",
        "    validation_split=0.2  # Reserve 20% for validation\n",
        ")\n",
        "\n",
        "train_gen = datagen.flow_from_directory(\n",
        "    dataset_path,\n",
        "    target_size=(img_height, img_width),\n",
        "    batch_size=batch_size,\n",
        "    class_mode='categorical',\n",
        "    color_mode='rgb',  # Force output to have 3 channels\n",
        "    subset='training'\n",
        ")\n",
        "\n",
        "val_gen = datagen.flow_from_directory(\n",
        "    dataset_path,\n",
        "    target_size=(img_height, img_width),\n",
        "    batch_size=batch_size,\n",
        "    class_mode='categorical',\n",
        "    color_mode='rgb',  # Force output to have 3 channels\n",
        "    subset='validation'\n",
        ")\n"
      ],
      "metadata": {
        "colab": {
          "base_uri": "https://localhost:8080/"
        },
        "id": "tHtYClkx28g4",
        "outputId": "acae408f-f9d2-44a6-a03e-617f52b72e6b"
      },
      "execution_count": null,
      "outputs": [
        {
          "output_type": "stream",
          "name": "stdout",
          "text": [
            "Found 24 images belonging to 5 classes.\n",
            "Found 5 images belonging to 5 classes.\n"
          ]
        }
      ]
    },
    {
      "cell_type": "code",
      "source": [
        "\n",
        "# Load the pre-trained VGG16 model without the top layers\n",
        "base_model = VGG16(weights='imagenet', include_top=False, input_shape=(img_height, img_width, 3))\n",
        "\n",
        "# Freeze the base model layers\n",
        "base_model.trainable = False\n"
      ],
      "metadata": {
        "id": "uqRH_AaN2-9M"
      },
      "execution_count": null,
      "outputs": []
    },
    {
      "cell_type": "code",
      "source": [
        "\n",
        "# Build the new model\n",
        "model = models.Sequential([\n",
        "    base_model,\n",
        "    layers.Flatten(),\n",
        "    layers.Dense(128, activation='relu'),\n",
        "    layers.Dropout(0.5),\n",
        "    layers.Dense(train_gen.num_classes, activation='softmax')  # Output layer matches class count\n",
        "])\n"
      ],
      "metadata": {
        "id": "TGRwRBgN3B3Y"
      },
      "execution_count": null,
      "outputs": []
    },
    {
      "cell_type": "code",
      "source": [
        "\n",
        "# Compile the model\n",
        "model.compile(optimizer='adam',\n",
        "              loss='categorical_crossentropy',\n",
        "              metrics=['accuracy'])\n"
      ],
      "metadata": {
        "id": "XHSKPMan3Dg-"
      },
      "execution_count": null,
      "outputs": []
    },
    {
      "cell_type": "code",
      "source": [
        "\n",
        "# Train the model\n",
        "history = model.fit(\n",
        "    train_gen,\n",
        "    validation_data=val_gen,\n",
        "    epochs=10\n",
        ")\n"
      ],
      "metadata": {
        "colab": {
          "base_uri": "https://localhost:8080/"
        },
        "id": "Xt0C3fCm3Ep6",
        "outputId": "1e408270-da03-47ac-c961-af64d7325ba8"
      },
      "execution_count": null,
      "outputs": [
        {
          "output_type": "stream",
          "name": "stdout",
          "text": [
            "Epoch 1/10\n"
          ]
        },
        {
          "output_type": "stream",
          "name": "stderr",
          "text": [
            "/usr/local/lib/python3.10/dist-packages/keras/src/trainers/data_adapters/py_dataset_adapter.py:122: UserWarning: Your `PyDataset` class should call `super().__init__(**kwargs)` in its constructor. `**kwargs` can include `workers`, `use_multiprocessing`, `max_queue_size`. Do not pass these arguments to `fit()`, as they will be ignored.\n",
            "  self._warn_if_super_not_called()\n"
          ]
        },
        {
          "output_type": "stream",
          "name": "stdout",
          "text": [
            "\u001b[1m1/1\u001b[0m \u001b[32m━━━━━━━━━━━━━━━━━━━━\u001b[0m\u001b[37m\u001b[0m \u001b[1m21s\u001b[0m 21s/step - accuracy: 0.2500 - loss: 2.0787 - val_accuracy: 0.4000 - val_loss: 2.0770\n",
            "Epoch 2/10\n",
            "\u001b[1m1/1\u001b[0m \u001b[32m━━━━━━━━━━━━━━━━━━━━\u001b[0m\u001b[37m\u001b[0m \u001b[1m19s\u001b[0m 19s/step - accuracy: 0.5000 - loss: 2.2291 - val_accuracy: 0.2000 - val_loss: 1.7018\n",
            "Epoch 3/10\n",
            "\u001b[1m1/1\u001b[0m \u001b[32m━━━━━━━━━━━━━━━━━━━━\u001b[0m\u001b[37m\u001b[0m \u001b[1m23s\u001b[0m 23s/step - accuracy: 0.4583 - loss: 2.6393 - val_accuracy: 1.0000 - val_loss: 0.1563\n",
            "Epoch 4/10\n",
            "\u001b[1m1/1\u001b[0m \u001b[32m━━━━━━━━━━━━━━━━━━━━\u001b[0m\u001b[37m\u001b[0m \u001b[1m23s\u001b[0m 23s/step - accuracy: 0.7500 - loss: 0.4417 - val_accuracy: 1.0000 - val_loss: 0.0937\n",
            "Epoch 5/10\n",
            "\u001b[1m1/1\u001b[0m \u001b[32m━━━━━━━━━━━━━━━━━━━━\u001b[0m\u001b[37m\u001b[0m \u001b[1m37s\u001b[0m 37s/step - accuracy: 0.8750 - loss: 0.2488 - val_accuracy: 1.0000 - val_loss: 0.0956\n",
            "Epoch 6/10\n",
            "\u001b[1m1/1\u001b[0m \u001b[32m━━━━━━━━━━━━━━━━━━━━\u001b[0m\u001b[37m\u001b[0m \u001b[1m17s\u001b[0m 17s/step - accuracy: 0.7917 - loss: 0.6193 - val_accuracy: 1.0000 - val_loss: 0.1476\n",
            "Epoch 7/10\n",
            "\u001b[1m1/1\u001b[0m \u001b[32m━━━━━━━━━━━━━━━━━━━━\u001b[0m\u001b[37m\u001b[0m \u001b[1m20s\u001b[0m 20s/step - accuracy: 0.8750 - loss: 0.4207 - val_accuracy: 1.0000 - val_loss: 0.1968\n",
            "Epoch 8/10\n",
            "\u001b[1m1/1\u001b[0m \u001b[32m━━━━━━━━━━━━━━━━━━━━\u001b[0m\u001b[37m\u001b[0m \u001b[1m17s\u001b[0m 17s/step - accuracy: 0.7917 - loss: 0.3188 - val_accuracy: 1.0000 - val_loss: 0.1715\n",
            "Epoch 9/10\n",
            "\u001b[1m1/1\u001b[0m \u001b[32m━━━━━━━━━━━━━━━━━━━━\u001b[0m\u001b[37m\u001b[0m \u001b[1m17s\u001b[0m 17s/step - accuracy: 0.9167 - loss: 0.2155 - val_accuracy: 1.0000 - val_loss: 0.1423\n",
            "Epoch 10/10\n",
            "\u001b[1m1/1\u001b[0m \u001b[32m━━━━━━━━━━━━━━━━━━━━\u001b[0m\u001b[37m\u001b[0m \u001b[1m17s\u001b[0m 17s/step - accuracy: 0.9583 - loss: 0.0588 - val_accuracy: 1.0000 - val_loss: 0.1096\n"
          ]
        }
      ]
    },
    {
      "cell_type": "code",
      "source": [
        "\n",
        "# Save the model for later use\n",
        "model.save('signature_vgg16_model.h5')\n"
      ],
      "metadata": {
        "colab": {
          "base_uri": "https://localhost:8080/"
        },
        "id": "fv4Rme373GQs",
        "outputId": "e623599d-339a-4203-ce7e-cae9eb51140a"
      },
      "execution_count": null,
      "outputs": [
        {
          "output_type": "stream",
          "name": "stderr",
          "text": [
            "WARNING:absl:You are saving your model as an HDF5 file via `model.save()` or `keras.saving.save_model(model)`. This file format is considered legacy. We recommend using instead the native Keras format, e.g. `model.save('my_model.keras')` or `keras.saving.save_model(model, 'my_model.keras')`. \n"
          ]
        }
      ]
    },
    {
      "cell_type": "code",
      "source": [
        "\n",
        "# Class labels\n",
        "class_names = list(train_gen.class_indices.keys())\n",
        "print(f\"Class Names: {class_names}\")\n"
      ],
      "metadata": {
        "colab": {
          "base_uri": "https://localhost:8080/"
        },
        "id": "2BUXCAkX3Jkt",
        "outputId": "8e83c496-50c4-41fa-8865-0239603b3d65"
      },
      "execution_count": null,
      "outputs": [
        {
          "output_type": "stream",
          "name": "stdout",
          "text": [
            "Class Names: ['anfal', 'dhia', 'lina', 'mehdi', 'raouf']\n"
          ]
        }
      ]
    },
    {
      "cell_type": "code",
      "source": [
        "def predict_signature(image_path, model, class_names, threshold=0.7):\n",
        "    \"\"\"\n",
        "    Predict the class of a signature image.\n",
        "    Handles grayscale images and replicates channels to make them RGB.\n",
        "    \"\"\"\n",
        "    from tensorflow.keras.preprocessing.image import load_img, img_to_array\n",
        "\n",
        "    # Load the grayscale image\n",
        "    image = load_img(image_path, target_size=(224, 224), color_mode='grayscale')\n",
        "    image = img_to_array(image)  # Shape: (224, 224, 1)\n",
        "\n",
        "    # Use the provided function to preprocess the grayscale image to RGB\n",
        "    image = preprocess_grayscale_to_rgb(image)  # Shape: (224, 224, 3)\n",
        "    image = image / 255.0  # Normalize pixel values\n",
        "    image = np.expand_dims(image, axis=0)  # Add batch dimension\n",
        "\n",
        "    # Perform prediction\n",
        "    predictions = model.predict(image)\n",
        "    confidence = np.max(predictions)\n",
        "    predicted_class = class_names[np.argmax(predictions)]\n",
        "\n",
        "    # Handle \"Unknown or Forgery\" case\n",
        "    if confidence < threshold:\n",
        "        return {\"Prediction\": \"Unknown or Forgery\", \"Confidence\": confidence}\n",
        "    return {\"Prediction\": predicted_class, \"Confidence\": confidence}\n",
        "\n"
      ],
      "metadata": {
        "id": "IyqUSvXJ5mmI"
      },
      "execution_count": null,
      "outputs": []
    },
    {
      "cell_type": "code",
      "source": [
        "\n",
        "# Example usage\n",
        "image_path = '/content/drive/MyDrive/Fraud1/data/test_data/forg15.png'\n",
        "result = predict_signature(image_path, model, class_names)\n",
        "print(f\"Prediction: {result['Prediction']}, Confidence: {result['Confidence']:.2f}\")\n"
      ],
      "metadata": {
        "colab": {
          "base_uri": "https://localhost:8080/"
        },
        "id": "xn9fx0n45qA_",
        "outputId": "01ab5277-9fe2-48c2-b1c2-82831da69edf"
      },
      "execution_count": null,
      "outputs": [
        {
          "output_type": "stream",
          "name": "stdout",
          "text": [
            "\u001b[1m1/1\u001b[0m \u001b[32m━━━━━━━━━━━━━━━━━━━━\u001b[0m\u001b[37m\u001b[0m \u001b[1m1s\u001b[0m 552ms/step\n",
            "Prediction: Unknown or Forgery, Confidence: 0.63\n"
          ]
        }
      ]
    },
    {
      "cell_type": "code",
      "source": [
        "## Working code for all classes\n",
        "def predict_all_signatures(directory, model, class_names, threshold=0.7):\n",
        "    \"\"\"\n",
        "    Predict the class of all signature images in a directory.\n",
        "    \"\"\"\n",
        "    results = []\n",
        "\n",
        "    for filename in os.listdir(directory):\n",
        "        image_path = os.path.join(directory, filename)\n",
        "\n",
        "        # Check if it's an image file\n",
        "        if filename.lower().endswith(('png', 'jpg', 'jpeg')):\n",
        "            result = predict_signature(image_path, model, class_names, threshold)\n",
        "            results.append({\n",
        "                \"Image\": filename,\n",
        "                \"Prediction\": result[\"Prediction\"],\n",
        "                \"Confidence\": result[\"Confidence\"]\n",
        "            })\n",
        "\n",
        "    return results"
      ],
      "metadata": {
        "id": "RrkHf5iTOB40"
      },
      "execution_count": null,
      "outputs": []
    },
    {
      "cell_type": "code",
      "source": [
        "from keras.models import load_model\n",
        "model = load_model('/content/79modelvgg16.h5')"
      ],
      "metadata": {
        "colab": {
          "base_uri": "https://localhost:8080/"
        },
        "id": "HPs_mAtQPYfn",
        "outputId": "987ce064-4607-4ff5-f4ec-81330165fbb0"
      },
      "execution_count": null,
      "outputs": [
        {
          "output_type": "stream",
          "name": "stderr",
          "text": [
            "WARNING:absl:Compiled the loaded model, but the compiled metrics have yet to be built. `model.compile_metrics` will be empty until you train or evaluate the model.\n"
          ]
        }
      ]
    },
    {
      "cell_type": "code",
      "source": [
        "## Limt to one target class\n",
        "import os\n",
        "def predict_single_class_signatures(directory, model, target_class, class_names, threshold=0.7):\n",
        "    \"\"\"\n",
        "    Predict whether all signature images in a directory belong to a single specified class.\n",
        "\n",
        "    Args:\n",
        "        directory (str): Path to the directory containing images.\n",
        "        model (keras.Model): The trained model.\n",
        "        target_class (str): The class to compare against.\n",
        "        class_names (list): List of all class names.\n",
        "        threshold (float): Confidence threshold to decide if the signature matches the target class.\n",
        "\n",
        "    Returns:\n",
        "        list: Results for each image in the directory.\n",
        "    \"\"\"\n",
        "    from tensorflow.keras.preprocessing.image import load_img, img_to_array\n",
        "    results = []\n",
        "\n",
        "    # Ensure target class is in class_names\n",
        "    if target_class not in class_names:\n",
        "        raise ValueError(f\"Target class '{target_class}' not found in class names: {class_names}\")\n",
        "\n",
        "    # Get the index of the target class\n",
        "    target_class_index = class_names.index(target_class)\n",
        "\n",
        "    for filename in os.listdir(directory):\n",
        "        image_path = os.path.join(directory, filename)\n",
        "\n",
        "        # Check if it's an image file\n",
        "        if filename.lower().endswith(('png', 'jpg', 'jpeg')):\n",
        "            # Preprocess and predict\n",
        "            image = load_img(image_path, target_size=(224, 224), color_mode='grayscale')\n",
        "            image = img_to_array(image)  # Shape: (224, 224, 1)\n",
        "\n",
        "            # Use the provided function to preprocess the grayscale image to RGB\n",
        "            image = preprocess_grayscale_to_rgb(image)  # Shape: (224, 224, 3)\n",
        "            image = image / 255.0  # Normalize pixel values\n",
        "            image = np.expand_dims(image, axis=0)  # Define or use an existing preprocessing function\n",
        "            predictions = model.predict(image)[0]  # Predict probabilities for all classes\n",
        "\n",
        "            confidence = predictions[target_class_index]\n",
        "            is_match = confidence >= threshold\n",
        "\n",
        "            # Record results\n",
        "            results.append({\n",
        "                \"Image\": filename,\n",
        "                \"Match\": is_match,\n",
        "                \"Confidence\": confidence,\n",
        "                \"Target Class\": target_class\n",
        "            })\n",
        "\n",
        "    return results\n"
      ],
      "metadata": {
        "id": "qWP9pBtJ7Gc2"
      },
      "execution_count": null,
      "outputs": []
    },
    {
      "cell_type": "code",
      "source": [
        "\n",
        "# Example usage\n",
        "test_directory = '/content/drive/MyDrive/Fraud1/data/forgeries'\n",
        "all_results = predict_all_signatures(test_directory, model, class_names)\n",
        "\n",
        "# Print results\n",
        "for result in all_results:\n",
        "    print(f\"Image: {result['Image']}, Prediction: {result['Prediction']}, Confidence: {result['Confidence']:.2f}\")\n"
      ],
      "metadata": {
        "colab": {
          "base_uri": "https://localhost:8080/",
          "height": 216
        },
        "id": "Kovu7xGD7ODh",
        "outputId": "a32dea7c-cf40-4e57-fa2a-2e8f226a6328"
      },
      "execution_count": null,
      "outputs": [
        {
          "output_type": "error",
          "ename": "NameError",
          "evalue": "name 'predict_all_signatures' is not defined",
          "traceback": [
            "\u001b[0;31m---------------------------------------------------------------------------\u001b[0m",
            "\u001b[0;31mNameError\u001b[0m                                 Traceback (most recent call last)",
            "\u001b[0;32m<ipython-input-5-3675d2ac8c34>\u001b[0m in \u001b[0;36m<cell line: 3>\u001b[0;34m()\u001b[0m\n\u001b[1;32m      1\u001b[0m \u001b[0;31m# Example usage\u001b[0m\u001b[0;34m\u001b[0m\u001b[0;34m\u001b[0m\u001b[0m\n\u001b[1;32m      2\u001b[0m \u001b[0mtest_directory\u001b[0m \u001b[0;34m=\u001b[0m \u001b[0;34m'/content/drive/MyDrive/Fraud1/data/forgeries'\u001b[0m\u001b[0;34m\u001b[0m\u001b[0;34m\u001b[0m\u001b[0m\n\u001b[0;32m----> 3\u001b[0;31m \u001b[0mall_results\u001b[0m \u001b[0;34m=\u001b[0m \u001b[0mpredict_all_signatures\u001b[0m\u001b[0;34m(\u001b[0m\u001b[0mtest_directory\u001b[0m\u001b[0;34m,\u001b[0m \u001b[0mmodel\u001b[0m\u001b[0;34m,\u001b[0m \u001b[0mclass_names\u001b[0m\u001b[0;34m)\u001b[0m\u001b[0;34m\u001b[0m\u001b[0;34m\u001b[0m\u001b[0m\n\u001b[0m\u001b[1;32m      4\u001b[0m \u001b[0;34m\u001b[0m\u001b[0m\n\u001b[1;32m      5\u001b[0m \u001b[0;31m# Print results\u001b[0m\u001b[0;34m\u001b[0m\u001b[0;34m\u001b[0m\u001b[0m\n",
            "\u001b[0;31mNameError\u001b[0m: name 'predict_all_signatures' is not defined"
          ]
        }
      ]
    },
    {
      "cell_type": "code",
      "source": [
        "directory = \"/content/\"\n",
        "target_class = \"anfal\"  # Compare against this class only\n",
        "class_names = ['anfal', 'dhia', 'lina', 'mehdi', 'raouf']  # Class names in your model\n",
        "\n",
        "results = predict_single_class_signatures(directory, model, target_class, class_names, threshold=0.7)\n",
        "\n",
        "# Print results\n",
        "for result in results:\n",
        "    print(f\"Image: {result['Image']}, Match: {result['Match']}, Confidence: {result['Confidence']:.2f}\")\n"
      ],
      "metadata": {
        "colab": {
          "base_uri": "https://localhost:8080/"
        },
        "id": "X8v2HVO4OAwE",
        "outputId": "7d1adfc4-ee65-40a0-bbf2-ded3a9b01e2e"
      },
      "execution_count": null,
      "outputs": [
        {
          "output_type": "stream",
          "name": "stdout",
          "text": [
            "\u001b[1m1/1\u001b[0m \u001b[32m━━━━━━━━━━━━━━━━━━━━\u001b[0m\u001b[37m\u001b[0m \u001b[1m1s\u001b[0m 839ms/step\n",
            "\u001b[1m1/1\u001b[0m \u001b[32m━━━━━━━━━━━━━━━━━━━━\u001b[0m\u001b[37m\u001b[0m \u001b[1m1s\u001b[0m 905ms/step\n",
            "\u001b[1m1/1\u001b[0m \u001b[32m━━━━━━━━━━━━━━━━━━━━\u001b[0m\u001b[37m\u001b[0m \u001b[1m1s\u001b[0m 565ms/step\n",
            "\u001b[1m1/1\u001b[0m \u001b[32m━━━━━━━━━━━━━━━━━━━━\u001b[0m\u001b[37m\u001b[0m \u001b[1m0s\u001b[0m 498ms/step\n",
            "\u001b[1m1/1\u001b[0m \u001b[32m━━━━━━━━━━━━━━━━━━━━\u001b[0m\u001b[37m\u001b[0m \u001b[1m0s\u001b[0m 477ms/step\n",
            "\u001b[1m1/1\u001b[0m \u001b[32m━━━━━━━━━━━━━━━━━━━━\u001b[0m\u001b[37m\u001b[0m \u001b[1m0s\u001b[0m 482ms/step\n",
            "\u001b[1m1/1\u001b[0m \u001b[32m━━━━━━━━━━━━━━━━━━━━\u001b[0m\u001b[37m\u001b[0m \u001b[1m1s\u001b[0m 500ms/step\n",
            "Image: LD1.jpg, Match: False, Confidence: 0.29\n",
            "Image: LD4.jpg, Match: False, Confidence: 0.07\n",
            "Image: IDK.jpg, Match: False, Confidence: 0.30\n",
            "Image: LD2.jpg, Match: False, Confidence: 0.13\n",
            "Image: anfal.jpg, Match: True, Confidence: 0.99\n",
            "Image: LD3.jpg, Match: False, Confidence: 0.13\n",
            "Image: ikd_at_this_poing.jpg, Match: True, Confidence: 0.95\n"
          ]
        }
      ]
    }
  ]
}