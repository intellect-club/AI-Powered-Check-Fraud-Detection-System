{
  "nbformat": 4,
  "nbformat_minor": 0,
  "metadata": {
    "colab": {
      "provenance": [],
      "gpuType": "T4"
    },
    "kernelspec": {
      "name": "python3",
      "display_name": "Python 3"
    },
    "language_info": {
      "name": "python"
    },
    "accelerator": "GPU"
  },
  "cells": [
    {
      "cell_type": "code",
      "execution_count": null,
      "metadata": {
        "colab": {
          "base_uri": "https://localhost:8080/"
        },
        "id": "yImrHHpktf6H",
        "outputId": "fdf73c82-1f7d-4e76-acb6-97be37777be5"
      },
      "outputs": [
        {
          "output_type": "stream",
          "name": "stdout",
          "text": [
            "Collecting ultralytics\n",
            "  Downloading ultralytics-8.3.39-py3-none-any.whl.metadata (35 kB)\n",
            "Collecting roboflow\n",
            "  Downloading roboflow-1.1.49-py3-none-any.whl.metadata (9.7 kB)\n",
            "Requirement already satisfied: numpy>=1.23.0 in /usr/local/lib/python3.10/dist-packages (from ultralytics) (1.26.4)\n",
            "Requirement already satisfied: matplotlib>=3.3.0 in /usr/local/lib/python3.10/dist-packages (from ultralytics) (3.8.0)\n",
            "Requirement already satisfied: opencv-python>=4.6.0 in /usr/local/lib/python3.10/dist-packages (from ultralytics) (4.10.0.84)\n",
            "Requirement already satisfied: pillow>=7.1.2 in /usr/local/lib/python3.10/dist-packages (from ultralytics) (11.0.0)\n",
            "Requirement already satisfied: pyyaml>=5.3.1 in /usr/local/lib/python3.10/dist-packages (from ultralytics) (6.0.2)\n",
            "Requirement already satisfied: requests>=2.23.0 in /usr/local/lib/python3.10/dist-packages (from ultralytics) (2.32.3)\n",
            "Requirement already satisfied: scipy>=1.4.1 in /usr/local/lib/python3.10/dist-packages (from ultralytics) (1.13.1)\n",
            "Requirement already satisfied: torch>=1.8.0 in /usr/local/lib/python3.10/dist-packages (from ultralytics) (2.5.1+cu121)\n",
            "Requirement already satisfied: torchvision>=0.9.0 in /usr/local/lib/python3.10/dist-packages (from ultralytics) (0.20.1+cu121)\n",
            "Requirement already satisfied: tqdm>=4.64.0 in /usr/local/lib/python3.10/dist-packages (from ultralytics) (4.66.6)\n",
            "Requirement already satisfied: psutil in /usr/local/lib/python3.10/dist-packages (from ultralytics) (5.9.5)\n",
            "Requirement already satisfied: py-cpuinfo in /usr/local/lib/python3.10/dist-packages (from ultralytics) (9.0.0)\n",
            "Requirement already satisfied: pandas>=1.1.4 in /usr/local/lib/python3.10/dist-packages (from ultralytics) (2.2.2)\n",
            "Requirement already satisfied: seaborn>=0.11.0 in /usr/local/lib/python3.10/dist-packages (from ultralytics) (0.13.2)\n",
            "Collecting ultralytics-thop>=2.0.0 (from ultralytics)\n",
            "  Downloading ultralytics_thop-2.0.12-py3-none-any.whl.metadata (9.4 kB)\n",
            "Requirement already satisfied: certifi in /usr/local/lib/python3.10/dist-packages (from roboflow) (2024.8.30)\n",
            "Collecting idna==3.7 (from roboflow)\n",
            "  Downloading idna-3.7-py3-none-any.whl.metadata (9.9 kB)\n",
            "Requirement already satisfied: cycler in /usr/local/lib/python3.10/dist-packages (from roboflow) (0.12.1)\n",
            "Requirement already satisfied: kiwisolver>=1.3.1 in /usr/local/lib/python3.10/dist-packages (from roboflow) (1.4.7)\n",
            "Requirement already satisfied: opencv-python-headless==4.10.0.84 in /usr/local/lib/python3.10/dist-packages (from roboflow) (4.10.0.84)\n",
            "Requirement already satisfied: python-dateutil in /usr/local/lib/python3.10/dist-packages (from roboflow) (2.8.2)\n",
            "Collecting python-dotenv (from roboflow)\n",
            "  Downloading python_dotenv-1.0.1-py3-none-any.whl.metadata (23 kB)\n",
            "Requirement already satisfied: six in /usr/local/lib/python3.10/dist-packages (from roboflow) (1.16.0)\n",
            "Requirement already satisfied: urllib3>=1.26.6 in /usr/local/lib/python3.10/dist-packages (from roboflow) (2.2.3)\n",
            "Requirement already satisfied: requests-toolbelt in /usr/local/lib/python3.10/dist-packages (from roboflow) (1.0.0)\n",
            "Collecting filetype (from roboflow)\n",
            "  Downloading filetype-1.2.0-py2.py3-none-any.whl.metadata (6.5 kB)\n",
            "Requirement already satisfied: contourpy>=1.0.1 in /usr/local/lib/python3.10/dist-packages (from matplotlib>=3.3.0->ultralytics) (1.3.1)\n",
            "Requirement already satisfied: fonttools>=4.22.0 in /usr/local/lib/python3.10/dist-packages (from matplotlib>=3.3.0->ultralytics) (4.55.0)\n",
            "Requirement already satisfied: packaging>=20.0 in /usr/local/lib/python3.10/dist-packages (from matplotlib>=3.3.0->ultralytics) (24.2)\n",
            "Requirement already satisfied: pyparsing>=2.3.1 in /usr/local/lib/python3.10/dist-packages (from matplotlib>=3.3.0->ultralytics) (3.2.0)\n",
            "Requirement already satisfied: pytz>=2020.1 in /usr/local/lib/python3.10/dist-packages (from pandas>=1.1.4->ultralytics) (2024.2)\n",
            "Requirement already satisfied: tzdata>=2022.7 in /usr/local/lib/python3.10/dist-packages (from pandas>=1.1.4->ultralytics) (2024.2)\n",
            "Requirement already satisfied: charset-normalizer<4,>=2 in /usr/local/lib/python3.10/dist-packages (from requests>=2.23.0->ultralytics) (3.4.0)\n",
            "Requirement already satisfied: filelock in /usr/local/lib/python3.10/dist-packages (from torch>=1.8.0->ultralytics) (3.16.1)\n",
            "Requirement already satisfied: typing-extensions>=4.8.0 in /usr/local/lib/python3.10/dist-packages (from torch>=1.8.0->ultralytics) (4.12.2)\n",
            "Requirement already satisfied: networkx in /usr/local/lib/python3.10/dist-packages (from torch>=1.8.0->ultralytics) (3.4.2)\n",
            "Requirement already satisfied: jinja2 in /usr/local/lib/python3.10/dist-packages (from torch>=1.8.0->ultralytics) (3.1.4)\n",
            "Requirement already satisfied: fsspec in /usr/local/lib/python3.10/dist-packages (from torch>=1.8.0->ultralytics) (2024.10.0)\n",
            "Requirement already satisfied: sympy==1.13.1 in /usr/local/lib/python3.10/dist-packages (from torch>=1.8.0->ultralytics) (1.13.1)\n",
            "Requirement already satisfied: mpmath<1.4,>=1.1.0 in /usr/local/lib/python3.10/dist-packages (from sympy==1.13.1->torch>=1.8.0->ultralytics) (1.3.0)\n",
            "Requirement already satisfied: MarkupSafe>=2.0 in /usr/local/lib/python3.10/dist-packages (from jinja2->torch>=1.8.0->ultralytics) (3.0.2)\n",
            "Downloading ultralytics-8.3.39-py3-none-any.whl (896 kB)\n",
            "\u001b[2K   \u001b[90m━━━━━━━━━━━━━━━━━━━━━━━━━━━━━━━━━━━━━━━━\u001b[0m \u001b[32m896.9/896.9 kB\u001b[0m \u001b[31m46.3 MB/s\u001b[0m eta \u001b[36m0:00:00\u001b[0m\n",
            "\u001b[?25hDownloading roboflow-1.1.49-py3-none-any.whl (80 kB)\n",
            "\u001b[2K   \u001b[90m━━━━━━━━━━━━━━━━━━━━━━━━━━━━━━━━━━━━━━━━\u001b[0m \u001b[32m80.9/80.9 kB\u001b[0m \u001b[31m7.0 MB/s\u001b[0m eta \u001b[36m0:00:00\u001b[0m\n",
            "\u001b[?25hDownloading idna-3.7-py3-none-any.whl (66 kB)\n",
            "\u001b[2K   \u001b[90m━━━━━━━━━━━━━━━━━━━━━━━━━━━━━━━━━━━━━━━━\u001b[0m \u001b[32m66.8/66.8 kB\u001b[0m \u001b[31m6.5 MB/s\u001b[0m eta \u001b[36m0:00:00\u001b[0m\n",
            "\u001b[?25hDownloading ultralytics_thop-2.0.12-py3-none-any.whl (26 kB)\n",
            "Downloading filetype-1.2.0-py2.py3-none-any.whl (19 kB)\n",
            "Downloading python_dotenv-1.0.1-py3-none-any.whl (19 kB)\n",
            "Installing collected packages: filetype, python-dotenv, idna, ultralytics-thop, ultralytics, roboflow\n",
            "  Attempting uninstall: idna\n",
            "    Found existing installation: idna 3.10\n",
            "    Uninstalling idna-3.10:\n",
            "      Successfully uninstalled idna-3.10\n",
            "Successfully installed filetype-1.2.0 idna-3.7 python-dotenv-1.0.1 roboflow-1.1.49 ultralytics-8.3.39 ultralytics-thop-2.0.12\n"
          ]
        }
      ],
      "source": [
        "!pip install ultralytics roboflow"
      ]
    },
    {
      "cell_type": "code",
      "source": [
        "!pip install inference_sdk"
      ],
      "metadata": {
        "colab": {
          "base_uri": "https://localhost:8080/",
          "height": 1000
        },
        "id": "ZIAPjxWgthva",
        "outputId": "83b0636d-cff2-44d8-b24a-a2491de32e86"
      },
      "execution_count": null,
      "outputs": [
        {
          "output_type": "stream",
          "name": "stdout",
          "text": [
            "Collecting inference_sdk\n",
            "  Downloading inference_sdk-0.29.0-py3-none-any.whl.metadata (11 kB)\n",
            "Requirement already satisfied: requests<3.0.0,>=2.32.0 in /usr/local/lib/python3.10/dist-packages (from inference_sdk) (2.32.3)\n",
            "Collecting dataclasses-json~=0.6.0 (from inference_sdk)\n",
            "  Downloading dataclasses_json-0.6.7-py3-none-any.whl.metadata (25 kB)\n",
            "Requirement already satisfied: opencv-python<=4.10.0.84,>=4.8.1.78 in /usr/local/lib/python3.10/dist-packages (from inference_sdk) (4.10.0.84)\n",
            "Collecting pillow<11.0,>=9.0.0 (from inference_sdk)\n",
            "  Downloading pillow-10.4.0-cp310-cp310-manylinux_2_28_x86_64.whl.metadata (9.2 kB)\n",
            "Collecting supervision<=0.22.0,>=0.21.0 (from inference_sdk)\n",
            "  Downloading supervision-0.22.0-py3-none-any.whl.metadata (13 kB)\n",
            "Requirement already satisfied: numpy<=1.26.4 in /usr/local/lib/python3.10/dist-packages (from inference_sdk) (1.26.4)\n",
            "Collecting aiohttp<=3.10.11,>=3.9.0 (from inference_sdk)\n",
            "  Downloading aiohttp-3.10.11-cp310-cp310-manylinux_2_17_x86_64.manylinux2014_x86_64.whl.metadata (7.7 kB)\n",
            "Collecting backoff~=2.2.0 (from inference_sdk)\n",
            "  Downloading backoff-2.2.1-py3-none-any.whl.metadata (14 kB)\n",
            "Requirement already satisfied: py-cpuinfo~=9.0.0 in /usr/local/lib/python3.10/dist-packages (from inference_sdk) (9.0.0)\n",
            "Requirement already satisfied: aiohappyeyeballs>=2.3.0 in /usr/local/lib/python3.10/dist-packages (from aiohttp<=3.10.11,>=3.9.0->inference_sdk) (2.4.3)\n",
            "Requirement already satisfied: aiosignal>=1.1.2 in /usr/local/lib/python3.10/dist-packages (from aiohttp<=3.10.11,>=3.9.0->inference_sdk) (1.3.1)\n",
            "Requirement already satisfied: attrs>=17.3.0 in /usr/local/lib/python3.10/dist-packages (from aiohttp<=3.10.11,>=3.9.0->inference_sdk) (24.2.0)\n",
            "Requirement already satisfied: frozenlist>=1.1.1 in /usr/local/lib/python3.10/dist-packages (from aiohttp<=3.10.11,>=3.9.0->inference_sdk) (1.5.0)\n",
            "Requirement already satisfied: multidict<7.0,>=4.5 in /usr/local/lib/python3.10/dist-packages (from aiohttp<=3.10.11,>=3.9.0->inference_sdk) (6.1.0)\n",
            "Requirement already satisfied: yarl<2.0,>=1.12.0 in /usr/local/lib/python3.10/dist-packages (from aiohttp<=3.10.11,>=3.9.0->inference_sdk) (1.17.2)\n",
            "Requirement already satisfied: async-timeout<6.0,>=4.0 in /usr/local/lib/python3.10/dist-packages (from aiohttp<=3.10.11,>=3.9.0->inference_sdk) (4.0.3)\n",
            "Collecting marshmallow<4.0.0,>=3.18.0 (from dataclasses-json~=0.6.0->inference_sdk)\n",
            "  Downloading marshmallow-3.23.1-py3-none-any.whl.metadata (7.5 kB)\n",
            "Collecting typing-inspect<1,>=0.4.0 (from dataclasses-json~=0.6.0->inference_sdk)\n",
            "  Downloading typing_inspect-0.9.0-py3-none-any.whl.metadata (1.5 kB)\n",
            "Requirement already satisfied: charset-normalizer<4,>=2 in /usr/local/lib/python3.10/dist-packages (from requests<3.0.0,>=2.32.0->inference_sdk) (3.4.0)\n",
            "Requirement already satisfied: idna<4,>=2.5 in /usr/local/lib/python3.10/dist-packages (from requests<3.0.0,>=2.32.0->inference_sdk) (3.7)\n",
            "Requirement already satisfied: urllib3<3,>=1.21.1 in /usr/local/lib/python3.10/dist-packages (from requests<3.0.0,>=2.32.0->inference_sdk) (2.2.3)\n",
            "Requirement already satisfied: certifi>=2017.4.17 in /usr/local/lib/python3.10/dist-packages (from requests<3.0.0,>=2.32.0->inference_sdk) (2024.8.30)\n",
            "Requirement already satisfied: defusedxml<0.8.0,>=0.7.1 in /usr/local/lib/python3.10/dist-packages (from supervision<=0.22.0,>=0.21.0->inference_sdk) (0.7.1)\n",
            "Requirement already satisfied: matplotlib>=3.6.0 in /usr/local/lib/python3.10/dist-packages (from supervision<=0.22.0,>=0.21.0->inference_sdk) (3.8.0)\n",
            "Requirement already satisfied: opencv-python-headless>=4.5.5.64 in /usr/local/lib/python3.10/dist-packages (from supervision<=0.22.0,>=0.21.0->inference_sdk) (4.10.0.84)\n",
            "Requirement already satisfied: pyyaml>=5.3 in /usr/local/lib/python3.10/dist-packages (from supervision<=0.22.0,>=0.21.0->inference_sdk) (6.0.2)\n",
            "Requirement already satisfied: scipy<2.0.0,>=1.10.0 in /usr/local/lib/python3.10/dist-packages (from supervision<=0.22.0,>=0.21.0->inference_sdk) (1.13.1)\n",
            "Requirement already satisfied: packaging>=17.0 in /usr/local/lib/python3.10/dist-packages (from marshmallow<4.0.0,>=3.18.0->dataclasses-json~=0.6.0->inference_sdk) (24.2)\n",
            "Requirement already satisfied: contourpy>=1.0.1 in /usr/local/lib/python3.10/dist-packages (from matplotlib>=3.6.0->supervision<=0.22.0,>=0.21.0->inference_sdk) (1.3.1)\n",
            "Requirement already satisfied: cycler>=0.10 in /usr/local/lib/python3.10/dist-packages (from matplotlib>=3.6.0->supervision<=0.22.0,>=0.21.0->inference_sdk) (0.12.1)\n",
            "Requirement already satisfied: fonttools>=4.22.0 in /usr/local/lib/python3.10/dist-packages (from matplotlib>=3.6.0->supervision<=0.22.0,>=0.21.0->inference_sdk) (4.55.0)\n",
            "Requirement already satisfied: kiwisolver>=1.0.1 in /usr/local/lib/python3.10/dist-packages (from matplotlib>=3.6.0->supervision<=0.22.0,>=0.21.0->inference_sdk) (1.4.7)\n",
            "Requirement already satisfied: pyparsing>=2.3.1 in /usr/local/lib/python3.10/dist-packages (from matplotlib>=3.6.0->supervision<=0.22.0,>=0.21.0->inference_sdk) (3.2.0)\n",
            "Requirement already satisfied: python-dateutil>=2.7 in /usr/local/lib/python3.10/dist-packages (from matplotlib>=3.6.0->supervision<=0.22.0,>=0.21.0->inference_sdk) (2.8.2)\n",
            "Requirement already satisfied: typing-extensions>=4.1.0 in /usr/local/lib/python3.10/dist-packages (from multidict<7.0,>=4.5->aiohttp<=3.10.11,>=3.9.0->inference_sdk) (4.12.2)\n",
            "Collecting mypy-extensions>=0.3.0 (from typing-inspect<1,>=0.4.0->dataclasses-json~=0.6.0->inference_sdk)\n",
            "  Downloading mypy_extensions-1.0.0-py3-none-any.whl.metadata (1.1 kB)\n",
            "Requirement already satisfied: propcache>=0.2.0 in /usr/local/lib/python3.10/dist-packages (from yarl<2.0,>=1.12.0->aiohttp<=3.10.11,>=3.9.0->inference_sdk) (0.2.0)\n",
            "Requirement already satisfied: six>=1.5 in /usr/local/lib/python3.10/dist-packages (from python-dateutil>=2.7->matplotlib>=3.6.0->supervision<=0.22.0,>=0.21.0->inference_sdk) (1.16.0)\n",
            "Downloading inference_sdk-0.29.0-py3-none-any.whl (33 kB)\n",
            "Downloading aiohttp-3.10.11-cp310-cp310-manylinux_2_17_x86_64.manylinux2014_x86_64.whl (1.2 MB)\n",
            "\u001b[2K   \u001b[90m━━━━━━━━━━━━━━━━━━━━━━━━━━━━━━━━━━━━━━━━\u001b[0m \u001b[32m1.2/1.2 MB\u001b[0m \u001b[31m52.0 MB/s\u001b[0m eta \u001b[36m0:00:00\u001b[0m\n",
            "\u001b[?25hDownloading backoff-2.2.1-py3-none-any.whl (15 kB)\n",
            "Downloading dataclasses_json-0.6.7-py3-none-any.whl (28 kB)\n",
            "Downloading pillow-10.4.0-cp310-cp310-manylinux_2_28_x86_64.whl (4.5 MB)\n",
            "\u001b[2K   \u001b[90m━━━━━━━━━━━━━━━━━━━━━━━━━━━━━━━━━━━━━━━━\u001b[0m \u001b[32m4.5/4.5 MB\u001b[0m \u001b[31m103.6 MB/s\u001b[0m eta \u001b[36m0:00:00\u001b[0m\n",
            "\u001b[?25hDownloading supervision-0.22.0-py3-none-any.whl (135 kB)\n",
            "\u001b[2K   \u001b[90m━━━━━━━━━━━━━━━━━━━━━━━━━━━━━━━━━━━━━━━━\u001b[0m \u001b[32m135.7/135.7 kB\u001b[0m \u001b[31m12.6 MB/s\u001b[0m eta \u001b[36m0:00:00\u001b[0m\n",
            "\u001b[?25hDownloading marshmallow-3.23.1-py3-none-any.whl (49 kB)\n",
            "\u001b[2K   \u001b[90m━━━━━━━━━━━━━━━━━━━━━━━━━━━━━━━━━━━━━━━━\u001b[0m \u001b[32m49.5/49.5 kB\u001b[0m \u001b[31m4.2 MB/s\u001b[0m eta \u001b[36m0:00:00\u001b[0m\n",
            "\u001b[?25hDownloading typing_inspect-0.9.0-py3-none-any.whl (8.8 kB)\n",
            "Downloading mypy_extensions-1.0.0-py3-none-any.whl (4.7 kB)\n",
            "Installing collected packages: pillow, mypy-extensions, marshmallow, backoff, typing-inspect, supervision, dataclasses-json, aiohttp, inference_sdk\n",
            "  Attempting uninstall: pillow\n",
            "    Found existing installation: pillow 11.0.0\n",
            "    Uninstalling pillow-11.0.0:\n",
            "      Successfully uninstalled pillow-11.0.0\n",
            "  Attempting uninstall: aiohttp\n",
            "    Found existing installation: aiohttp 3.11.2\n",
            "    Uninstalling aiohttp-3.11.2:\n",
            "      Successfully uninstalled aiohttp-3.11.2\n",
            "Successfully installed aiohttp-3.10.11 backoff-2.2.1 dataclasses-json-0.6.7 inference_sdk-0.29.0 marshmallow-3.23.1 mypy-extensions-1.0.0 pillow-10.4.0 supervision-0.22.0 typing-inspect-0.9.0\n"
          ]
        },
        {
          "output_type": "display_data",
          "data": {
            "application/vnd.colab-display-data+json": {
              "pip_warning": {
                "packages": [
                  "PIL"
                ]
              },
              "id": "3bd2533b113f4c7f8323286348175e71"
            }
          },
          "metadata": {}
        }
      ]
    },
    {
      "cell_type": "code",
      "source": [
        "from ultralytics import YOLO\n",
        "\n",
        "model = YOLO('yolov8n.yaml')\n",
        "model = YOLO('yolov8n.pt')\n",
        "model = YOLO('yolov8n.yaml').load('yolov8x.pt')\n",
        "\n"
      ],
      "metadata": {
        "colab": {
          "base_uri": "https://localhost:8080/"
        },
        "id": "c7MQrpL5trW2",
        "outputId": "f2bf79a7-7fcd-49d6-b431-d38e0939dcb0"
      },
      "execution_count": null,
      "outputs": [
        {
          "output_type": "stream",
          "name": "stdout",
          "text": [
            "Creating new Ultralytics Settings v0.0.6 file ✅ \n",
            "View Ultralytics Settings with 'yolo settings' or at '/root/.config/Ultralytics/settings.json'\n",
            "Update Settings with 'yolo settings key=value', i.e. 'yolo settings runs_dir=path/to/dir'. For help see https://docs.ultralytics.com/quickstart/#ultralytics-settings.\n",
            "Downloading https://github.com/ultralytics/assets/releases/download/v8.3.0/yolov8n.pt to 'yolov8n.pt'...\n"
          ]
        },
        {
          "output_type": "stream",
          "name": "stderr",
          "text": [
            "100%|██████████| 6.25M/6.25M [00:00<00:00, 311MB/s]\n"
          ]
        },
        {
          "output_type": "stream",
          "name": "stdout",
          "text": [
            "Downloading https://github.com/ultralytics/assets/releases/download/v8.3.0/yolov8x.pt to 'yolov8x.pt'...\n"
          ]
        },
        {
          "output_type": "stream",
          "name": "stderr",
          "text": [
            "100%|██████████| 131M/131M [00:00<00:00, 404MB/s]\n"
          ]
        },
        {
          "output_type": "stream",
          "name": "stdout",
          "text": [
            "Transferred 64/355 items from pretrained weights\n"
          ]
        }
      ]
    },
    {
      "cell_type": "code",
      "source": [
        "!curl -L \"link-from-roboflow\" > roboflow.zip; unzip roboflow.zip; rm roboflow.zip"
      ],
      "metadata": {
        "colab": {
          "base_uri": "https://localhost:8080/"
        },
        "id": "Mbg1pSgYtwC8",
        "outputId": "fa1cafd7-f5c9-4af3-8f6d-e855ece58290"
      },
      "execution_count": null,
      "outputs": [
        {
          "output_type": "stream",
          "name": "stdout",
          "text": [
            "  % Total    % Received % Xferd  Average Speed   Time    Time     Time  Current\n",
            "                                 Dload  Upload   Total   Spent    Left  Speed\n",
            "100   903  100   903    0     0   2059      0 --:--:-- --:--:-- --:--:--  2056\n",
            "100 17.5M  100 17.5M    0     0  4105k      0  0:00:04  0:00:04 --:--:-- 6568k\n",
            "Archive:  roboflow.zip\n",
            " extracting: README.dataset.txt      \n",
            " extracting: README.roboflow.txt     \n",
            " extracting: data.yaml               \n",
            "   creating: test/\n",
            "   creating: test/images/\n",
            " extracting: test/images/Ar_16_An_16_TNR_16_Image100_jpg.rf.54e9ca55b3aa2b5496a9aa66d91a0173.jpg  \n",
            " extracting: test/images/Ar_16_An_16_TNR_16_Image12_jpg.rf.33ecbdfc9331c02635fcf0513747e712.jpg  \n",
            " extracting: test/images/Ar_16_An_16_TNR_16_Image21_jpg.rf.2375eb7396d50db20bca47e00055197e.jpg  \n",
            " extracting: test/images/Ar_16_An_16_TNR_16_Image27_jpg.rf.eb92e1bb507d9751a86745e7f7001d5b.jpg  \n",
            " extracting: test/images/Ar_16_An_16_TNR_16_Image63_jpg.rf.d5165e234d5635481b7c285eb7350977.jpg  \n",
            " extracting: test/images/Ar_16_An_16_TNR_16_Image69_jpg.rf.d0078600b21b61dfcbfa2b751abafb45.jpg  \n",
            " extracting: test/images/Ar_16_An_16_TNR_16_Image85_jpg.rf.5ad77a05c2163774ed49b7751c6c56b3.jpg  \n",
            " extracting: test/images/Ar_18_An_18_TNR_18_Image105_jpg.rf.a83ab843d69f1c1d246a3e9a0a36d9e3.jpg  \n",
            " extracting: test/images/Ar_18_An_18_TNR_18_Image107_jpg.rf.50bec502b135f7558b3cdcacb7bb2177.jpg  \n",
            " extracting: test/images/Ar_18_An_18_TNR_18_Image112_jpg.rf.10ff277f965e4a67d0a50cd8a68186a6.jpg  \n",
            " extracting: test/images/Ar_18_An_18_TNR_18_Image153_jpg.rf.1fc3e698420179ea6e7eaf999b576daf.jpg  \n",
            " extracting: test/images/Ar_18_An_18_TNR_18_Image165_jpg.rf.f9872bc78200bdecb6d91e2589c5783d.jpg  \n",
            " extracting: test/images/Ar_18_An_18_TNR_18_Image179_jpg.rf.95c53f4dc07218e900c2c875fafa9a54.jpg  \n",
            " extracting: test/images/Ar_20_An_20_TNR_20_Image205_jpg.rf.92154263e22010ea104853f0223f5496.jpg  \n",
            " extracting: test/images/Ar_20_An_20_TNR_20_Image208_jpg.rf.ef6420dfbedd7e91058de62af18cdb16.jpg  \n",
            " extracting: test/images/Ar_20_An_20_TNR_20_Image210_jpg.rf.9cfc12c47fa5c808f315a0cb0213f1c0.jpg  \n",
            " extracting: test/images/Ar_20_An_20_TNR_20_Image215_jpg.rf.d4ce81b16c09c49269baa7a8bbc49741.jpg  \n",
            " extracting: test/images/Ar_20_An_20_TNR_20_Image222_jpg.rf.bf5bff64975fe2bb276365d19fe8e9fe.jpg  \n",
            " extracting: test/images/Ar_20_An_20_TNR_20_Image224_jpg.rf.2a12acafe0d2a88028c0341b6eb6c52a.jpg  \n",
            " extracting: test/images/Ar_20_An_20_TNR_20_Image227_jpg.rf.5d1321d6a8e60ffb86c313827bf57e2b.jpg  \n",
            " extracting: test/images/Ar_20_An_20_TNR_20_Image238_jpg.rf.2313760fc0820acf22962c135b9501ae.jpg  \n",
            " extracting: test/images/Ar_20_An_20_TNR_20_Image242_jpg.rf.1bff5a883a882c16411b82faf682e8c5.jpg  \n",
            " extracting: test/images/Ar_20_An_20_TNR_20_Image261_jpg.rf.50598893730d1a639cf5abb867e970aa.jpg  \n",
            " extracting: test/images/Ar_20_An_20_TNR_20_Image267_jpg.rf.2ccb5752e53db1c1b088091a619958b3.jpg  \n",
            " extracting: test/images/Ar_20_An_20_TNR_20_Image272_jpg.rf.b8ac805e9434b3bfb483827ebb7cd99b.jpg  \n",
            " extracting: test/images/Ar_20_An_20_TNR_20_Image291_jpg.rf.b6547ffcccf3e5f7d26a5ff615d86f80.jpg  \n",
            " extracting: test/images/Ar_20_An_20_TNR_20_Image295_jpg.rf.8b977f5d645cbc4b71b41b27517c917a.jpg  \n",
            " extracting: test/images/Ar_20_An_20_TNR_20_Image299_jpg.rf.15ae8a511a2cf164af0e7902088c25f0.jpg  \n",
            " extracting: test/images/Ar_22_An_22_TNR_22_Image310_jpg.rf.d9f65a722c175ca7c3fbf36c120edb48.jpg  \n",
            " extracting: test/images/Ar_22_An_22_TNR_22_Image330_jpg.rf.b83236f889abcddf25177b589ec6834c.jpg  \n",
            " extracting: test/images/Ar_22_An_22_TNR_22_Image339_jpg.rf.38146db445b3f1e20361dc1afaa52803.jpg  \n",
            " extracting: test/images/Ar_22_An_22_TNR_22_Image352_jpg.rf.b9338c75dfc5f94fb3eaf385be64f035.jpg  \n",
            " extracting: test/images/Ar_22_An_22_TNR_22_Image354_jpg.rf.dc92d56fbb1dc8bec18c8abdcad094bb.jpg  \n",
            " extracting: test/images/Ar_22_An_22_TNR_22_Image375_jpg.rf.3a0564d8acb4bff0f043cc927a1dbddd.jpg  \n",
            " extracting: test/images/Ar_22_An_22_TNR_22_Image377_jpg.rf.8210300c75ef1899e986c8f68bc2304f.jpg  \n",
            " extracting: test/images/Ar_22_An_22_TNR_22_Image387_jpg.rf.e6abf8d1b095d3b541c8469a36de204c.jpg  \n",
            " extracting: test/images/Ar_22_An_22_TNR_22_Image394_jpg.rf.f2dd82eb4e4d6fba5fc3dfcebc526342.jpg  \n",
            " extracting: test/images/Ar_22_An_22_TNR_22_Image395_jpg.rf.40a1a121ae654d2ad37409273d885127.jpg  \n",
            " extracting: test/images/Ar_26_An_26_TNR_26_Image118_jpg.rf.70685a4299d4b7cf26e7e3f2f84fa04d.jpg  \n",
            " extracting: test/images/Ar_26_An_26_TNR_26_Image119_jpg.rf.dc7fda465d7e52a1a771de1cc5fe597c.jpg  \n",
            " extracting: test/images/Ar_26_An_26_TNR_26_Image155_jpg.rf.d15e911dde66c4ffac4a269f88df4242.jpg  \n",
            " extracting: test/images/Ar_26_An_26_TNR_26_Image161_jpg.rf.6a5454d2b6518473d1671071b753e561.jpg  \n",
            " extracting: test/images/Ar_26_An_26_TNR_26_Image196_jpg.rf.a0084351354692ec5e47fe4221ffd706.jpg  \n",
            " extracting: test/images/Ar_26_An_26_TNR_26_Image199_jpg.rf.fe1402471423e1f6c51ae59e3020c1d3.jpg  \n",
            " extracting: test/images/Ar_26_An_26_TNR_26_Image310_jpg.rf.8a8a9c7ae4164e2def4817558eb8a7b8.jpg  \n",
            " extracting: test/images/Ar_26_An_26_TNR_26_Image330_jpg.rf.ee420a5d6d8f25305ba44d48742a75a2.jpg  \n",
            " extracting: test/images/Ar_26_An_26_TNR_26_Image332_jpg.rf.e217a1e0ca2891ee5ceaa2c03853c3c6.jpg  \n",
            " extracting: test/images/Ar_26_An_26_TNR_26_Image351_jpg.rf.3552aa677a39c5b1c9d984c1c77fb9ca.jpg  \n",
            " extracting: test/images/Ar_26_An_26_TNR_26_Image354_jpg.rf.3ed7dff9e7efb2f7409433cb54780014.jpg  \n",
            " extracting: test/images/Ar_26_An_26_TNR_26_Image367_jpg.rf.edba6b1d01a74e67ec96ce764ebfe0e8.jpg  \n",
            " extracting: test/images/Ar_26_An_26_TNR_26_Image370_jpg.rf.99697e4ea0bee25454119cfb24451262.jpg  \n",
            " extracting: test/images/Ar_26_An_26_TNR_26_Image373_jpg.rf.b779b527277bde5ae363cc1658872fc5.jpg  \n",
            "   creating: test/labels/\n",
            " extracting: test/labels/Ar_16_An_16_TNR_16_Image100_jpg.rf.54e9ca55b3aa2b5496a9aa66d91a0173.txt  \n",
            " extracting: test/labels/Ar_16_An_16_TNR_16_Image12_jpg.rf.33ecbdfc9331c02635fcf0513747e712.txt  \n",
            " extracting: test/labels/Ar_16_An_16_TNR_16_Image21_jpg.rf.2375eb7396d50db20bca47e00055197e.txt  \n",
            " extracting: test/labels/Ar_16_An_16_TNR_16_Image27_jpg.rf.eb92e1bb507d9751a86745e7f7001d5b.txt  \n",
            " extracting: test/labels/Ar_16_An_16_TNR_16_Image63_jpg.rf.d5165e234d5635481b7c285eb7350977.txt  \n",
            " extracting: test/labels/Ar_16_An_16_TNR_16_Image69_jpg.rf.d0078600b21b61dfcbfa2b751abafb45.txt  \n",
            " extracting: test/labels/Ar_16_An_16_TNR_16_Image85_jpg.rf.5ad77a05c2163774ed49b7751c6c56b3.txt  \n",
            " extracting: test/labels/Ar_18_An_18_TNR_18_Image105_jpg.rf.a83ab843d69f1c1d246a3e9a0a36d9e3.txt  \n",
            " extracting: test/labels/Ar_18_An_18_TNR_18_Image107_jpg.rf.50bec502b135f7558b3cdcacb7bb2177.txt  \n",
            " extracting: test/labels/Ar_18_An_18_TNR_18_Image112_jpg.rf.10ff277f965e4a67d0a50cd8a68186a6.txt  \n",
            " extracting: test/labels/Ar_18_An_18_TNR_18_Image153_jpg.rf.1fc3e698420179ea6e7eaf999b576daf.txt  \n",
            " extracting: test/labels/Ar_18_An_18_TNR_18_Image165_jpg.rf.f9872bc78200bdecb6d91e2589c5783d.txt  \n",
            " extracting: test/labels/Ar_18_An_18_TNR_18_Image179_jpg.rf.95c53f4dc07218e900c2c875fafa9a54.txt  \n",
            " extracting: test/labels/Ar_20_An_20_TNR_20_Image205_jpg.rf.92154263e22010ea104853f0223f5496.txt  \n",
            " extracting: test/labels/Ar_20_An_20_TNR_20_Image208_jpg.rf.ef6420dfbedd7e91058de62af18cdb16.txt  \n",
            " extracting: test/labels/Ar_20_An_20_TNR_20_Image210_jpg.rf.9cfc12c47fa5c808f315a0cb0213f1c0.txt  \n",
            " extracting: test/labels/Ar_20_An_20_TNR_20_Image215_jpg.rf.d4ce81b16c09c49269baa7a8bbc49741.txt  \n",
            " extracting: test/labels/Ar_20_An_20_TNR_20_Image222_jpg.rf.bf5bff64975fe2bb276365d19fe8e9fe.txt  \n",
            " extracting: test/labels/Ar_20_An_20_TNR_20_Image224_jpg.rf.2a12acafe0d2a88028c0341b6eb6c52a.txt  \n",
            " extracting: test/labels/Ar_20_An_20_TNR_20_Image227_jpg.rf.5d1321d6a8e60ffb86c313827bf57e2b.txt  \n",
            " extracting: test/labels/Ar_20_An_20_TNR_20_Image238_jpg.rf.2313760fc0820acf22962c135b9501ae.txt  \n",
            " extracting: test/labels/Ar_20_An_20_TNR_20_Image242_jpg.rf.1bff5a883a882c16411b82faf682e8c5.txt  \n",
            " extracting: test/labels/Ar_20_An_20_TNR_20_Image261_jpg.rf.50598893730d1a639cf5abb867e970aa.txt  \n",
            " extracting: test/labels/Ar_20_An_20_TNR_20_Image267_jpg.rf.2ccb5752e53db1c1b088091a619958b3.txt  \n",
            " extracting: test/labels/Ar_20_An_20_TNR_20_Image272_jpg.rf.b8ac805e9434b3bfb483827ebb7cd99b.txt  \n",
            " extracting: test/labels/Ar_20_An_20_TNR_20_Image291_jpg.rf.b6547ffcccf3e5f7d26a5ff615d86f80.txt  \n",
            " extracting: test/labels/Ar_20_An_20_TNR_20_Image295_jpg.rf.8b977f5d645cbc4b71b41b27517c917a.txt  \n",
            " extracting: test/labels/Ar_20_An_20_TNR_20_Image299_jpg.rf.15ae8a511a2cf164af0e7902088c25f0.txt  \n",
            " extracting: test/labels/Ar_22_An_22_TNR_22_Image310_jpg.rf.d9f65a722c175ca7c3fbf36c120edb48.txt  \n",
            " extracting: test/labels/Ar_22_An_22_TNR_22_Image330_jpg.rf.b83236f889abcddf25177b589ec6834c.txt  \n",
            " extracting: test/labels/Ar_22_An_22_TNR_22_Image339_jpg.rf.38146db445b3f1e20361dc1afaa52803.txt  \n",
            " extracting: test/labels/Ar_22_An_22_TNR_22_Image352_jpg.rf.b9338c75dfc5f94fb3eaf385be64f035.txt  \n",
            " extracting: test/labels/Ar_22_An_22_TNR_22_Image354_jpg.rf.dc92d56fbb1dc8bec18c8abdcad094bb.txt  \n",
            " extracting: test/labels/Ar_22_An_22_TNR_22_Image375_jpg.rf.3a0564d8acb4bff0f043cc927a1dbddd.txt  \n",
            " extracting: test/labels/Ar_22_An_22_TNR_22_Image377_jpg.rf.8210300c75ef1899e986c8f68bc2304f.txt  \n",
            " extracting: test/labels/Ar_22_An_22_TNR_22_Image387_jpg.rf.e6abf8d1b095d3b541c8469a36de204c.txt  \n",
            " extracting: test/labels/Ar_22_An_22_TNR_22_Image394_jpg.rf.f2dd82eb4e4d6fba5fc3dfcebc526342.txt  \n",
            " extracting: test/labels/Ar_22_An_22_TNR_22_Image395_jpg.rf.40a1a121ae654d2ad37409273d885127.txt  \n",
            " extracting: test/labels/Ar_26_An_26_TNR_26_Image118_jpg.rf.70685a4299d4b7cf26e7e3f2f84fa04d.txt  \n",
            " extracting: test/labels/Ar_26_An_26_TNR_26_Image119_jpg.rf.dc7fda465d7e52a1a771de1cc5fe597c.txt  \n",
            " extracting: test/labels/Ar_26_An_26_TNR_26_Image155_jpg.rf.d15e911dde66c4ffac4a269f88df4242.txt  \n",
            " extracting: test/labels/Ar_26_An_26_TNR_26_Image161_jpg.rf.6a5454d2b6518473d1671071b753e561.txt  \n",
            " extracting: test/labels/Ar_26_An_26_TNR_26_Image196_jpg.rf.a0084351354692ec5e47fe4221ffd706.txt  \n",
            " extracting: test/labels/Ar_26_An_26_TNR_26_Image199_jpg.rf.fe1402471423e1f6c51ae59e3020c1d3.txt  \n",
            " extracting: test/labels/Ar_26_An_26_TNR_26_Image310_jpg.rf.8a8a9c7ae4164e2def4817558eb8a7b8.txt  \n",
            " extracting: test/labels/Ar_26_An_26_TNR_26_Image330_jpg.rf.ee420a5d6d8f25305ba44d48742a75a2.txt  \n",
            " extracting: test/labels/Ar_26_An_26_TNR_26_Image332_jpg.rf.e217a1e0ca2891ee5ceaa2c03853c3c6.txt  \n",
            " extracting: test/labels/Ar_26_An_26_TNR_26_Image351_jpg.rf.3552aa677a39c5b1c9d984c1c77fb9ca.txt  \n",
            " extracting: test/labels/Ar_26_An_26_TNR_26_Image354_jpg.rf.3ed7dff9e7efb2f7409433cb54780014.txt  \n",
            " extracting: test/labels/Ar_26_An_26_TNR_26_Image367_jpg.rf.edba6b1d01a74e67ec96ce764ebfe0e8.txt  \n",
            " extracting: test/labels/Ar_26_An_26_TNR_26_Image370_jpg.rf.99697e4ea0bee25454119cfb24451262.txt  \n",
            " extracting: test/labels/Ar_26_An_26_TNR_26_Image373_jpg.rf.b779b527277bde5ae363cc1658872fc5.txt  \n",
            "   creating: train/\n",
            "   creating: train/images/\n",
            " extracting: train/images/Ar_16_An_16_TNR_16_Image11_jpg.rf.425148b4db3d7706481314c1b736278d.jpg  \n",
            " extracting: train/images/Ar_16_An_16_TNR_16_Image13_jpg.rf.28720e61f9e4d6d88499865d61888d5c.jpg  \n",
            " extracting: train/images/Ar_16_An_16_TNR_16_Image14_jpg.rf.0db41e1c1897b2d8cc6e07640ae17911.jpg  \n",
            " extracting: train/images/Ar_16_An_16_TNR_16_Image15_jpg.rf.754c09bd81313ddb74ca5ed42b1798cf.jpg  \n",
            " extracting: train/images/Ar_16_An_16_TNR_16_Image16_jpg.rf.46af90ff57fc165efebceb7fafadd938.jpg  \n",
            " extracting: train/images/Ar_16_An_16_TNR_16_Image17_jpg.rf.2504f970eccd4fba020f0843d3b4f39f.jpg  \n",
            " extracting: train/images/Ar_16_An_16_TNR_16_Image19_jpg.rf.948adc07ce6579eb6bf8cd31dc4673c1.jpg  \n",
            " extracting: train/images/Ar_16_An_16_TNR_16_Image22_jpg.rf.5abab0a993c81752d936b2e74ae6e397.jpg  \n",
            " extracting: train/images/Ar_16_An_16_TNR_16_Image23_jpg.rf.f8c151941eae1ca4a66aa15b4795602f.jpg  \n",
            " extracting: train/images/Ar_16_An_16_TNR_16_Image24_jpg.rf.39dacf38f0991ed51c2b601e2bedf9f7.jpg  \n",
            " extracting: train/images/Ar_16_An_16_TNR_16_Image25_jpg.rf.703e57ab29def76558505c0d444c6a7c.jpg  \n",
            " extracting: train/images/Ar_16_An_16_TNR_16_Image26_jpg.rf.ca6c554cb44d5b3b213701a3b64c5aa2.jpg  \n",
            " extracting: train/images/Ar_16_An_16_TNR_16_Image28_jpg.rf.501b16d5d33e92d98ca566a6409767cc.jpg  \n",
            " extracting: train/images/Ar_16_An_16_TNR_16_Image29_jpg.rf.63bd4991e0670e1a8f75efd9a95ee7e6.jpg  \n",
            " extracting: train/images/Ar_16_An_16_TNR_16_Image31_jpg.rf.e9e0255deb67f55cc70aac498c50d6ac.jpg  \n",
            " extracting: train/images/Ar_16_An_16_TNR_16_Image32_jpg.rf.5390f1874a42d54bfcfd95b340475ac4.jpg  \n",
            " extracting: train/images/Ar_16_An_16_TNR_16_Image33_jpg.rf.52d62bf9442d3f7a669f0f4ee0165d94.jpg  \n",
            " extracting: train/images/Ar_16_An_16_TNR_16_Image34_jpg.rf.2fc881a640a925b4f4c34689e5f1a736.jpg  \n",
            " extracting: train/images/Ar_16_An_16_TNR_16_Image35_jpg.rf.4ffe346d21170c10c2f7f5fb71437d4f.jpg  \n",
            " extracting: train/images/Ar_16_An_16_TNR_16_Image36_jpg.rf.1c77c5219ca79f81648a205bd8ab008e.jpg  \n",
            " extracting: train/images/Ar_16_An_16_TNR_16_Image37_jpg.rf.1f41e420d391a20a2d9a414208237083.jpg  \n",
            " extracting: train/images/Ar_16_An_16_TNR_16_Image38_jpg.rf.7092f8357fb722cefa91a7213ca9aec1.jpg  \n",
            " extracting: train/images/Ar_16_An_16_TNR_16_Image40_jpg.rf.b9678646fcbf109268dcf02668ceb6f0.jpg  \n",
            " extracting: train/images/Ar_16_An_16_TNR_16_Image41_jpg.rf.692033dd4a8f1d968fd2c441f4f1be73.jpg  \n",
            " extracting: train/images/Ar_16_An_16_TNR_16_Image42_jpg.rf.081c6efdff7517bca79593e507732745.jpg  \n",
            " extracting: train/images/Ar_16_An_16_TNR_16_Image43_jpg.rf.377250a290c9f2a824241107d92ca155.jpg  \n",
            " extracting: train/images/Ar_16_An_16_TNR_16_Image44_jpg.rf.e3f765c9871c862ef429b6123cc2db73.jpg  \n",
            " extracting: train/images/Ar_16_An_16_TNR_16_Image46_jpg.rf.98da8cbd50b90c359985f0a836e1ec78.jpg  \n",
            " extracting: train/images/Ar_16_An_16_TNR_16_Image49_jpg.rf.4a7e6a30fa4b1bd0666ef1ad0300d2e7.jpg  \n",
            " extracting: train/images/Ar_16_An_16_TNR_16_Image50_jpg.rf.6cdfdb88812550adc35e9527a5e5a84b.jpg  \n",
            " extracting: train/images/Ar_16_An_16_TNR_16_Image51_jpg.rf.af8445eabda8f89240dc854911c00acd.jpg  \n",
            " extracting: train/images/Ar_16_An_16_TNR_16_Image52_jpg.rf.696a5b109d25214f7fedce699aa66230.jpg  \n",
            " extracting: train/images/Ar_16_An_16_TNR_16_Image53_jpg.rf.693819eb4b325d02e9ed2f4688878251.jpg  \n",
            " extracting: train/images/Ar_16_An_16_TNR_16_Image54_jpg.rf.29fc85841fefa51ae10a4b2b7fe3ffe8.jpg  \n",
            " extracting: train/images/Ar_16_An_16_TNR_16_Image56_jpg.rf.ca3d3ef7aed4966430574a8cd627b56f.jpg  \n",
            " extracting: train/images/Ar_16_An_16_TNR_16_Image57_jpg.rf.d9e43a5f6fa465e22e159afedc5f0ac2.jpg  \n",
            " extracting: train/images/Ar_16_An_16_TNR_16_Image58_jpg.rf.e5d5f9dd8db77b4060ee4e67f2396cfe.jpg  \n",
            " extracting: train/images/Ar_16_An_16_TNR_16_Image59_jpg.rf.de73a46531abff05d46bae8f3774ff7e.jpg  \n",
            " extracting: train/images/Ar_16_An_16_TNR_16_Image60_jpg.rf.bae52a2849aefdcf2cff41ff87442c71.jpg  \n",
            " extracting: train/images/Ar_16_An_16_TNR_16_Image61_jpg.rf.6cf93afbbfb83eb2dc66c44c2987dbd7.jpg  \n",
            " extracting: train/images/Ar_16_An_16_TNR_16_Image62_jpg.rf.2c260fbc097a660152ac2da98d94bfc4.jpg  \n",
            " extracting: train/images/Ar_16_An_16_TNR_16_Image64_jpg.rf.4027b5743f6aa28a3e64c2e0efcea136.jpg  \n",
            " extracting: train/images/Ar_16_An_16_TNR_16_Image66_jpg.rf.52bc7320f52c767f1a974fe81b6eb77e.jpg  \n",
            " extracting: train/images/Ar_16_An_16_TNR_16_Image67_jpg.rf.adecf2fb5df52cbd66df34e1e732f92e.jpg  \n",
            " extracting: train/images/Ar_16_An_16_TNR_16_Image68_jpg.rf.78f26599c413837202e3785111fb687e.jpg  \n",
            " extracting: train/images/Ar_16_An_16_TNR_16_Image70_jpg.rf.852327574002b6be5280789ff051bfd2.jpg  \n",
            " extracting: train/images/Ar_16_An_16_TNR_16_Image74_jpg.rf.6dee951596f8b704239ac54e4b7f413a.jpg  \n",
            " extracting: train/images/Ar_16_An_16_TNR_16_Image75_jpg.rf.4622b33078de76c609fec23c5b793580.jpg  \n",
            " extracting: train/images/Ar_16_An_16_TNR_16_Image76_jpg.rf.9520cdca8ad1032e0fd436f58fcca79e.jpg  \n",
            " extracting: train/images/Ar_16_An_16_TNR_16_Image77_jpg.rf.8dea9b697c5305be02e63ac683a0fcdc.jpg  \n",
            " extracting: train/images/Ar_16_An_16_TNR_16_Image78_jpg.rf.ec16fde2b90d0c4e3b0a8ce837a81386.jpg  \n",
            " extracting: train/images/Ar_16_An_16_TNR_16_Image79_jpg.rf.8920cfa7b9a69e9725969402ec66d970.jpg  \n",
            " extracting: train/images/Ar_16_An_16_TNR_16_Image80_jpg.rf.4aed67030ed3dd734ca3d9cb4f10cb4d.jpg  \n",
            " extracting: train/images/Ar_16_An_16_TNR_16_Image81_jpg.rf.9609c958fc564721878b901f1e505e26.jpg  \n",
            " extracting: train/images/Ar_16_An_16_TNR_16_Image82_jpg.rf.25d3c760fab05912724507af6b5c27ee.jpg  \n",
            " extracting: train/images/Ar_16_An_16_TNR_16_Image83_jpg.rf.c57381734e4a3eb773b8c4dcce15e692.jpg  \n",
            " extracting: train/images/Ar_16_An_16_TNR_16_Image84_jpg.rf.42fdc376f3a82e6d16263f72bd6b4d5b.jpg  \n",
            " extracting: train/images/Ar_16_An_16_TNR_16_Image86_jpg.rf.afdfd90946d973d51fdf6b39c6ca0cad.jpg  \n",
            " extracting: train/images/Ar_16_An_16_TNR_16_Image87_jpg.rf.f4448f36487eef5b0db8913f171926da.jpg  \n",
            " extracting: train/images/Ar_16_An_16_TNR_16_Image88_jpg.rf.faf7dad17d8f10e4da4be6e66ec0d0a6.jpg  \n",
            " extracting: train/images/Ar_16_An_16_TNR_16_Image89_jpg.rf.0397335f6a1130b4198aeb0d09c22d0f.jpg  \n",
            " extracting: train/images/Ar_16_An_16_TNR_16_Image90_jpg.rf.51c0af8f511f86c0b5b4e79a243a117b.jpg  \n",
            " extracting: train/images/Ar_16_An_16_TNR_16_Image91_jpg.rf.1b2b4e118ae85902c4f2c3acc2dbc06c.jpg  \n",
            " extracting: train/images/Ar_16_An_16_TNR_16_Image92_jpg.rf.f67e27f9ed3083a155fdeb6ce9f116ed.jpg  \n",
            " extracting: train/images/Ar_16_An_16_TNR_16_Image93_jpg.rf.36486d69e940e301d69045f7855569b3.jpg  \n",
            " extracting: train/images/Ar_16_An_16_TNR_16_Image98_jpg.rf.5084d38ee24373c61325fba3dc2480c9.jpg  \n",
            " extracting: train/images/Ar_16_An_16_TNR_16_Image99_jpg.rf.31e0e77f4c8b92ac7b98ced18c7ca79f.jpg  \n",
            " extracting: train/images/Ar_18_An_18_TNR_18_Image101_jpg.rf.93d35ef04201e54abd1b38b4b7394feb.jpg  \n",
            " extracting: train/images/Ar_18_An_18_TNR_18_Image103_jpg.rf.693e2f962a430b26e0d7de079334bbc5.jpg  \n",
            " extracting: train/images/Ar_18_An_18_TNR_18_Image104_jpg.rf.74943ca3a7d354dd8d748a303a500766.jpg  \n",
            " extracting: train/images/Ar_18_An_18_TNR_18_Image106_jpg.rf.2eb129020ce8f6b01b20ba0ff105021b.jpg  \n",
            " extracting: train/images/Ar_18_An_18_TNR_18_Image108_jpg.rf.9c73ff313bc3c57f7c271e286b539116.jpg  \n",
            " extracting: train/images/Ar_18_An_18_TNR_18_Image109_jpg.rf.704796f327cc68b9d6a6dda03a2e5f40.jpg  \n",
            " extracting: train/images/Ar_18_An_18_TNR_18_Image110_jpg.rf.42050872a27773b2e06c1668b7bb3896.jpg  \n",
            " extracting: train/images/Ar_18_An_18_TNR_18_Image113_jpg.rf.a9d32d3074004ad0c7bd7c2efa373d47.jpg  \n",
            " extracting: train/images/Ar_18_An_18_TNR_18_Image115_jpg.rf.d91c1f51e951f62e76b0d093ee882e42.jpg  \n",
            " extracting: train/images/Ar_18_An_18_TNR_18_Image116_jpg.rf.db51ebdcf4a4cd2568fe801aea7f488e.jpg  \n",
            " extracting: train/images/Ar_18_An_18_TNR_18_Image117_jpg.rf.fe1c8035cf04c7a945821a47c1d85ef7.jpg  \n",
            " extracting: train/images/Ar_18_An_18_TNR_18_Image118_jpg.rf.42c2a08567b999f7bdbec90a4ef1022c.jpg  \n",
            " extracting: train/images/Ar_18_An_18_TNR_18_Image131_jpg.rf.f52a540dec984d284337ca6d35d434f4.jpg  \n",
            " extracting: train/images/Ar_18_An_18_TNR_18_Image132_jpg.rf.1b0cb28f5e8cf311cc9f3b70d6a4a172.jpg  \n",
            " extracting: train/images/Ar_18_An_18_TNR_18_Image133_jpg.rf.7640d0f07f7f160702b08c30e61bd14d.jpg  \n",
            " extracting: train/images/Ar_18_An_18_TNR_18_Image134_jpg.rf.19f1fb4f5c3d54f5af12dc7a6c770a1f.jpg  \n",
            " extracting: train/images/Ar_18_An_18_TNR_18_Image135_jpg.rf.c9bd8106ff35eee82c7cd08427596108.jpg  \n",
            " extracting: train/images/Ar_18_An_18_TNR_18_Image136_jpg.rf.b7790fabb6c463961c97cbde8195d36f.jpg  \n",
            " extracting: train/images/Ar_18_An_18_TNR_18_Image137_jpg.rf.505dadfddb4fae7f43312d34ce42d720.jpg  \n",
            " extracting: train/images/Ar_18_An_18_TNR_18_Image138_jpg.rf.52ade90d69577dc1afe2bc5e82fa94b6.jpg  \n",
            " extracting: train/images/Ar_18_An_18_TNR_18_Image139_jpg.rf.87a3cd9464ba8511e4117937adadfeb6.jpg  \n",
            " extracting: train/images/Ar_18_An_18_TNR_18_Image140_jpg.rf.e1bed96ef8696262419738d03fab1ac3.jpg  \n",
            " extracting: train/images/Ar_18_An_18_TNR_18_Image141_jpg.rf.52c0d4f43ec1c0d407c4a7e73b76c634.jpg  \n",
            " extracting: train/images/Ar_18_An_18_TNR_18_Image142_jpg.rf.37a17623d0c5add24aa39749999e2aca.jpg  \n",
            " extracting: train/images/Ar_18_An_18_TNR_18_Image143_jpg.rf.6a07429fe940b7c4ad688b47131f315a.jpg  \n",
            " extracting: train/images/Ar_18_An_18_TNR_18_Image144_jpg.rf.9cc1b9dc5ae43aa0080825c9ca600409.jpg  \n",
            " extracting: train/images/Ar_18_An_18_TNR_18_Image145_jpg.rf.6680175fbe2d7be38b86b117530be401.jpg  \n",
            " extracting: train/images/Ar_18_An_18_TNR_18_Image146_jpg.rf.f113a35c5730f81ad3ae8df5018f1b12.jpg  \n",
            " extracting: train/images/Ar_18_An_18_TNR_18_Image147_jpg.rf.b8c756cd395c00a984959503c1fcbe7e.jpg  \n",
            " extracting: train/images/Ar_18_An_18_TNR_18_Image148_jpg.rf.a22c89f01e0c509452e528beb769833a.jpg  \n",
            " extracting: train/images/Ar_18_An_18_TNR_18_Image149_jpg.rf.e25a810ba5cb860260fd8c9e1d23f6d7.jpg  \n",
            " extracting: train/images/Ar_18_An_18_TNR_18_Image150_jpg.rf.aa14a9931a239285134b03ec5cfcecbe.jpg  \n",
            " extracting: train/images/Ar_18_An_18_TNR_18_Image151_jpg.rf.5b1fa2bc09c29da23a6e4ba2b1d6e152.jpg  \n",
            " extracting: train/images/Ar_18_An_18_TNR_18_Image152_jpg.rf.461e7473c3d0d5a8490b53e6eef21606.jpg  \n",
            " extracting: train/images/Ar_18_An_18_TNR_18_Image154_jpg.rf.216429d81ef9dee28b9ed0be91f6dc53.jpg  \n",
            " extracting: train/images/Ar_18_An_18_TNR_18_Image156_jpg.rf.83d331a1801e58f5bed1af19406bcb23.jpg  \n",
            " extracting: train/images/Ar_18_An_18_TNR_18_Image157_jpg.rf.cc9db7b3bce0093d7df12a5cc535fee9.jpg  \n",
            " extracting: train/images/Ar_18_An_18_TNR_18_Image158_jpg.rf.16661e5701d35096558d532a21fdc926.jpg  \n",
            " extracting: train/images/Ar_18_An_18_TNR_18_Image160_jpg.rf.4641aeb5b260df8ffad475f5c69cf65f.jpg  \n",
            " extracting: train/images/Ar_18_An_18_TNR_18_Image161_jpg.rf.2e96e8709dfd7db231e04a4b9d5df74d.jpg  \n",
            " extracting: train/images/Ar_18_An_18_TNR_18_Image162_jpg.rf.6d8d61d1900a2a995b789797ea6f9aac.jpg  \n",
            " extracting: train/images/Ar_18_An_18_TNR_18_Image163_jpg.rf.0edf16735ad9f0b6c4b38956c70c1a84.jpg  \n",
            " extracting: train/images/Ar_18_An_18_TNR_18_Image164_jpg.rf.3bb59519cc65bc5c428b10dd8a1acb1b.jpg  \n",
            " extracting: train/images/Ar_18_An_18_TNR_18_Image166_jpg.rf.10474148e25ce2951b1db4a169e41a47.jpg  \n",
            " extracting: train/images/Ar_18_An_18_TNR_18_Image167_jpg.rf.96f6211beaf5a21231c629532a4d46ef.jpg  \n",
            " extracting: train/images/Ar_18_An_18_TNR_18_Image168_jpg.rf.17a0de68b09ec008f35bd851acdd19e4.jpg  \n",
            " extracting: train/images/Ar_18_An_18_TNR_18_Image169_jpg.rf.d24d899ad9e1008fdd9f2a634ad6842d.jpg  \n",
            " extracting: train/images/Ar_18_An_18_TNR_18_Image170_jpg.rf.d15f21c51f4e0e1bc1f32e82e2c487a8.jpg  \n",
            " extracting: train/images/Ar_18_An_18_TNR_18_Image171_jpg.rf.9bdfe48a35966a71e05048c8a13c8edb.jpg  \n",
            " extracting: train/images/Ar_18_An_18_TNR_18_Image172_jpg.rf.71d2d91a74b1b583dae69c1bff5f9ec7.jpg  \n",
            " extracting: train/images/Ar_18_An_18_TNR_18_Image173_jpg.rf.14f7f04841a9fb9b7afb349df0338044.jpg  \n",
            " extracting: train/images/Ar_18_An_18_TNR_18_Image174_jpg.rf.2845f2ff7d649e6cc2b37748fe43ad0d.jpg  \n",
            " extracting: train/images/Ar_18_An_18_TNR_18_Image175_jpg.rf.d517fdc829d67edeaa23c1f9525822d2.jpg  \n",
            " extracting: train/images/Ar_18_An_18_TNR_18_Image178_jpg.rf.0ea5a1bc6b9dcbc73a18ff1140a28f5c.jpg  \n",
            " extracting: train/images/Ar_18_An_18_TNR_18_Image180_jpg.rf.f160dc6ee3f659ffaaedfa784c04147b.jpg  \n",
            " extracting: train/images/Ar_18_An_18_TNR_18_Image181_jpg.rf.9def225e1da7691008e1db6ea29db512.jpg  \n",
            " extracting: train/images/Ar_18_An_18_TNR_18_Image182_jpg.rf.1ec0e35dbd0269a7deff6f4dfe981e9a.jpg  \n",
            " extracting: train/images/Ar_18_An_18_TNR_18_Image183_jpg.rf.5a519602d6d62893bbf882b7fe08e316.jpg  \n",
            " extracting: train/images/Ar_18_An_18_TNR_18_Image184_jpg.rf.1b401a1c4484e7ffb2fddd9784da3aac.jpg  \n",
            " extracting: train/images/Ar_18_An_18_TNR_18_Image185_jpg.rf.e507d5bad0c70f57aad0235d65daa5ad.jpg  \n",
            " extracting: train/images/Ar_18_An_18_TNR_18_Image186_jpg.rf.081a7b936e4fdd32326dc44d4db63fd7.jpg  \n",
            " extracting: train/images/Ar_18_An_18_TNR_18_Image187_jpg.rf.1ba0ea72602dfc1b76ae14d98431bdde.jpg  \n",
            " extracting: train/images/Ar_18_An_18_TNR_18_Image188_jpg.rf.0af8644a78e4984343839d66f82013cd.jpg  \n",
            " extracting: train/images/Ar_18_An_18_TNR_18_Image189_jpg.rf.e709beaa2305799c963fc353284831db.jpg  \n",
            " extracting: train/images/Ar_18_An_18_TNR_18_Image190_jpg.rf.77d72738ef6b98a27a7f78cfd86443cd.jpg  \n",
            " extracting: train/images/Ar_18_An_18_TNR_18_Image191_jpg.rf.96d554ed5fe1a4dd8c1a2b884a8925f7.jpg  \n",
            " extracting: train/images/Ar_18_An_18_TNR_18_Image192_jpg.rf.915782eaa8f926dc9426da1d9e8887d8.jpg  \n",
            " extracting: train/images/Ar_18_An_18_TNR_18_Image194_jpg.rf.2329f08ce3519cc965c7483dfbcc8dad.jpg  \n",
            " extracting: train/images/Ar_18_An_18_TNR_18_Image195_jpg.rf.39d2a1d7bb8fbb8cf0ae91f133636e47.jpg  \n",
            " extracting: train/images/Ar_18_An_18_TNR_18_Image197_jpg.rf.d81945fe8d5ef48e398b13c1f4e283b4.jpg  \n",
            " extracting: train/images/Ar_18_An_18_TNR_18_Image198_jpg.rf.106e91ba521a3afa273d41f78a998f4d.jpg  \n",
            " extracting: train/images/Ar_18_An_18_TNR_18_Image199_jpg.rf.4326bc8e730d838d0cf92f11b11c9d10.jpg  \n",
            " extracting: train/images/Ar_20_An_20_TNR_20_Image201_jpg.rf.d540770b66c8233e33ff10ba801df44d.jpg  \n",
            " extracting: train/images/Ar_20_An_20_TNR_20_Image202_jpg.rf.cbdd94525bdde758f07742faa66a3cc6.jpg  \n",
            " extracting: train/images/Ar_20_An_20_TNR_20_Image204_jpg.rf.2f8490bbe5e038a2c2f415c1c9409030.jpg  \n",
            " extracting: train/images/Ar_20_An_20_TNR_20_Image206_jpg.rf.b8e418fab3cc3062c7986e271c4b6eaf.jpg  \n",
            " extracting: train/images/Ar_20_An_20_TNR_20_Image207_jpg.rf.81bf82ee87e6977ee9d4c9b6eca0d7d9.jpg  \n",
            " extracting: train/images/Ar_20_An_20_TNR_20_Image209_jpg.rf.1d9b0a2c612e52572383588b26dd8f4d.jpg  \n",
            " extracting: train/images/Ar_20_An_20_TNR_20_Image211_jpg.rf.f0d12309e3aa726cda27dd1d1a392c0e.jpg  \n",
            " extracting: train/images/Ar_20_An_20_TNR_20_Image212_jpg.rf.8ba2fbf1e10ee9ed633c7d6cdec840fc.jpg  \n",
            " extracting: train/images/Ar_20_An_20_TNR_20_Image214_jpg.rf.7720c59f33dd1ec644e94a0ca933ff9d.jpg  \n",
            " extracting: train/images/Ar_20_An_20_TNR_20_Image216_jpg.rf.fd65ffb1702fa4049826b6a39e055746.jpg  \n",
            " extracting: train/images/Ar_20_An_20_TNR_20_Image217_jpg.rf.810d2c5be9d5554d483cf8eb9f81f8c1.jpg  \n",
            " extracting: train/images/Ar_20_An_20_TNR_20_Image218_jpg.rf.a7891f4d2ecaca3cbedee4f2c0fa5fed.jpg  \n",
            " extracting: train/images/Ar_20_An_20_TNR_20_Image219_jpg.rf.fc75103c5cf9b1329ad702f113831138.jpg  \n",
            " extracting: train/images/Ar_20_An_20_TNR_20_Image221_jpg.rf.f5a0b790b31ff1894e5ef71a689b4b52.jpg  \n",
            " extracting: train/images/Ar_20_An_20_TNR_20_Image223_jpg.rf.2e3942043b3c2f5521d587beadbd460e.jpg  \n",
            " extracting: train/images/Ar_20_An_20_TNR_20_Image230_jpg.rf.a45f1d5d0bb3ecc217f15185c0b8d50e.jpg  \n",
            " extracting: train/images/Ar_20_An_20_TNR_20_Image231_jpg.rf.8d8dcfba06397456ff72cd0e27635de5.jpg  \n",
            " extracting: train/images/Ar_20_An_20_TNR_20_Image232_jpg.rf.2b021c6755e896a3827b5b4c54a03883.jpg  \n",
            " extracting: train/images/Ar_20_An_20_TNR_20_Image233_jpg.rf.318273456a581a6e582cadaa29c410d0.jpg  \n",
            " extracting: train/images/Ar_20_An_20_TNR_20_Image234_jpg.rf.016c67a803fa56b3e85359d73812b655.jpg  \n",
            " extracting: train/images/Ar_20_An_20_TNR_20_Image237_jpg.rf.6241deb124c3753ee7b319ef3d8435b0.jpg  \n",
            " extracting: train/images/Ar_20_An_20_TNR_20_Image240_jpg.rf.5d5211ae597ce5150164488be1f0ffa9.jpg  \n",
            " extracting: train/images/Ar_20_An_20_TNR_20_Image241_jpg.rf.78ecb542efa998be899ad6bb58f63e7b.jpg  \n",
            " extracting: train/images/Ar_20_An_20_TNR_20_Image243_jpg.rf.52a9b45aa0b0bf56e9608a5f7b8d3c56.jpg  \n",
            " extracting: train/images/Ar_20_An_20_TNR_20_Image244_jpg.rf.68d40cd39cbc843c7532377f95306e47.jpg  \n",
            " extracting: train/images/Ar_20_An_20_TNR_20_Image245_jpg.rf.17168f283e1c4eb22dacd96373dd762f.jpg  \n",
            " extracting: train/images/Ar_20_An_20_TNR_20_Image246_jpg.rf.50373595a15884626675297fd6809c1e.jpg  \n",
            " extracting: train/images/Ar_20_An_20_TNR_20_Image248_jpg.rf.2f183de41d71c25a77c4907eb48f5114.jpg  \n",
            " extracting: train/images/Ar_20_An_20_TNR_20_Image249_jpg.rf.07f13e7640c5d65e345b8210886ba75d.jpg  \n",
            " extracting: train/images/Ar_20_An_20_TNR_20_Image250_jpg.rf.919738957a24669d973d6fe720d56f9e.jpg  \n",
            " extracting: train/images/Ar_20_An_20_TNR_20_Image252_jpg.rf.90c052c5663110ddfa2a5f4cee291849.jpg  \n",
            " extracting: train/images/Ar_20_An_20_TNR_20_Image253_jpg.rf.12c2d9c1f0910392c509cf27cb71bc31.jpg  \n",
            " extracting: train/images/Ar_20_An_20_TNR_20_Image254_jpg.rf.e705d24e877511afa0357e1ff9baeaf2.jpg  \n",
            " extracting: train/images/Ar_20_An_20_TNR_20_Image255_jpg.rf.3aa5af4e3c7cead9bdad39756e262519.jpg  \n",
            " extracting: train/images/Ar_20_An_20_TNR_20_Image256_jpg.rf.b61e83663da395ff37d46cb457e5257a.jpg  \n",
            " extracting: train/images/Ar_20_An_20_TNR_20_Image257_jpg.rf.91bd1245fffe724665f8e952a9f72bef.jpg  \n",
            " extracting: train/images/Ar_20_An_20_TNR_20_Image260_jpg.rf.5ae58b1c54f18a630bd61a68720cedbb.jpg  \n",
            " extracting: train/images/Ar_20_An_20_TNR_20_Image262_jpg.rf.3bcc5cfb8954532081b211540af5e3ff.jpg  \n",
            " extracting: train/images/Ar_20_An_20_TNR_20_Image263_jpg.rf.c04e4dfc7f6c95edeb69a7e2e502bc14.jpg  \n",
            " extracting: train/images/Ar_20_An_20_TNR_20_Image264_jpg.rf.17a78fc6e09435974bdf33a3576bdeb6.jpg  \n",
            " extracting: train/images/Ar_20_An_20_TNR_20_Image265_jpg.rf.086dd8c2d72198b8c604144f47641ae8.jpg  \n",
            " extracting: train/images/Ar_20_An_20_TNR_20_Image268_jpg.rf.3a0decec740546b65afc116a8efbd4a4.jpg  \n",
            " extracting: train/images/Ar_20_An_20_TNR_20_Image270_jpg.rf.096ef61fa56beded807d45c59cb7d2b1.jpg  \n",
            " extracting: train/images/Ar_20_An_20_TNR_20_Image271_jpg.rf.64d72db444b5d84abae14c4794095634.jpg  \n",
            " extracting: train/images/Ar_20_An_20_TNR_20_Image276_jpg.rf.2ac0d90653496c20823f1fce05ef927c.jpg  \n",
            " extracting: train/images/Ar_20_An_20_TNR_20_Image277_jpg.rf.163f9e45b5a2bd6c40a2991057cce3d1.jpg  \n",
            " extracting: train/images/Ar_20_An_20_TNR_20_Image293_jpg.rf.03be49f40010ebea35f5c47f3740e901.jpg  \n",
            " extracting: train/images/Ar_20_An_20_TNR_20_Image294_jpg.rf.8dbebff0c93d6170443dffa47c723968.jpg  \n",
            " extracting: train/images/Ar_20_An_20_TNR_20_Image296_jpg.rf.e4b35568bdf557d644fb5a75cb36680a.jpg  \n",
            " extracting: train/images/Ar_20_An_20_TNR_20_Image297_jpg.rf.af7831d9ce20c0ad0f59857b14ec119a.jpg  \n",
            " extracting: train/images/Ar_20_An_20_TNR_20_Image298_jpg.rf.bf4a91bb7e6e2657e8dfeee320f88255.jpg  \n",
            " extracting: train/images/Ar_20_An_20_TNR_20_Image300_jpg.rf.1884b29e4437a41f0efd114f931203c1.jpg  \n",
            " extracting: train/images/Ar_22_An_22_TNR_22_Image301_jpg.rf.a4d7666156e9b8808cff0fe90bf02043.jpg  \n",
            " extracting: train/images/Ar_22_An_22_TNR_22_Image302_jpg.rf.ee5d404e21342e48df93830c36ebcb0d.jpg  \n",
            " extracting: train/images/Ar_22_An_22_TNR_22_Image303_jpg.rf.00286da6bf4e4ce051a6ac2595af4a99.jpg  \n",
            " extracting: train/images/Ar_22_An_22_TNR_22_Image304_jpg.rf.f5013bc778aaf41c1bf68943007660c8.jpg  \n",
            " extracting: train/images/Ar_22_An_22_TNR_22_Image305_jpg.rf.31c0a2adfc8daa443635d9f95e40e597.jpg  \n",
            " extracting: train/images/Ar_22_An_22_TNR_22_Image306_jpg.rf.e2abe6c1629846c97c26eb8fe2e170be.jpg  \n",
            " extracting: train/images/Ar_22_An_22_TNR_22_Image308_jpg.rf.0dcaa685faa4fae72b0fe28f11ee6b2c.jpg  \n",
            " extracting: train/images/Ar_22_An_22_TNR_22_Image309_jpg.rf.ff7efeed6b8c604c6f5f34d830725b97.jpg  \n",
            " extracting: train/images/Ar_22_An_22_TNR_22_Image326_jpg.rf.8f0cd4de001e406b46417d6a859e0c70.jpg  \n",
            " extracting: train/images/Ar_22_An_22_TNR_22_Image329_jpg.rf.92793562f662de772544ba11e00b6fc0.jpg  \n",
            " extracting: train/images/Ar_22_An_22_TNR_22_Image331_jpg.rf.bc3adda311ada3bc28ab444c4d99d71e.jpg  \n",
            " extracting: train/images/Ar_22_An_22_TNR_22_Image332_jpg.rf.8f97dcb45c5516877a1cd7ed5ddb7155.jpg  \n",
            " extracting: train/images/Ar_22_An_22_TNR_22_Image333_jpg.rf.4ad356ac5c4e7524e3c993a901286c16.jpg  \n",
            " extracting: train/images/Ar_22_An_22_TNR_22_Image334_jpg.rf.48b95049c34ac91c555d382f69ac02ea.jpg  \n",
            " extracting: train/images/Ar_22_An_22_TNR_22_Image335_jpg.rf.f503227027ce98ed8d0a3002106d5b98.jpg  \n",
            " extracting: train/images/Ar_22_An_22_TNR_22_Image336_jpg.rf.9c2f954b1c992e8dc6bc8770ceccf5ed.jpg  \n",
            " extracting: train/images/Ar_22_An_22_TNR_22_Image337_jpg.rf.2d2bdba3c7e93737abfd68b79f52316b.jpg  \n",
            " extracting: train/images/Ar_22_An_22_TNR_22_Image338_jpg.rf.62d5f1228c15c74baaf374a9488028ff.jpg  \n",
            " extracting: train/images/Ar_22_An_22_TNR_22_Image340_jpg.rf.c8c7a7765217310d211a98f54546eceb.jpg  \n",
            " extracting: train/images/Ar_22_An_22_TNR_22_Image341_jpg.rf.b71d6de3a9c074d347234963b1b12cb8.jpg  \n",
            " extracting: train/images/Ar_22_An_22_TNR_22_Image342_jpg.rf.66090d21553d7d7b86da6c91e67fe659.jpg  \n",
            " extracting: train/images/Ar_22_An_22_TNR_22_Image343_jpg.rf.2c2005ed8156b71e93bcf103d65ac404.jpg  \n",
            " extracting: train/images/Ar_22_An_22_TNR_22_Image345_jpg.rf.30e7664f7d04556294f11dc09e053016.jpg  \n",
            " extracting: train/images/Ar_22_An_22_TNR_22_Image346_jpg.rf.838da8b2039147223c1c76f5312f2dcb.jpg  \n",
            " extracting: train/images/Ar_22_An_22_TNR_22_Image347_jpg.rf.34dcf9662aad99f75cf22f0042496815.jpg  \n",
            " extracting: train/images/Ar_22_An_22_TNR_22_Image348_jpg.rf.61160739d8098f42b8a19ffe2301faaf.jpg  \n",
            " extracting: train/images/Ar_22_An_22_TNR_22_Image349_jpg.rf.071465244a3a8e285838453861984aa8.jpg  \n",
            " extracting: train/images/Ar_22_An_22_TNR_22_Image350_jpg.rf.18b3139940df63d8a2b6e81456a43462.jpg  \n",
            " extracting: train/images/Ar_22_An_22_TNR_22_Image351_jpg.rf.07f25f4b80fceca6b91d792b46992a99.jpg  \n",
            " extracting: train/images/Ar_22_An_22_TNR_22_Image353_jpg.rf.ddd13f51c15e0e246a369e20e3c57b38.jpg  \n",
            " extracting: train/images/Ar_22_An_22_TNR_22_Image356_jpg.rf.ba389e74fface042c5958981d1a9463a.jpg  \n",
            " extracting: train/images/Ar_22_An_22_TNR_22_Image357_jpg.rf.d9114cd5caf007dd42e01cf66ad6633c.jpg  \n",
            " extracting: train/images/Ar_22_An_22_TNR_22_Image358_jpg.rf.a8ba9f19641b7f71f7bde6a70c6788e3.jpg  \n",
            " extracting: train/images/Ar_22_An_22_TNR_22_Image360_jpg.rf.908c3f9ab92c9fd548ac3f8967feaf2b.jpg  \n",
            " extracting: train/images/Ar_22_An_22_TNR_22_Image361_jpg.rf.b0139892b757234a79adc8175c429a3e.jpg  \n",
            " extracting: train/images/Ar_22_An_22_TNR_22_Image362_jpg.rf.9700afd3bafb3e4e6cf16df03b9c6e06.jpg  \n",
            " extracting: train/images/Ar_22_An_22_TNR_22_Image363_jpg.rf.663fb792ac0b27a0908160a2ad593164.jpg  \n",
            " extracting: train/images/Ar_22_An_22_TNR_22_Image364_jpg.rf.360fc93b83d723b9eb1c1071462571d2.jpg  \n",
            " extracting: train/images/Ar_22_An_22_TNR_22_Image366_jpg.rf.6d242a24ede35daee05fc1be41b546af.jpg  \n",
            " extracting: train/images/Ar_22_An_22_TNR_22_Image367_jpg.rf.9a054bb738547f04a74c2195cffcee3c.jpg  \n",
            " extracting: train/images/Ar_22_An_22_TNR_22_Image369_jpg.rf.85f313d1a280960665bc12b71ba90141.jpg  \n",
            " extracting: train/images/Ar_22_An_22_TNR_22_Image370_jpg.rf.d4ceeb1216e89980fa902c3928bbe43e.jpg  \n",
            " extracting: train/images/Ar_22_An_22_TNR_22_Image371_jpg.rf.a4504790f49c999a0e4848bed4aa73c6.jpg  \n",
            " extracting: train/images/Ar_22_An_22_TNR_22_Image372_jpg.rf.f4a2ea4a8f52384a120fda88b5e474fd.jpg  \n",
            " extracting: train/images/Ar_22_An_22_TNR_22_Image373_jpg.rf.baccc4a72de00ab6b2e10b2e1c0bee4f.jpg  \n",
            " extracting: train/images/Ar_22_An_22_TNR_22_Image374_jpg.rf.46612a4d9a374cea33c8ab04e804e09c.jpg  \n",
            " extracting: train/images/Ar_22_An_22_TNR_22_Image376_jpg.rf.88f8caf31f5a65b4a1d040cc48650975.jpg  \n",
            " extracting: train/images/Ar_22_An_22_TNR_22_Image378_jpg.rf.25951b864931cbfbcc751342aec82c97.jpg  \n",
            " extracting: train/images/Ar_22_An_22_TNR_22_Image379_jpg.rf.34fb7f1a8d47205b0a5908a9f25cbd82.jpg  \n",
            " extracting: train/images/Ar_22_An_22_TNR_22_Image380_jpg.rf.2cb538297b0544a48403f106c9c12feb.jpg  \n",
            " extracting: train/images/Ar_22_An_22_TNR_22_Image381_jpg.rf.c1192c5dbecd88ea73ec4d7113c177e3.jpg  \n",
            " extracting: train/images/Ar_22_An_22_TNR_22_Image382_jpg.rf.e9496b41670464aa4285d6c5d4ec765d.jpg  \n",
            " extracting: train/images/Ar_22_An_22_TNR_22_Image383_jpg.rf.8897eb1e542a27810a3948708420f0ea.jpg  \n",
            " extracting: train/images/Ar_22_An_22_TNR_22_Image384_jpg.rf.5fe8558dcb4d508318ba75366e9f4f92.jpg  \n",
            " extracting: train/images/Ar_22_An_22_TNR_22_Image385_jpg.rf.b22594e13470d06bb59d81a30673836f.jpg  \n",
            " extracting: train/images/Ar_22_An_22_TNR_22_Image386_jpg.rf.938af8adbc57ab857a1eeb3961c8f956.jpg  \n",
            " extracting: train/images/Ar_22_An_22_TNR_22_Image388_jpg.rf.c6643276fc4684acb338fca75e3ec9f0.jpg  \n",
            " extracting: train/images/Ar_22_An_22_TNR_22_Image390_jpg.rf.cb5698a36b48b799a9cb31ab4801862d.jpg  \n",
            " extracting: train/images/Ar_22_An_22_TNR_22_Image392_jpg.rf.4b20491f51cc21863fa3276cd18f0ffc.jpg  \n",
            " extracting: train/images/Ar_22_An_22_TNR_22_Image396_jpg.rf.7a091c1373dd1d761bd9b35b4f99cc8d.jpg  \n",
            " extracting: train/images/Ar_22_An_22_TNR_22_Image397_jpg.rf.6815c5ed3fced9827e61e102a365ec87.jpg  \n",
            " extracting: train/images/Ar_22_An_22_TNR_22_Image398_jpg.rf.09063dbb5d1ce938950bea118740d691.jpg  \n",
            " extracting: train/images/Ar_22_An_22_TNR_22_Image399_jpg.rf.1045524557fc6d5777b9868313c696ee.jpg  \n",
            " extracting: train/images/Ar_26_An_26_TNR_26_Image104_jpg.rf.f250cb452ecadcfc4db196d72cb96585.jpg  \n",
            " extracting: train/images/Ar_26_An_26_TNR_26_Image106_jpg.rf.573b1bb726bc3373a74fa7e6b5b7d02d.jpg  \n",
            " extracting: train/images/Ar_26_An_26_TNR_26_Image107_jpg.rf.2190d69299d08732b350a2960c0f44cc.jpg  \n",
            " extracting: train/images/Ar_26_An_26_TNR_26_Image111_jpg.rf.22a11ce4c92791152126ef76f49b6050.jpg  \n",
            " extracting: train/images/Ar_26_An_26_TNR_26_Image112_jpg.rf.4ca1894e23eed718fc2c00f8537915d4.jpg  \n",
            " extracting: train/images/Ar_26_An_26_TNR_26_Image114_jpg.rf.e306c8d169a7cb6c02f75ceca89d5e06.jpg  \n",
            " extracting: train/images/Ar_26_An_26_TNR_26_Image115_jpg.rf.0c3333f8e491aa71553c8826a79ca216.jpg  \n",
            " extracting: train/images/Ar_26_An_26_TNR_26_Image117_jpg.rf.135a660bb247aff78f4daa37c33df147.jpg  \n",
            " extracting: train/images/Ar_26_An_26_TNR_26_Image121_jpg.rf.5360aacc1f718abaeaaaad47fe29f452.jpg  \n",
            " extracting: train/images/Ar_26_An_26_TNR_26_Image122_jpg.rf.ba5feaecc2a3cbb3152043b1ce5e287b.jpg  \n",
            " extracting: train/images/Ar_26_An_26_TNR_26_Image123_jpg.rf.265306b6639d3fc17030718451943990.jpg  \n",
            " extracting: train/images/Ar_26_An_26_TNR_26_Image124_jpg.rf.ff5b35bff908d19d590c5c13370b6cb0.jpg  \n",
            " extracting: train/images/Ar_26_An_26_TNR_26_Image125_jpg.rf.1de8a04f3edfda37b977293292013ea6.jpg  \n",
            " extracting: train/images/Ar_26_An_26_TNR_26_Image126_jpg.rf.e52605f9ebfbaa05e4b41c793ae0396a.jpg  \n",
            " extracting: train/images/Ar_26_An_26_TNR_26_Image130_jpg.rf.634b2c822e62b7fe853bd0a6e2a4af4d.jpg  \n",
            " extracting: train/images/Ar_26_An_26_TNR_26_Image131_jpg.rf.5616c62ad780862d726c8c4c5261ffed.jpg  \n",
            " extracting: train/images/Ar_26_An_26_TNR_26_Image134_jpg.rf.f60962eae810bd590556344964a0426f.jpg  \n",
            " extracting: train/images/Ar_26_An_26_TNR_26_Image135_jpg.rf.39ef1a1cfd2cba5ff0e223a65b9ac750.jpg  \n",
            " extracting: train/images/Ar_26_An_26_TNR_26_Image136_jpg.rf.fa213f18c7ab059866b2264f91cba0f1.jpg  \n",
            " extracting: train/images/Ar_26_An_26_TNR_26_Image139_jpg.rf.b8dcb79ce8e1766cf61da79f7a3946a1.jpg  \n",
            " extracting: train/images/Ar_26_An_26_TNR_26_Image140_jpg.rf.75b7be1b0275e0849a593e548d971ff5.jpg  \n",
            " extracting: train/images/Ar_26_An_26_TNR_26_Image141_jpg.rf.6aa2ddc009facb722a009ae9a24f0b07.jpg  \n",
            " extracting: train/images/Ar_26_An_26_TNR_26_Image142_jpg.rf.760233d1324c2f5d3768c276dd8866a2.jpg  \n",
            " extracting: train/images/Ar_26_An_26_TNR_26_Image144_jpg.rf.af5b6b13747265b9d825f8c7c7c73080.jpg  \n",
            " extracting: train/images/Ar_26_An_26_TNR_26_Image146_jpg.rf.90d5e64c06c5f87487dc2d5a9e948798.jpg  \n",
            " extracting: train/images/Ar_26_An_26_TNR_26_Image147_jpg.rf.204a3427bade759053cfbfc5f7451d53.jpg  \n",
            " extracting: train/images/Ar_26_An_26_TNR_26_Image148_jpg.rf.8ea69dfa10524327d8697648d9cb6f03.jpg  \n",
            " extracting: train/images/Ar_26_An_26_TNR_26_Image149_jpg.rf.cd5cb82b2d156df1e09f00530d1d1838.jpg  \n",
            " extracting: train/images/Ar_26_An_26_TNR_26_Image151_jpg.rf.4ee514e1609566b3e0b7a8e0e98af955.jpg  \n",
            " extracting: train/images/Ar_26_An_26_TNR_26_Image152_jpg.rf.f74e7934261543459dc4f8e0abe9f6bb.jpg  \n",
            " extracting: train/images/Ar_26_An_26_TNR_26_Image153_jpg.rf.2d090d24ba5307edc4cdd13856c56f5e.jpg  \n",
            " extracting: train/images/Ar_26_An_26_TNR_26_Image154_jpg.rf.e85e995d20a5064e18b3d2a7127e2d72.jpg  \n",
            " extracting: train/images/Ar_26_An_26_TNR_26_Image156_jpg.rf.5ddc6b8c11d8050fd1fe70ba57cd2827.jpg  \n",
            " extracting: train/images/Ar_26_An_26_TNR_26_Image157_jpg.rf.165d3a58cc9672dfb3358d6321f5a00e.jpg  \n",
            " extracting: train/images/Ar_26_An_26_TNR_26_Image158_jpg.rf.2899e64756237e1ef06198cc5d061f59.jpg  \n",
            " extracting: train/images/Ar_26_An_26_TNR_26_Image159_jpg.rf.8d3007059c2012169f72df003f859c93.jpg  \n",
            " extracting: train/images/Ar_26_An_26_TNR_26_Image160_jpg.rf.e02b6f4b33adec33312b81cdee656009.jpg  \n",
            " extracting: train/images/Ar_26_An_26_TNR_26_Image162_jpg.rf.790a06761347091416abb70ea572e04c.jpg  \n",
            " extracting: train/images/Ar_26_An_26_TNR_26_Image163_jpg.rf.165061ce1f00c119b1c9990c8956c18f.jpg  \n",
            " extracting: train/images/Ar_26_An_26_TNR_26_Image164_jpg.rf.bf3e8cb88e39a8453a243c548592ce5d.jpg  \n",
            " extracting: train/images/Ar_26_An_26_TNR_26_Image165_jpg.rf.15a3460f9e7f7b71bed00e8186bdfb08.jpg  \n",
            " extracting: train/images/Ar_26_An_26_TNR_26_Image166_jpg.rf.587c28eb219f3ecbfcb9c121e6a87e32.jpg  \n",
            " extracting: train/images/Ar_26_An_26_TNR_26_Image167_jpg.rf.482a3b20e7313c6e231cff28db8bc3d7.jpg  \n",
            " extracting: train/images/Ar_26_An_26_TNR_26_Image168_jpg.rf.73ffda22f4766a9fbb222a556bfbab10.jpg  \n",
            " extracting: train/images/Ar_26_An_26_TNR_26_Image170_jpg.rf.845059cfbf46b4ce059786117dd8bda9.jpg  \n",
            " extracting: train/images/Ar_26_An_26_TNR_26_Image171_jpg.rf.8d7b13a4149aefa5ca8574410cf2ba79.jpg  \n",
            " extracting: train/images/Ar_26_An_26_TNR_26_Image173_jpg.rf.e50af7d40c0e073d3f170e7ac779990f.jpg  \n",
            " extracting: train/images/Ar_26_An_26_TNR_26_Image176_jpg.rf.eef6d08eada7a8b6b23a06394c5d3bcc.jpg  \n",
            " extracting: train/images/Ar_26_An_26_TNR_26_Image177_jpg.rf.5fb7d601b1a100251b15dc206da6e72f.jpg  \n",
            " extracting: train/images/Ar_26_An_26_TNR_26_Image178_jpg.rf.83774241c9e8b75e9fdec9182fb49f38.jpg  \n",
            " extracting: train/images/Ar_26_An_26_TNR_26_Image179_jpg.rf.05c01bc6c651f9d1b198c50ab44b97bb.jpg  \n",
            " extracting: train/images/Ar_26_An_26_TNR_26_Image180_jpg.rf.2ffc297f8b9216185dac7e9cebf1336c.jpg  \n",
            " extracting: train/images/Ar_26_An_26_TNR_26_Image184_jpg.rf.66bf87bb662ef50342ba4ada320a59b4.jpg  \n",
            " extracting: train/images/Ar_26_An_26_TNR_26_Image185_jpg.rf.f5931bc0a4f114416f53c4bc31cea5aa.jpg  \n",
            " extracting: train/images/Ar_26_An_26_TNR_26_Image186_jpg.rf.de9ff1bba3579a552d5b91f041eaa1ff.jpg  \n",
            " extracting: train/images/Ar_26_An_26_TNR_26_Image187_jpg.rf.6e48e95f2196b647b691cfe299742336.jpg  \n",
            " extracting: train/images/Ar_26_An_26_TNR_26_Image191_jpg.rf.14b66390cc791c490d949aa392aa0a3a.jpg  \n",
            " extracting: train/images/Ar_26_An_26_TNR_26_Image193_jpg.rf.934d64916a90063070af4d99efabd9a9.jpg  \n",
            " extracting: train/images/Ar_26_An_26_TNR_26_Image194_jpg.rf.be6811c8be21f07aef3d7cf1b767e38c.jpg  \n",
            " extracting: train/images/Ar_26_An_26_TNR_26_Image195_jpg.rf.669cf9e8ebaf5adaa8002c4027364ab0.jpg  \n",
            " extracting: train/images/Ar_26_An_26_TNR_26_Image197_jpg.rf.ddb5eeaf571e9bb5495b7582d76accf8.jpg  \n",
            " extracting: train/images/Ar_26_An_26_TNR_26_Image198_jpg.rf.c4ad7a801bf94cbbfe5d3903af302991.jpg  \n",
            " extracting: train/images/Ar_26_An_26_TNR_26_Image200_jpg.rf.8c78e4c919a858bbdf6f16fb22eb741c.jpg  \n",
            " extracting: train/images/Ar_26_An_26_TNR_26_Image300_jpg.rf.f49a674c73ea035ff64afbbb91f5c588.jpg  \n",
            " extracting: train/images/Ar_26_An_26_TNR_26_Image301_jpg.rf.09daaec2fe173191ebebbe7be5d34d37.jpg  \n",
            " extracting: train/images/Ar_26_An_26_TNR_26_Image302_jpg.rf.4aab3823f7407d023989ec7eda9c2b65.jpg  \n",
            " extracting: train/images/Ar_26_An_26_TNR_26_Image303_jpg.rf.31928846375528a54e56948600364874.jpg  \n",
            " extracting: train/images/Ar_26_An_26_TNR_26_Image304_jpg.rf.60631fe793e4fc5640e9eff8939cb23f.jpg  \n",
            " extracting: train/images/Ar_26_An_26_TNR_26_Image305_jpg.rf.7327948c4f456f5fe8222e1400d51a37.jpg  \n",
            " extracting: train/images/Ar_26_An_26_TNR_26_Image307_jpg.rf.5f2bfcbce6cdeb0015a01732e1c41b2c.jpg  \n",
            " extracting: train/images/Ar_26_An_26_TNR_26_Image308_jpg.rf.b5a4f8923acb3847370a01d2c9c934d0.jpg  \n",
            " extracting: train/images/Ar_26_An_26_TNR_26_Image309_jpg.rf.4b4c5dcb90117981b9686466f9c3125c.jpg  \n",
            " extracting: train/images/Ar_26_An_26_TNR_26_Image311_jpg.rf.4265653825448f3a1a33e99a53190816.jpg  \n",
            " extracting: train/images/Ar_26_An_26_TNR_26_Image313_jpg.rf.b8975070e8efb583de801f4479d80fee.jpg  \n",
            " extracting: train/images/Ar_26_An_26_TNR_26_Image318_jpg.rf.1c49a9a1b02e6a0d521bcd4ba90cf749.jpg  \n",
            " extracting: train/images/Ar_26_An_26_TNR_26_Image319_jpg.rf.bf5f792ce515b3df8c00be10bdbbfdab.jpg  \n",
            " extracting: train/images/Ar_26_An_26_TNR_26_Image320_jpg.rf.e33811afd5ed7a9e2bbfe352c8a89be0.jpg  \n",
            " extracting: train/images/Ar_26_An_26_TNR_26_Image321_jpg.rf.b6fef316004cefa35f9cec0b24272119.jpg  \n",
            " extracting: train/images/Ar_26_An_26_TNR_26_Image322_jpg.rf.e8f16db06e66d931cfb3c98e3800d305.jpg  \n",
            " extracting: train/images/Ar_26_An_26_TNR_26_Image323_jpg.rf.eee955a2c718e8a7ed846adc636d4849.jpg  \n",
            " extracting: train/images/Ar_26_An_26_TNR_26_Image324_jpg.rf.9d531150d9391509509f5717701ac4f3.jpg  \n",
            " extracting: train/images/Ar_26_An_26_TNR_26_Image326_jpg.rf.3634fd12e67cdc3221fd8e1d9b661205.jpg  \n",
            " extracting: train/images/Ar_26_An_26_TNR_26_Image327_jpg.rf.b29627a9660af29575aab273826d1c81.jpg  \n",
            " extracting: train/images/Ar_26_An_26_TNR_26_Image328_jpg.rf.702a7f51a7c866f727be3262ab7fe818.jpg  \n",
            " extracting: train/images/Ar_26_An_26_TNR_26_Image329_jpg.rf.f0965ecbe609405874564b4461e2ea5d.jpg  \n",
            " extracting: train/images/Ar_26_An_26_TNR_26_Image333_jpg.rf.6106efdfce41738bae51d36c8bd97569.jpg  \n",
            " extracting: train/images/Ar_26_An_26_TNR_26_Image334_jpg.rf.6808eee4ab9fbe64e64459ad8183df6e.jpg  \n",
            " extracting: train/images/Ar_26_An_26_TNR_26_Image336_jpg.rf.b3e37a5787bb84b745bd1b5a0de7bdba.jpg  \n",
            " extracting: train/images/Ar_26_An_26_TNR_26_Image337_jpg.rf.414d93fed8892c4fbdef589059dc8252.jpg  \n",
            " extracting: train/images/Ar_26_An_26_TNR_26_Image338_jpg.rf.6a7baf22097387f06e7e7a3ecf3b2db5.jpg  \n",
            " extracting: train/images/Ar_26_An_26_TNR_26_Image339_jpg.rf.f2734fc55208c108dcc233dc0fee8670.jpg  \n",
            " extracting: train/images/Ar_26_An_26_TNR_26_Image340_jpg.rf.e85e70eac9b7601bf8445f2450d01154.jpg  \n",
            " extracting: train/images/Ar_26_An_26_TNR_26_Image341_jpg.rf.5a8642dd9bf188861b38f5105a205e98.jpg  \n",
            " extracting: train/images/Ar_26_An_26_TNR_26_Image342_jpg.rf.418c00e2ae36afe2fd1a3d98d431920c.jpg  \n",
            " extracting: train/images/Ar_26_An_26_TNR_26_Image343_jpg.rf.c906a4bb7aeb71a23ff46db05e158b6b.jpg  \n",
            " extracting: train/images/Ar_26_An_26_TNR_26_Image345_jpg.rf.a626ffb3cc595e9edaaa08461407d5e4.jpg  \n",
            " extracting: train/images/Ar_26_An_26_TNR_26_Image346_jpg.rf.4b27145471d42c4dd82b094ceb661fdc.jpg  \n",
            " extracting: train/images/Ar_26_An_26_TNR_26_Image347_jpg.rf.6bfd7c7ab0f47ba7d2c6fcd276fef729.jpg  \n",
            " extracting: train/images/Ar_26_An_26_TNR_26_Image348_jpg.rf.5bf9f4af62a68d7370120dc3d8cc24a4.jpg  \n",
            " extracting: train/images/Ar_26_An_26_TNR_26_Image352_jpg.rf.52a478354852186031b53a8295effb46.jpg  \n",
            " extracting: train/images/Ar_26_An_26_TNR_26_Image355_jpg.rf.82a75c4f44f9b03d587eb4cc4eb5dea8.jpg  \n",
            " extracting: train/images/Ar_26_An_26_TNR_26_Image356_jpg.rf.8f3e57dc8a59b3a6c57fb1259c7940ab.jpg  \n",
            " extracting: train/images/Ar_26_An_26_TNR_26_Image357_jpg.rf.a947c436724398d0e5f48b595708f4a9.jpg  \n",
            " extracting: train/images/Ar_26_An_26_TNR_26_Image358_jpg.rf.fd95bae9a5801f51da62b2d80135a847.jpg  \n",
            " extracting: train/images/Ar_26_An_26_TNR_26_Image359_jpg.rf.598dc2af540601599821b8fe121c5e7a.jpg  \n",
            " extracting: train/images/Ar_26_An_26_TNR_26_Image360_jpg.rf.766f6d350dcc256893ac606abf91d99b.jpg  \n",
            " extracting: train/images/Ar_26_An_26_TNR_26_Image361_jpg.rf.3cc43838c44e01bc81b31016f5ec0272.jpg  \n",
            " extracting: train/images/Ar_26_An_26_TNR_26_Image362_jpg.rf.612542cbfcd9c1ccc94ae4888d84e432.jpg  \n",
            " extracting: train/images/Ar_26_An_26_TNR_26_Image364_jpg.rf.e3d121514ee5bbfa1629cbf7fa4fb050.jpg  \n",
            " extracting: train/images/Ar_26_An_26_TNR_26_Image365_jpg.rf.918951d5333e8fd42a8b043aba7a973a.jpg  \n",
            " extracting: train/images/Ar_26_An_26_TNR_26_Image366_jpg.rf.4e094e99dcfab06abc32192a9a8273b0.jpg  \n",
            " extracting: train/images/Ar_26_An_26_TNR_26_Image368_jpg.rf.c65930ef92d7743b9b1ca624ac0d7b9a.jpg  \n",
            " extracting: train/images/Ar_26_An_26_TNR_26_Image369_jpg.rf.88421e54949b7df572a0ac5baba98377.jpg  \n",
            " extracting: train/images/Ar_26_An_26_TNR_26_Image372_jpg.rf.3ca836c48bd57fc79f84a4e0a9f93bde.jpg  \n",
            " extracting: train/images/Ar_26_An_26_TNR_26_Image385_jpg.rf.cbd9ef8cce7ee7d5eac573949e37b180.jpg  \n",
            "   creating: train/labels/\n",
            " extracting: train/labels/Ar_16_An_16_TNR_16_Image11_jpg.rf.425148b4db3d7706481314c1b736278d.txt  \n",
            " extracting: train/labels/Ar_16_An_16_TNR_16_Image13_jpg.rf.28720e61f9e4d6d88499865d61888d5c.txt  \n",
            " extracting: train/labels/Ar_16_An_16_TNR_16_Image14_jpg.rf.0db41e1c1897b2d8cc6e07640ae17911.txt  \n",
            " extracting: train/labels/Ar_16_An_16_TNR_16_Image15_jpg.rf.754c09bd81313ddb74ca5ed42b1798cf.txt  \n",
            " extracting: train/labels/Ar_16_An_16_TNR_16_Image16_jpg.rf.46af90ff57fc165efebceb7fafadd938.txt  \n",
            " extracting: train/labels/Ar_16_An_16_TNR_16_Image17_jpg.rf.2504f970eccd4fba020f0843d3b4f39f.txt  \n",
            " extracting: train/labels/Ar_16_An_16_TNR_16_Image19_jpg.rf.948adc07ce6579eb6bf8cd31dc4673c1.txt  \n",
            " extracting: train/labels/Ar_16_An_16_TNR_16_Image22_jpg.rf.5abab0a993c81752d936b2e74ae6e397.txt  \n",
            " extracting: train/labels/Ar_16_An_16_TNR_16_Image23_jpg.rf.f8c151941eae1ca4a66aa15b4795602f.txt  \n",
            " extracting: train/labels/Ar_16_An_16_TNR_16_Image24_jpg.rf.39dacf38f0991ed51c2b601e2bedf9f7.txt  \n",
            " extracting: train/labels/Ar_16_An_16_TNR_16_Image25_jpg.rf.703e57ab29def76558505c0d444c6a7c.txt  \n",
            " extracting: train/labels/Ar_16_An_16_TNR_16_Image26_jpg.rf.ca6c554cb44d5b3b213701a3b64c5aa2.txt  \n",
            " extracting: train/labels/Ar_16_An_16_TNR_16_Image28_jpg.rf.501b16d5d33e92d98ca566a6409767cc.txt  \n",
            " extracting: train/labels/Ar_16_An_16_TNR_16_Image29_jpg.rf.63bd4991e0670e1a8f75efd9a95ee7e6.txt  \n",
            " extracting: train/labels/Ar_16_An_16_TNR_16_Image31_jpg.rf.e9e0255deb67f55cc70aac498c50d6ac.txt  \n",
            " extracting: train/labels/Ar_16_An_16_TNR_16_Image32_jpg.rf.5390f1874a42d54bfcfd95b340475ac4.txt  \n",
            " extracting: train/labels/Ar_16_An_16_TNR_16_Image33_jpg.rf.52d62bf9442d3f7a669f0f4ee0165d94.txt  \n",
            " extracting: train/labels/Ar_16_An_16_TNR_16_Image34_jpg.rf.2fc881a640a925b4f4c34689e5f1a736.txt  \n",
            " extracting: train/labels/Ar_16_An_16_TNR_16_Image35_jpg.rf.4ffe346d21170c10c2f7f5fb71437d4f.txt  \n",
            " extracting: train/labels/Ar_16_An_16_TNR_16_Image36_jpg.rf.1c77c5219ca79f81648a205bd8ab008e.txt  \n",
            " extracting: train/labels/Ar_16_An_16_TNR_16_Image37_jpg.rf.1f41e420d391a20a2d9a414208237083.txt  \n",
            " extracting: train/labels/Ar_16_An_16_TNR_16_Image38_jpg.rf.7092f8357fb722cefa91a7213ca9aec1.txt  \n",
            " extracting: train/labels/Ar_16_An_16_TNR_16_Image40_jpg.rf.b9678646fcbf109268dcf02668ceb6f0.txt  \n",
            " extracting: train/labels/Ar_16_An_16_TNR_16_Image41_jpg.rf.692033dd4a8f1d968fd2c441f4f1be73.txt  \n",
            " extracting: train/labels/Ar_16_An_16_TNR_16_Image42_jpg.rf.081c6efdff7517bca79593e507732745.txt  \n",
            " extracting: train/labels/Ar_16_An_16_TNR_16_Image43_jpg.rf.377250a290c9f2a824241107d92ca155.txt  \n",
            " extracting: train/labels/Ar_16_An_16_TNR_16_Image44_jpg.rf.e3f765c9871c862ef429b6123cc2db73.txt  \n",
            " extracting: train/labels/Ar_16_An_16_TNR_16_Image46_jpg.rf.98da8cbd50b90c359985f0a836e1ec78.txt  \n",
            " extracting: train/labels/Ar_16_An_16_TNR_16_Image49_jpg.rf.4a7e6a30fa4b1bd0666ef1ad0300d2e7.txt  \n",
            " extracting: train/labels/Ar_16_An_16_TNR_16_Image50_jpg.rf.6cdfdb88812550adc35e9527a5e5a84b.txt  \n",
            " extracting: train/labels/Ar_16_An_16_TNR_16_Image51_jpg.rf.af8445eabda8f89240dc854911c00acd.txt  \n",
            " extracting: train/labels/Ar_16_An_16_TNR_16_Image52_jpg.rf.696a5b109d25214f7fedce699aa66230.txt  \n",
            " extracting: train/labels/Ar_16_An_16_TNR_16_Image53_jpg.rf.693819eb4b325d02e9ed2f4688878251.txt  \n",
            " extracting: train/labels/Ar_16_An_16_TNR_16_Image54_jpg.rf.29fc85841fefa51ae10a4b2b7fe3ffe8.txt  \n",
            " extracting: train/labels/Ar_16_An_16_TNR_16_Image56_jpg.rf.ca3d3ef7aed4966430574a8cd627b56f.txt  \n",
            " extracting: train/labels/Ar_16_An_16_TNR_16_Image57_jpg.rf.d9e43a5f6fa465e22e159afedc5f0ac2.txt  \n",
            " extracting: train/labels/Ar_16_An_16_TNR_16_Image58_jpg.rf.e5d5f9dd8db77b4060ee4e67f2396cfe.txt  \n",
            " extracting: train/labels/Ar_16_An_16_TNR_16_Image59_jpg.rf.de73a46531abff05d46bae8f3774ff7e.txt  \n",
            " extracting: train/labels/Ar_16_An_16_TNR_16_Image60_jpg.rf.bae52a2849aefdcf2cff41ff87442c71.txt  \n",
            " extracting: train/labels/Ar_16_An_16_TNR_16_Image61_jpg.rf.6cf93afbbfb83eb2dc66c44c2987dbd7.txt  \n",
            " extracting: train/labels/Ar_16_An_16_TNR_16_Image62_jpg.rf.2c260fbc097a660152ac2da98d94bfc4.txt  \n",
            " extracting: train/labels/Ar_16_An_16_TNR_16_Image64_jpg.rf.4027b5743f6aa28a3e64c2e0efcea136.txt  \n",
            " extracting: train/labels/Ar_16_An_16_TNR_16_Image66_jpg.rf.52bc7320f52c767f1a974fe81b6eb77e.txt  \n",
            " extracting: train/labels/Ar_16_An_16_TNR_16_Image67_jpg.rf.adecf2fb5df52cbd66df34e1e732f92e.txt  \n",
            " extracting: train/labels/Ar_16_An_16_TNR_16_Image68_jpg.rf.78f26599c413837202e3785111fb687e.txt  \n",
            " extracting: train/labels/Ar_16_An_16_TNR_16_Image70_jpg.rf.852327574002b6be5280789ff051bfd2.txt  \n",
            " extracting: train/labels/Ar_16_An_16_TNR_16_Image74_jpg.rf.6dee951596f8b704239ac54e4b7f413a.txt  \n",
            " extracting: train/labels/Ar_16_An_16_TNR_16_Image75_jpg.rf.4622b33078de76c609fec23c5b793580.txt  \n",
            " extracting: train/labels/Ar_16_An_16_TNR_16_Image76_jpg.rf.9520cdca8ad1032e0fd436f58fcca79e.txt  \n",
            " extracting: train/labels/Ar_16_An_16_TNR_16_Image77_jpg.rf.8dea9b697c5305be02e63ac683a0fcdc.txt  \n",
            " extracting: train/labels/Ar_16_An_16_TNR_16_Image78_jpg.rf.ec16fde2b90d0c4e3b0a8ce837a81386.txt  \n",
            " extracting: train/labels/Ar_16_An_16_TNR_16_Image79_jpg.rf.8920cfa7b9a69e9725969402ec66d970.txt  \n",
            " extracting: train/labels/Ar_16_An_16_TNR_16_Image80_jpg.rf.4aed67030ed3dd734ca3d9cb4f10cb4d.txt  \n",
            " extracting: train/labels/Ar_16_An_16_TNR_16_Image81_jpg.rf.9609c958fc564721878b901f1e505e26.txt  \n",
            " extracting: train/labels/Ar_16_An_16_TNR_16_Image82_jpg.rf.25d3c760fab05912724507af6b5c27ee.txt  \n",
            " extracting: train/labels/Ar_16_An_16_TNR_16_Image83_jpg.rf.c57381734e4a3eb773b8c4dcce15e692.txt  \n",
            " extracting: train/labels/Ar_16_An_16_TNR_16_Image84_jpg.rf.42fdc376f3a82e6d16263f72bd6b4d5b.txt  \n",
            " extracting: train/labels/Ar_16_An_16_TNR_16_Image86_jpg.rf.afdfd90946d973d51fdf6b39c6ca0cad.txt  \n",
            " extracting: train/labels/Ar_16_An_16_TNR_16_Image87_jpg.rf.f4448f36487eef5b0db8913f171926da.txt  \n",
            " extracting: train/labels/Ar_16_An_16_TNR_16_Image88_jpg.rf.faf7dad17d8f10e4da4be6e66ec0d0a6.txt  \n",
            " extracting: train/labels/Ar_16_An_16_TNR_16_Image89_jpg.rf.0397335f6a1130b4198aeb0d09c22d0f.txt  \n",
            " extracting: train/labels/Ar_16_An_16_TNR_16_Image90_jpg.rf.51c0af8f511f86c0b5b4e79a243a117b.txt  \n",
            " extracting: train/labels/Ar_16_An_16_TNR_16_Image91_jpg.rf.1b2b4e118ae85902c4f2c3acc2dbc06c.txt  \n",
            " extracting: train/labels/Ar_16_An_16_TNR_16_Image92_jpg.rf.f67e27f9ed3083a155fdeb6ce9f116ed.txt  \n",
            " extracting: train/labels/Ar_16_An_16_TNR_16_Image93_jpg.rf.36486d69e940e301d69045f7855569b3.txt  \n",
            " extracting: train/labels/Ar_16_An_16_TNR_16_Image98_jpg.rf.5084d38ee24373c61325fba3dc2480c9.txt  \n",
            " extracting: train/labels/Ar_16_An_16_TNR_16_Image99_jpg.rf.31e0e77f4c8b92ac7b98ced18c7ca79f.txt  \n",
            " extracting: train/labels/Ar_18_An_18_TNR_18_Image101_jpg.rf.93d35ef04201e54abd1b38b4b7394feb.txt  \n",
            " extracting: train/labels/Ar_18_An_18_TNR_18_Image103_jpg.rf.693e2f962a430b26e0d7de079334bbc5.txt  \n",
            " extracting: train/labels/Ar_18_An_18_TNR_18_Image104_jpg.rf.74943ca3a7d354dd8d748a303a500766.txt  \n",
            " extracting: train/labels/Ar_18_An_18_TNR_18_Image106_jpg.rf.2eb129020ce8f6b01b20ba0ff105021b.txt  \n",
            " extracting: train/labels/Ar_18_An_18_TNR_18_Image108_jpg.rf.9c73ff313bc3c57f7c271e286b539116.txt  \n",
            " extracting: train/labels/Ar_18_An_18_TNR_18_Image109_jpg.rf.704796f327cc68b9d6a6dda03a2e5f40.txt  \n",
            " extracting: train/labels/Ar_18_An_18_TNR_18_Image110_jpg.rf.42050872a27773b2e06c1668b7bb3896.txt  \n",
            " extracting: train/labels/Ar_18_An_18_TNR_18_Image113_jpg.rf.a9d32d3074004ad0c7bd7c2efa373d47.txt  \n",
            " extracting: train/labels/Ar_18_An_18_TNR_18_Image115_jpg.rf.d91c1f51e951f62e76b0d093ee882e42.txt  \n",
            " extracting: train/labels/Ar_18_An_18_TNR_18_Image116_jpg.rf.db51ebdcf4a4cd2568fe801aea7f488e.txt  \n",
            " extracting: train/labels/Ar_18_An_18_TNR_18_Image117_jpg.rf.fe1c8035cf04c7a945821a47c1d85ef7.txt  \n",
            " extracting: train/labels/Ar_18_An_18_TNR_18_Image118_jpg.rf.42c2a08567b999f7bdbec90a4ef1022c.txt  \n",
            " extracting: train/labels/Ar_18_An_18_TNR_18_Image131_jpg.rf.f52a540dec984d284337ca6d35d434f4.txt  \n",
            " extracting: train/labels/Ar_18_An_18_TNR_18_Image132_jpg.rf.1b0cb28f5e8cf311cc9f3b70d6a4a172.txt  \n",
            " extracting: train/labels/Ar_18_An_18_TNR_18_Image133_jpg.rf.7640d0f07f7f160702b08c30e61bd14d.txt  \n",
            " extracting: train/labels/Ar_18_An_18_TNR_18_Image134_jpg.rf.19f1fb4f5c3d54f5af12dc7a6c770a1f.txt  \n",
            " extracting: train/labels/Ar_18_An_18_TNR_18_Image135_jpg.rf.c9bd8106ff35eee82c7cd08427596108.txt  \n",
            " extracting: train/labels/Ar_18_An_18_TNR_18_Image136_jpg.rf.b7790fabb6c463961c97cbde8195d36f.txt  \n",
            " extracting: train/labels/Ar_18_An_18_TNR_18_Image137_jpg.rf.505dadfddb4fae7f43312d34ce42d720.txt  \n",
            " extracting: train/labels/Ar_18_An_18_TNR_18_Image138_jpg.rf.52ade90d69577dc1afe2bc5e82fa94b6.txt  \n",
            " extracting: train/labels/Ar_18_An_18_TNR_18_Image139_jpg.rf.87a3cd9464ba8511e4117937adadfeb6.txt  \n",
            " extracting: train/labels/Ar_18_An_18_TNR_18_Image140_jpg.rf.e1bed96ef8696262419738d03fab1ac3.txt  \n",
            " extracting: train/labels/Ar_18_An_18_TNR_18_Image141_jpg.rf.52c0d4f43ec1c0d407c4a7e73b76c634.txt  \n",
            " extracting: train/labels/Ar_18_An_18_TNR_18_Image142_jpg.rf.37a17623d0c5add24aa39749999e2aca.txt  \n",
            " extracting: train/labels/Ar_18_An_18_TNR_18_Image143_jpg.rf.6a07429fe940b7c4ad688b47131f315a.txt  \n",
            " extracting: train/labels/Ar_18_An_18_TNR_18_Image144_jpg.rf.9cc1b9dc5ae43aa0080825c9ca600409.txt  \n",
            " extracting: train/labels/Ar_18_An_18_TNR_18_Image145_jpg.rf.6680175fbe2d7be38b86b117530be401.txt  \n",
            " extracting: train/labels/Ar_18_An_18_TNR_18_Image146_jpg.rf.f113a35c5730f81ad3ae8df5018f1b12.txt  \n",
            " extracting: train/labels/Ar_18_An_18_TNR_18_Image147_jpg.rf.b8c756cd395c00a984959503c1fcbe7e.txt  \n",
            " extracting: train/labels/Ar_18_An_18_TNR_18_Image148_jpg.rf.a22c89f01e0c509452e528beb769833a.txt  \n",
            " extracting: train/labels/Ar_18_An_18_TNR_18_Image149_jpg.rf.e25a810ba5cb860260fd8c9e1d23f6d7.txt  \n",
            " extracting: train/labels/Ar_18_An_18_TNR_18_Image150_jpg.rf.aa14a9931a239285134b03ec5cfcecbe.txt  \n",
            " extracting: train/labels/Ar_18_An_18_TNR_18_Image151_jpg.rf.5b1fa2bc09c29da23a6e4ba2b1d6e152.txt  \n",
            " extracting: train/labels/Ar_18_An_18_TNR_18_Image152_jpg.rf.461e7473c3d0d5a8490b53e6eef21606.txt  \n",
            " extracting: train/labels/Ar_18_An_18_TNR_18_Image154_jpg.rf.216429d81ef9dee28b9ed0be91f6dc53.txt  \n",
            " extracting: train/labels/Ar_18_An_18_TNR_18_Image156_jpg.rf.83d331a1801e58f5bed1af19406bcb23.txt  \n",
            " extracting: train/labels/Ar_18_An_18_TNR_18_Image157_jpg.rf.cc9db7b3bce0093d7df12a5cc535fee9.txt  \n",
            " extracting: train/labels/Ar_18_An_18_TNR_18_Image158_jpg.rf.16661e5701d35096558d532a21fdc926.txt  \n",
            " extracting: train/labels/Ar_18_An_18_TNR_18_Image160_jpg.rf.4641aeb5b260df8ffad475f5c69cf65f.txt  \n",
            " extracting: train/labels/Ar_18_An_18_TNR_18_Image161_jpg.rf.2e96e8709dfd7db231e04a4b9d5df74d.txt  \n",
            " extracting: train/labels/Ar_18_An_18_TNR_18_Image162_jpg.rf.6d8d61d1900a2a995b789797ea6f9aac.txt  \n",
            " extracting: train/labels/Ar_18_An_18_TNR_18_Image163_jpg.rf.0edf16735ad9f0b6c4b38956c70c1a84.txt  \n",
            " extracting: train/labels/Ar_18_An_18_TNR_18_Image164_jpg.rf.3bb59519cc65bc5c428b10dd8a1acb1b.txt  \n",
            " extracting: train/labels/Ar_18_An_18_TNR_18_Image166_jpg.rf.10474148e25ce2951b1db4a169e41a47.txt  \n",
            " extracting: train/labels/Ar_18_An_18_TNR_18_Image167_jpg.rf.96f6211beaf5a21231c629532a4d46ef.txt  \n",
            " extracting: train/labels/Ar_18_An_18_TNR_18_Image168_jpg.rf.17a0de68b09ec008f35bd851acdd19e4.txt  \n",
            " extracting: train/labels/Ar_18_An_18_TNR_18_Image169_jpg.rf.d24d899ad9e1008fdd9f2a634ad6842d.txt  \n",
            " extracting: train/labels/Ar_18_An_18_TNR_18_Image170_jpg.rf.d15f21c51f4e0e1bc1f32e82e2c487a8.txt  \n",
            " extracting: train/labels/Ar_18_An_18_TNR_18_Image171_jpg.rf.9bdfe48a35966a71e05048c8a13c8edb.txt  \n",
            " extracting: train/labels/Ar_18_An_18_TNR_18_Image172_jpg.rf.71d2d91a74b1b583dae69c1bff5f9ec7.txt  \n",
            " extracting: train/labels/Ar_18_An_18_TNR_18_Image173_jpg.rf.14f7f04841a9fb9b7afb349df0338044.txt  \n",
            " extracting: train/labels/Ar_18_An_18_TNR_18_Image174_jpg.rf.2845f2ff7d649e6cc2b37748fe43ad0d.txt  \n",
            " extracting: train/labels/Ar_18_An_18_TNR_18_Image175_jpg.rf.d517fdc829d67edeaa23c1f9525822d2.txt  \n",
            " extracting: train/labels/Ar_18_An_18_TNR_18_Image178_jpg.rf.0ea5a1bc6b9dcbc73a18ff1140a28f5c.txt  \n",
            " extracting: train/labels/Ar_18_An_18_TNR_18_Image180_jpg.rf.f160dc6ee3f659ffaaedfa784c04147b.txt  \n",
            " extracting: train/labels/Ar_18_An_18_TNR_18_Image181_jpg.rf.9def225e1da7691008e1db6ea29db512.txt  \n",
            " extracting: train/labels/Ar_18_An_18_TNR_18_Image182_jpg.rf.1ec0e35dbd0269a7deff6f4dfe981e9a.txt  \n",
            " extracting: train/labels/Ar_18_An_18_TNR_18_Image183_jpg.rf.5a519602d6d62893bbf882b7fe08e316.txt  \n",
            " extracting: train/labels/Ar_18_An_18_TNR_18_Image184_jpg.rf.1b401a1c4484e7ffb2fddd9784da3aac.txt  \n",
            " extracting: train/labels/Ar_18_An_18_TNR_18_Image185_jpg.rf.e507d5bad0c70f57aad0235d65daa5ad.txt  \n",
            " extracting: train/labels/Ar_18_An_18_TNR_18_Image186_jpg.rf.081a7b936e4fdd32326dc44d4db63fd7.txt  \n",
            " extracting: train/labels/Ar_18_An_18_TNR_18_Image187_jpg.rf.1ba0ea72602dfc1b76ae14d98431bdde.txt  \n",
            " extracting: train/labels/Ar_18_An_18_TNR_18_Image188_jpg.rf.0af8644a78e4984343839d66f82013cd.txt  \n",
            " extracting: train/labels/Ar_18_An_18_TNR_18_Image189_jpg.rf.e709beaa2305799c963fc353284831db.txt  \n",
            " extracting: train/labels/Ar_18_An_18_TNR_18_Image190_jpg.rf.77d72738ef6b98a27a7f78cfd86443cd.txt  \n",
            " extracting: train/labels/Ar_18_An_18_TNR_18_Image191_jpg.rf.96d554ed5fe1a4dd8c1a2b884a8925f7.txt  \n",
            " extracting: train/labels/Ar_18_An_18_TNR_18_Image192_jpg.rf.915782eaa8f926dc9426da1d9e8887d8.txt  \n",
            " extracting: train/labels/Ar_18_An_18_TNR_18_Image194_jpg.rf.2329f08ce3519cc965c7483dfbcc8dad.txt  \n",
            " extracting: train/labels/Ar_18_An_18_TNR_18_Image195_jpg.rf.39d2a1d7bb8fbb8cf0ae91f133636e47.txt  \n",
            " extracting: train/labels/Ar_18_An_18_TNR_18_Image197_jpg.rf.d81945fe8d5ef48e398b13c1f4e283b4.txt  \n",
            " extracting: train/labels/Ar_18_An_18_TNR_18_Image198_jpg.rf.106e91ba521a3afa273d41f78a998f4d.txt  \n",
            " extracting: train/labels/Ar_18_An_18_TNR_18_Image199_jpg.rf.4326bc8e730d838d0cf92f11b11c9d10.txt  \n",
            " extracting: train/labels/Ar_20_An_20_TNR_20_Image201_jpg.rf.d540770b66c8233e33ff10ba801df44d.txt  \n",
            " extracting: train/labels/Ar_20_An_20_TNR_20_Image202_jpg.rf.cbdd94525bdde758f07742faa66a3cc6.txt  \n",
            " extracting: train/labels/Ar_20_An_20_TNR_20_Image204_jpg.rf.2f8490bbe5e038a2c2f415c1c9409030.txt  \n",
            " extracting: train/labels/Ar_20_An_20_TNR_20_Image206_jpg.rf.b8e418fab3cc3062c7986e271c4b6eaf.txt  \n",
            " extracting: train/labels/Ar_20_An_20_TNR_20_Image207_jpg.rf.81bf82ee87e6977ee9d4c9b6eca0d7d9.txt  \n",
            " extracting: train/labels/Ar_20_An_20_TNR_20_Image209_jpg.rf.1d9b0a2c612e52572383588b26dd8f4d.txt  \n",
            " extracting: train/labels/Ar_20_An_20_TNR_20_Image211_jpg.rf.f0d12309e3aa726cda27dd1d1a392c0e.txt  \n",
            " extracting: train/labels/Ar_20_An_20_TNR_20_Image212_jpg.rf.8ba2fbf1e10ee9ed633c7d6cdec840fc.txt  \n",
            " extracting: train/labels/Ar_20_An_20_TNR_20_Image214_jpg.rf.7720c59f33dd1ec644e94a0ca933ff9d.txt  \n",
            " extracting: train/labels/Ar_20_An_20_TNR_20_Image216_jpg.rf.fd65ffb1702fa4049826b6a39e055746.txt  \n",
            " extracting: train/labels/Ar_20_An_20_TNR_20_Image217_jpg.rf.810d2c5be9d5554d483cf8eb9f81f8c1.txt  \n",
            " extracting: train/labels/Ar_20_An_20_TNR_20_Image218_jpg.rf.a7891f4d2ecaca3cbedee4f2c0fa5fed.txt  \n",
            " extracting: train/labels/Ar_20_An_20_TNR_20_Image219_jpg.rf.fc75103c5cf9b1329ad702f113831138.txt  \n",
            " extracting: train/labels/Ar_20_An_20_TNR_20_Image221_jpg.rf.f5a0b790b31ff1894e5ef71a689b4b52.txt  \n",
            " extracting: train/labels/Ar_20_An_20_TNR_20_Image223_jpg.rf.2e3942043b3c2f5521d587beadbd460e.txt  \n",
            " extracting: train/labels/Ar_20_An_20_TNR_20_Image230_jpg.rf.a45f1d5d0bb3ecc217f15185c0b8d50e.txt  \n",
            " extracting: train/labels/Ar_20_An_20_TNR_20_Image231_jpg.rf.8d8dcfba06397456ff72cd0e27635de5.txt  \n",
            " extracting: train/labels/Ar_20_An_20_TNR_20_Image232_jpg.rf.2b021c6755e896a3827b5b4c54a03883.txt  \n",
            " extracting: train/labels/Ar_20_An_20_TNR_20_Image233_jpg.rf.318273456a581a6e582cadaa29c410d0.txt  \n",
            " extracting: train/labels/Ar_20_An_20_TNR_20_Image234_jpg.rf.016c67a803fa56b3e85359d73812b655.txt  \n",
            " extracting: train/labels/Ar_20_An_20_TNR_20_Image237_jpg.rf.6241deb124c3753ee7b319ef3d8435b0.txt  \n",
            " extracting: train/labels/Ar_20_An_20_TNR_20_Image240_jpg.rf.5d5211ae597ce5150164488be1f0ffa9.txt  \n",
            " extracting: train/labels/Ar_20_An_20_TNR_20_Image241_jpg.rf.78ecb542efa998be899ad6bb58f63e7b.txt  \n",
            " extracting: train/labels/Ar_20_An_20_TNR_20_Image243_jpg.rf.52a9b45aa0b0bf56e9608a5f7b8d3c56.txt  \n",
            " extracting: train/labels/Ar_20_An_20_TNR_20_Image244_jpg.rf.68d40cd39cbc843c7532377f95306e47.txt  \n",
            " extracting: train/labels/Ar_20_An_20_TNR_20_Image245_jpg.rf.17168f283e1c4eb22dacd96373dd762f.txt  \n",
            " extracting: train/labels/Ar_20_An_20_TNR_20_Image246_jpg.rf.50373595a15884626675297fd6809c1e.txt  \n",
            " extracting: train/labels/Ar_20_An_20_TNR_20_Image248_jpg.rf.2f183de41d71c25a77c4907eb48f5114.txt  \n",
            " extracting: train/labels/Ar_20_An_20_TNR_20_Image249_jpg.rf.07f13e7640c5d65e345b8210886ba75d.txt  \n",
            " extracting: train/labels/Ar_20_An_20_TNR_20_Image250_jpg.rf.919738957a24669d973d6fe720d56f9e.txt  \n",
            " extracting: train/labels/Ar_20_An_20_TNR_20_Image252_jpg.rf.90c052c5663110ddfa2a5f4cee291849.txt  \n",
            " extracting: train/labels/Ar_20_An_20_TNR_20_Image253_jpg.rf.12c2d9c1f0910392c509cf27cb71bc31.txt  \n",
            " extracting: train/labels/Ar_20_An_20_TNR_20_Image254_jpg.rf.e705d24e877511afa0357e1ff9baeaf2.txt  \n",
            " extracting: train/labels/Ar_20_An_20_TNR_20_Image255_jpg.rf.3aa5af4e3c7cead9bdad39756e262519.txt  \n",
            " extracting: train/labels/Ar_20_An_20_TNR_20_Image256_jpg.rf.b61e83663da395ff37d46cb457e5257a.txt  \n",
            " extracting: train/labels/Ar_20_An_20_TNR_20_Image257_jpg.rf.91bd1245fffe724665f8e952a9f72bef.txt  \n",
            " extracting: train/labels/Ar_20_An_20_TNR_20_Image260_jpg.rf.5ae58b1c54f18a630bd61a68720cedbb.txt  \n",
            " extracting: train/labels/Ar_20_An_20_TNR_20_Image262_jpg.rf.3bcc5cfb8954532081b211540af5e3ff.txt  \n",
            " extracting: train/labels/Ar_20_An_20_TNR_20_Image263_jpg.rf.c04e4dfc7f6c95edeb69a7e2e502bc14.txt  \n",
            " extracting: train/labels/Ar_20_An_20_TNR_20_Image264_jpg.rf.17a78fc6e09435974bdf33a3576bdeb6.txt  \n",
            " extracting: train/labels/Ar_20_An_20_TNR_20_Image265_jpg.rf.086dd8c2d72198b8c604144f47641ae8.txt  \n",
            " extracting: train/labels/Ar_20_An_20_TNR_20_Image268_jpg.rf.3a0decec740546b65afc116a8efbd4a4.txt  \n",
            " extracting: train/labels/Ar_20_An_20_TNR_20_Image270_jpg.rf.096ef61fa56beded807d45c59cb7d2b1.txt  \n",
            " extracting: train/labels/Ar_20_An_20_TNR_20_Image271_jpg.rf.64d72db444b5d84abae14c4794095634.txt  \n",
            " extracting: train/labels/Ar_20_An_20_TNR_20_Image276_jpg.rf.2ac0d90653496c20823f1fce05ef927c.txt  \n",
            " extracting: train/labels/Ar_20_An_20_TNR_20_Image277_jpg.rf.163f9e45b5a2bd6c40a2991057cce3d1.txt  \n",
            " extracting: train/labels/Ar_20_An_20_TNR_20_Image293_jpg.rf.03be49f40010ebea35f5c47f3740e901.txt  \n",
            " extracting: train/labels/Ar_20_An_20_TNR_20_Image294_jpg.rf.8dbebff0c93d6170443dffa47c723968.txt  \n",
            " extracting: train/labels/Ar_20_An_20_TNR_20_Image296_jpg.rf.e4b35568bdf557d644fb5a75cb36680a.txt  \n",
            " extracting: train/labels/Ar_20_An_20_TNR_20_Image297_jpg.rf.af7831d9ce20c0ad0f59857b14ec119a.txt  \n",
            " extracting: train/labels/Ar_20_An_20_TNR_20_Image298_jpg.rf.bf4a91bb7e6e2657e8dfeee320f88255.txt  \n",
            " extracting: train/labels/Ar_20_An_20_TNR_20_Image300_jpg.rf.1884b29e4437a41f0efd114f931203c1.txt  \n",
            " extracting: train/labels/Ar_22_An_22_TNR_22_Image301_jpg.rf.a4d7666156e9b8808cff0fe90bf02043.txt  \n",
            " extracting: train/labels/Ar_22_An_22_TNR_22_Image302_jpg.rf.ee5d404e21342e48df93830c36ebcb0d.txt  \n",
            " extracting: train/labels/Ar_22_An_22_TNR_22_Image303_jpg.rf.00286da6bf4e4ce051a6ac2595af4a99.txt  \n",
            " extracting: train/labels/Ar_22_An_22_TNR_22_Image304_jpg.rf.f5013bc778aaf41c1bf68943007660c8.txt  \n",
            " extracting: train/labels/Ar_22_An_22_TNR_22_Image305_jpg.rf.31c0a2adfc8daa443635d9f95e40e597.txt  \n",
            " extracting: train/labels/Ar_22_An_22_TNR_22_Image306_jpg.rf.e2abe6c1629846c97c26eb8fe2e170be.txt  \n",
            " extracting: train/labels/Ar_22_An_22_TNR_22_Image308_jpg.rf.0dcaa685faa4fae72b0fe28f11ee6b2c.txt  \n",
            " extracting: train/labels/Ar_22_An_22_TNR_22_Image309_jpg.rf.ff7efeed6b8c604c6f5f34d830725b97.txt  \n",
            " extracting: train/labels/Ar_22_An_22_TNR_22_Image326_jpg.rf.8f0cd4de001e406b46417d6a859e0c70.txt  \n",
            " extracting: train/labels/Ar_22_An_22_TNR_22_Image329_jpg.rf.92793562f662de772544ba11e00b6fc0.txt  \n",
            " extracting: train/labels/Ar_22_An_22_TNR_22_Image331_jpg.rf.bc3adda311ada3bc28ab444c4d99d71e.txt  \n",
            " extracting: train/labels/Ar_22_An_22_TNR_22_Image332_jpg.rf.8f97dcb45c5516877a1cd7ed5ddb7155.txt  \n",
            " extracting: train/labels/Ar_22_An_22_TNR_22_Image333_jpg.rf.4ad356ac5c4e7524e3c993a901286c16.txt  \n",
            " extracting: train/labels/Ar_22_An_22_TNR_22_Image334_jpg.rf.48b95049c34ac91c555d382f69ac02ea.txt  \n",
            " extracting: train/labels/Ar_22_An_22_TNR_22_Image335_jpg.rf.f503227027ce98ed8d0a3002106d5b98.txt  \n",
            " extracting: train/labels/Ar_22_An_22_TNR_22_Image336_jpg.rf.9c2f954b1c992e8dc6bc8770ceccf5ed.txt  \n",
            " extracting: train/labels/Ar_22_An_22_TNR_22_Image337_jpg.rf.2d2bdba3c7e93737abfd68b79f52316b.txt  \n",
            " extracting: train/labels/Ar_22_An_22_TNR_22_Image338_jpg.rf.62d5f1228c15c74baaf374a9488028ff.txt  \n",
            " extracting: train/labels/Ar_22_An_22_TNR_22_Image340_jpg.rf.c8c7a7765217310d211a98f54546eceb.txt  \n",
            " extracting: train/labels/Ar_22_An_22_TNR_22_Image341_jpg.rf.b71d6de3a9c074d347234963b1b12cb8.txt  \n",
            " extracting: train/labels/Ar_22_An_22_TNR_22_Image342_jpg.rf.66090d21553d7d7b86da6c91e67fe659.txt  \n",
            " extracting: train/labels/Ar_22_An_22_TNR_22_Image343_jpg.rf.2c2005ed8156b71e93bcf103d65ac404.txt  \n",
            " extracting: train/labels/Ar_22_An_22_TNR_22_Image345_jpg.rf.30e7664f7d04556294f11dc09e053016.txt  \n",
            " extracting: train/labels/Ar_22_An_22_TNR_22_Image346_jpg.rf.838da8b2039147223c1c76f5312f2dcb.txt  \n",
            " extracting: train/labels/Ar_22_An_22_TNR_22_Image347_jpg.rf.34dcf9662aad99f75cf22f0042496815.txt  \n",
            " extracting: train/labels/Ar_22_An_22_TNR_22_Image348_jpg.rf.61160739d8098f42b8a19ffe2301faaf.txt  \n",
            " extracting: train/labels/Ar_22_An_22_TNR_22_Image349_jpg.rf.071465244a3a8e285838453861984aa8.txt  \n",
            " extracting: train/labels/Ar_22_An_22_TNR_22_Image350_jpg.rf.18b3139940df63d8a2b6e81456a43462.txt  \n",
            " extracting: train/labels/Ar_22_An_22_TNR_22_Image351_jpg.rf.07f25f4b80fceca6b91d792b46992a99.txt  \n",
            " extracting: train/labels/Ar_22_An_22_TNR_22_Image353_jpg.rf.ddd13f51c15e0e246a369e20e3c57b38.txt  \n",
            " extracting: train/labels/Ar_22_An_22_TNR_22_Image356_jpg.rf.ba389e74fface042c5958981d1a9463a.txt  \n",
            " extracting: train/labels/Ar_22_An_22_TNR_22_Image357_jpg.rf.d9114cd5caf007dd42e01cf66ad6633c.txt  \n",
            " extracting: train/labels/Ar_22_An_22_TNR_22_Image358_jpg.rf.a8ba9f19641b7f71f7bde6a70c6788e3.txt  \n",
            " extracting: train/labels/Ar_22_An_22_TNR_22_Image360_jpg.rf.908c3f9ab92c9fd548ac3f8967feaf2b.txt  \n",
            " extracting: train/labels/Ar_22_An_22_TNR_22_Image361_jpg.rf.b0139892b757234a79adc8175c429a3e.txt  \n",
            " extracting: train/labels/Ar_22_An_22_TNR_22_Image362_jpg.rf.9700afd3bafb3e4e6cf16df03b9c6e06.txt  \n",
            " extracting: train/labels/Ar_22_An_22_TNR_22_Image363_jpg.rf.663fb792ac0b27a0908160a2ad593164.txt  \n",
            " extracting: train/labels/Ar_22_An_22_TNR_22_Image364_jpg.rf.360fc93b83d723b9eb1c1071462571d2.txt  \n",
            " extracting: train/labels/Ar_22_An_22_TNR_22_Image366_jpg.rf.6d242a24ede35daee05fc1be41b546af.txt  \n",
            " extracting: train/labels/Ar_22_An_22_TNR_22_Image367_jpg.rf.9a054bb738547f04a74c2195cffcee3c.txt  \n",
            " extracting: train/labels/Ar_22_An_22_TNR_22_Image369_jpg.rf.85f313d1a280960665bc12b71ba90141.txt  \n",
            " extracting: train/labels/Ar_22_An_22_TNR_22_Image370_jpg.rf.d4ceeb1216e89980fa902c3928bbe43e.txt  \n",
            " extracting: train/labels/Ar_22_An_22_TNR_22_Image371_jpg.rf.a4504790f49c999a0e4848bed4aa73c6.txt  \n",
            " extracting: train/labels/Ar_22_An_22_TNR_22_Image372_jpg.rf.f4a2ea4a8f52384a120fda88b5e474fd.txt  \n",
            " extracting: train/labels/Ar_22_An_22_TNR_22_Image373_jpg.rf.baccc4a72de00ab6b2e10b2e1c0bee4f.txt  \n",
            " extracting: train/labels/Ar_22_An_22_TNR_22_Image374_jpg.rf.46612a4d9a374cea33c8ab04e804e09c.txt  \n",
            " extracting: train/labels/Ar_22_An_22_TNR_22_Image376_jpg.rf.88f8caf31f5a65b4a1d040cc48650975.txt  \n",
            " extracting: train/labels/Ar_22_An_22_TNR_22_Image378_jpg.rf.25951b864931cbfbcc751342aec82c97.txt  \n",
            " extracting: train/labels/Ar_22_An_22_TNR_22_Image379_jpg.rf.34fb7f1a8d47205b0a5908a9f25cbd82.txt  \n",
            " extracting: train/labels/Ar_22_An_22_TNR_22_Image380_jpg.rf.2cb538297b0544a48403f106c9c12feb.txt  \n",
            " extracting: train/labels/Ar_22_An_22_TNR_22_Image381_jpg.rf.c1192c5dbecd88ea73ec4d7113c177e3.txt  \n",
            " extracting: train/labels/Ar_22_An_22_TNR_22_Image382_jpg.rf.e9496b41670464aa4285d6c5d4ec765d.txt  \n",
            " extracting: train/labels/Ar_22_An_22_TNR_22_Image383_jpg.rf.8897eb1e542a27810a3948708420f0ea.txt  \n",
            " extracting: train/labels/Ar_22_An_22_TNR_22_Image384_jpg.rf.5fe8558dcb4d508318ba75366e9f4f92.txt  \n",
            " extracting: train/labels/Ar_22_An_22_TNR_22_Image385_jpg.rf.b22594e13470d06bb59d81a30673836f.txt  \n",
            " extracting: train/labels/Ar_22_An_22_TNR_22_Image386_jpg.rf.938af8adbc57ab857a1eeb3961c8f956.txt  \n",
            " extracting: train/labels/Ar_22_An_22_TNR_22_Image388_jpg.rf.c6643276fc4684acb338fca75e3ec9f0.txt  \n",
            " extracting: train/labels/Ar_22_An_22_TNR_22_Image390_jpg.rf.cb5698a36b48b799a9cb31ab4801862d.txt  \n",
            " extracting: train/labels/Ar_22_An_22_TNR_22_Image392_jpg.rf.4b20491f51cc21863fa3276cd18f0ffc.txt  \n",
            " extracting: train/labels/Ar_22_An_22_TNR_22_Image396_jpg.rf.7a091c1373dd1d761bd9b35b4f99cc8d.txt  \n",
            " extracting: train/labels/Ar_22_An_22_TNR_22_Image397_jpg.rf.6815c5ed3fced9827e61e102a365ec87.txt  \n",
            " extracting: train/labels/Ar_22_An_22_TNR_22_Image398_jpg.rf.09063dbb5d1ce938950bea118740d691.txt  \n",
            " extracting: train/labels/Ar_22_An_22_TNR_22_Image399_jpg.rf.1045524557fc6d5777b9868313c696ee.txt  \n",
            " extracting: train/labels/Ar_26_An_26_TNR_26_Image104_jpg.rf.f250cb452ecadcfc4db196d72cb96585.txt  \n",
            " extracting: train/labels/Ar_26_An_26_TNR_26_Image106_jpg.rf.573b1bb726bc3373a74fa7e6b5b7d02d.txt  \n",
            " extracting: train/labels/Ar_26_An_26_TNR_26_Image107_jpg.rf.2190d69299d08732b350a2960c0f44cc.txt  \n",
            " extracting: train/labels/Ar_26_An_26_TNR_26_Image111_jpg.rf.22a11ce4c92791152126ef76f49b6050.txt  \n",
            " extracting: train/labels/Ar_26_An_26_TNR_26_Image112_jpg.rf.4ca1894e23eed718fc2c00f8537915d4.txt  \n",
            " extracting: train/labels/Ar_26_An_26_TNR_26_Image114_jpg.rf.e306c8d169a7cb6c02f75ceca89d5e06.txt  \n",
            " extracting: train/labels/Ar_26_An_26_TNR_26_Image115_jpg.rf.0c3333f8e491aa71553c8826a79ca216.txt  \n",
            " extracting: train/labels/Ar_26_An_26_TNR_26_Image117_jpg.rf.135a660bb247aff78f4daa37c33df147.txt  \n",
            " extracting: train/labels/Ar_26_An_26_TNR_26_Image121_jpg.rf.5360aacc1f718abaeaaaad47fe29f452.txt  \n",
            " extracting: train/labels/Ar_26_An_26_TNR_26_Image122_jpg.rf.ba5feaecc2a3cbb3152043b1ce5e287b.txt  \n",
            " extracting: train/labels/Ar_26_An_26_TNR_26_Image123_jpg.rf.265306b6639d3fc17030718451943990.txt  \n",
            " extracting: train/labels/Ar_26_An_26_TNR_26_Image124_jpg.rf.ff5b35bff908d19d590c5c13370b6cb0.txt  \n",
            " extracting: train/labels/Ar_26_An_26_TNR_26_Image125_jpg.rf.1de8a04f3edfda37b977293292013ea6.txt  \n",
            " extracting: train/labels/Ar_26_An_26_TNR_26_Image126_jpg.rf.e52605f9ebfbaa05e4b41c793ae0396a.txt  \n",
            " extracting: train/labels/Ar_26_An_26_TNR_26_Image130_jpg.rf.634b2c822e62b7fe853bd0a6e2a4af4d.txt  \n",
            " extracting: train/labels/Ar_26_An_26_TNR_26_Image131_jpg.rf.5616c62ad780862d726c8c4c5261ffed.txt  \n",
            " extracting: train/labels/Ar_26_An_26_TNR_26_Image134_jpg.rf.f60962eae810bd590556344964a0426f.txt  \n",
            " extracting: train/labels/Ar_26_An_26_TNR_26_Image135_jpg.rf.39ef1a1cfd2cba5ff0e223a65b9ac750.txt  \n",
            " extracting: train/labels/Ar_26_An_26_TNR_26_Image136_jpg.rf.fa213f18c7ab059866b2264f91cba0f1.txt  \n",
            " extracting: train/labels/Ar_26_An_26_TNR_26_Image139_jpg.rf.b8dcb79ce8e1766cf61da79f7a3946a1.txt  \n",
            " extracting: train/labels/Ar_26_An_26_TNR_26_Image140_jpg.rf.75b7be1b0275e0849a593e548d971ff5.txt  \n",
            " extracting: train/labels/Ar_26_An_26_TNR_26_Image141_jpg.rf.6aa2ddc009facb722a009ae9a24f0b07.txt  \n",
            " extracting: train/labels/Ar_26_An_26_TNR_26_Image142_jpg.rf.760233d1324c2f5d3768c276dd8866a2.txt  \n",
            " extracting: train/labels/Ar_26_An_26_TNR_26_Image144_jpg.rf.af5b6b13747265b9d825f8c7c7c73080.txt  \n",
            " extracting: train/labels/Ar_26_An_26_TNR_26_Image146_jpg.rf.90d5e64c06c5f87487dc2d5a9e948798.txt  \n",
            " extracting: train/labels/Ar_26_An_26_TNR_26_Image147_jpg.rf.204a3427bade759053cfbfc5f7451d53.txt  \n",
            " extracting: train/labels/Ar_26_An_26_TNR_26_Image148_jpg.rf.8ea69dfa10524327d8697648d9cb6f03.txt  \n",
            " extracting: train/labels/Ar_26_An_26_TNR_26_Image149_jpg.rf.cd5cb82b2d156df1e09f00530d1d1838.txt  \n",
            " extracting: train/labels/Ar_26_An_26_TNR_26_Image151_jpg.rf.4ee514e1609566b3e0b7a8e0e98af955.txt  \n",
            " extracting: train/labels/Ar_26_An_26_TNR_26_Image152_jpg.rf.f74e7934261543459dc4f8e0abe9f6bb.txt  \n",
            " extracting: train/labels/Ar_26_An_26_TNR_26_Image153_jpg.rf.2d090d24ba5307edc4cdd13856c56f5e.txt  \n",
            " extracting: train/labels/Ar_26_An_26_TNR_26_Image154_jpg.rf.e85e995d20a5064e18b3d2a7127e2d72.txt  \n",
            " extracting: train/labels/Ar_26_An_26_TNR_26_Image156_jpg.rf.5ddc6b8c11d8050fd1fe70ba57cd2827.txt  \n",
            " extracting: train/labels/Ar_26_An_26_TNR_26_Image157_jpg.rf.165d3a58cc9672dfb3358d6321f5a00e.txt  \n",
            " extracting: train/labels/Ar_26_An_26_TNR_26_Image158_jpg.rf.2899e64756237e1ef06198cc5d061f59.txt  \n",
            " extracting: train/labels/Ar_26_An_26_TNR_26_Image159_jpg.rf.8d3007059c2012169f72df003f859c93.txt  \n",
            " extracting: train/labels/Ar_26_An_26_TNR_26_Image160_jpg.rf.e02b6f4b33adec33312b81cdee656009.txt  \n",
            " extracting: train/labels/Ar_26_An_26_TNR_26_Image162_jpg.rf.790a06761347091416abb70ea572e04c.txt  \n",
            " extracting: train/labels/Ar_26_An_26_TNR_26_Image163_jpg.rf.165061ce1f00c119b1c9990c8956c18f.txt  \n",
            " extracting: train/labels/Ar_26_An_26_TNR_26_Image164_jpg.rf.bf3e8cb88e39a8453a243c548592ce5d.txt  \n",
            " extracting: train/labels/Ar_26_An_26_TNR_26_Image165_jpg.rf.15a3460f9e7f7b71bed00e8186bdfb08.txt  \n",
            " extracting: train/labels/Ar_26_An_26_TNR_26_Image166_jpg.rf.587c28eb219f3ecbfcb9c121e6a87e32.txt  \n",
            " extracting: train/labels/Ar_26_An_26_TNR_26_Image167_jpg.rf.482a3b20e7313c6e231cff28db8bc3d7.txt  \n",
            " extracting: train/labels/Ar_26_An_26_TNR_26_Image168_jpg.rf.73ffda22f4766a9fbb222a556bfbab10.txt  \n",
            " extracting: train/labels/Ar_26_An_26_TNR_26_Image170_jpg.rf.845059cfbf46b4ce059786117dd8bda9.txt  \n",
            " extracting: train/labels/Ar_26_An_26_TNR_26_Image171_jpg.rf.8d7b13a4149aefa5ca8574410cf2ba79.txt  \n",
            " extracting: train/labels/Ar_26_An_26_TNR_26_Image173_jpg.rf.e50af7d40c0e073d3f170e7ac779990f.txt  \n",
            " extracting: train/labels/Ar_26_An_26_TNR_26_Image176_jpg.rf.eef6d08eada7a8b6b23a06394c5d3bcc.txt  \n",
            " extracting: train/labels/Ar_26_An_26_TNR_26_Image177_jpg.rf.5fb7d601b1a100251b15dc206da6e72f.txt  \n",
            " extracting: train/labels/Ar_26_An_26_TNR_26_Image178_jpg.rf.83774241c9e8b75e9fdec9182fb49f38.txt  \n",
            " extracting: train/labels/Ar_26_An_26_TNR_26_Image179_jpg.rf.05c01bc6c651f9d1b198c50ab44b97bb.txt  \n",
            " extracting: train/labels/Ar_26_An_26_TNR_26_Image180_jpg.rf.2ffc297f8b9216185dac7e9cebf1336c.txt  \n",
            " extracting: train/labels/Ar_26_An_26_TNR_26_Image184_jpg.rf.66bf87bb662ef50342ba4ada320a59b4.txt  \n",
            " extracting: train/labels/Ar_26_An_26_TNR_26_Image185_jpg.rf.f5931bc0a4f114416f53c4bc31cea5aa.txt  \n",
            " extracting: train/labels/Ar_26_An_26_TNR_26_Image186_jpg.rf.de9ff1bba3579a552d5b91f041eaa1ff.txt  \n",
            " extracting: train/labels/Ar_26_An_26_TNR_26_Image187_jpg.rf.6e48e95f2196b647b691cfe299742336.txt  \n",
            " extracting: train/labels/Ar_26_An_26_TNR_26_Image191_jpg.rf.14b66390cc791c490d949aa392aa0a3a.txt  \n",
            " extracting: train/labels/Ar_26_An_26_TNR_26_Image193_jpg.rf.934d64916a90063070af4d99efabd9a9.txt  \n",
            " extracting: train/labels/Ar_26_An_26_TNR_26_Image194_jpg.rf.be6811c8be21f07aef3d7cf1b767e38c.txt  \n",
            " extracting: train/labels/Ar_26_An_26_TNR_26_Image195_jpg.rf.669cf9e8ebaf5adaa8002c4027364ab0.txt  \n",
            " extracting: train/labels/Ar_26_An_26_TNR_26_Image197_jpg.rf.ddb5eeaf571e9bb5495b7582d76accf8.txt  \n",
            " extracting: train/labels/Ar_26_An_26_TNR_26_Image198_jpg.rf.c4ad7a801bf94cbbfe5d3903af302991.txt  \n",
            " extracting: train/labels/Ar_26_An_26_TNR_26_Image200_jpg.rf.8c78e4c919a858bbdf6f16fb22eb741c.txt  \n",
            " extracting: train/labels/Ar_26_An_26_TNR_26_Image300_jpg.rf.f49a674c73ea035ff64afbbb91f5c588.txt  \n",
            " extracting: train/labels/Ar_26_An_26_TNR_26_Image301_jpg.rf.09daaec2fe173191ebebbe7be5d34d37.txt  \n",
            " extracting: train/labels/Ar_26_An_26_TNR_26_Image302_jpg.rf.4aab3823f7407d023989ec7eda9c2b65.txt  \n",
            " extracting: train/labels/Ar_26_An_26_TNR_26_Image303_jpg.rf.31928846375528a54e56948600364874.txt  \n",
            " extracting: train/labels/Ar_26_An_26_TNR_26_Image304_jpg.rf.60631fe793e4fc5640e9eff8939cb23f.txt  \n",
            " extracting: train/labels/Ar_26_An_26_TNR_26_Image305_jpg.rf.7327948c4f456f5fe8222e1400d51a37.txt  \n",
            " extracting: train/labels/Ar_26_An_26_TNR_26_Image307_jpg.rf.5f2bfcbce6cdeb0015a01732e1c41b2c.txt  \n",
            " extracting: train/labels/Ar_26_An_26_TNR_26_Image308_jpg.rf.b5a4f8923acb3847370a01d2c9c934d0.txt  \n",
            " extracting: train/labels/Ar_26_An_26_TNR_26_Image309_jpg.rf.4b4c5dcb90117981b9686466f9c3125c.txt  \n",
            " extracting: train/labels/Ar_26_An_26_TNR_26_Image311_jpg.rf.4265653825448f3a1a33e99a53190816.txt  \n",
            " extracting: train/labels/Ar_26_An_26_TNR_26_Image313_jpg.rf.b8975070e8efb583de801f4479d80fee.txt  \n",
            " extracting: train/labels/Ar_26_An_26_TNR_26_Image318_jpg.rf.1c49a9a1b02e6a0d521bcd4ba90cf749.txt  \n",
            " extracting: train/labels/Ar_26_An_26_TNR_26_Image319_jpg.rf.bf5f792ce515b3df8c00be10bdbbfdab.txt  \n",
            " extracting: train/labels/Ar_26_An_26_TNR_26_Image320_jpg.rf.e33811afd5ed7a9e2bbfe352c8a89be0.txt  \n",
            " extracting: train/labels/Ar_26_An_26_TNR_26_Image321_jpg.rf.b6fef316004cefa35f9cec0b24272119.txt  \n",
            " extracting: train/labels/Ar_26_An_26_TNR_26_Image322_jpg.rf.e8f16db06e66d931cfb3c98e3800d305.txt  \n",
            " extracting: train/labels/Ar_26_An_26_TNR_26_Image323_jpg.rf.eee955a2c718e8a7ed846adc636d4849.txt  \n",
            " extracting: train/labels/Ar_26_An_26_TNR_26_Image324_jpg.rf.9d531150d9391509509f5717701ac4f3.txt  \n",
            " extracting: train/labels/Ar_26_An_26_TNR_26_Image326_jpg.rf.3634fd12e67cdc3221fd8e1d9b661205.txt  \n",
            " extracting: train/labels/Ar_26_An_26_TNR_26_Image327_jpg.rf.b29627a9660af29575aab273826d1c81.txt  \n",
            " extracting: train/labels/Ar_26_An_26_TNR_26_Image328_jpg.rf.702a7f51a7c866f727be3262ab7fe818.txt  \n",
            " extracting: train/labels/Ar_26_An_26_TNR_26_Image329_jpg.rf.f0965ecbe609405874564b4461e2ea5d.txt  \n",
            " extracting: train/labels/Ar_26_An_26_TNR_26_Image333_jpg.rf.6106efdfce41738bae51d36c8bd97569.txt  \n",
            " extracting: train/labels/Ar_26_An_26_TNR_26_Image334_jpg.rf.6808eee4ab9fbe64e64459ad8183df6e.txt  \n",
            " extracting: train/labels/Ar_26_An_26_TNR_26_Image336_jpg.rf.b3e37a5787bb84b745bd1b5a0de7bdba.txt  \n",
            " extracting: train/labels/Ar_26_An_26_TNR_26_Image337_jpg.rf.414d93fed8892c4fbdef589059dc8252.txt  \n",
            " extracting: train/labels/Ar_26_An_26_TNR_26_Image338_jpg.rf.6a7baf22097387f06e7e7a3ecf3b2db5.txt  \n",
            " extracting: train/labels/Ar_26_An_26_TNR_26_Image339_jpg.rf.f2734fc55208c108dcc233dc0fee8670.txt  \n",
            " extracting: train/labels/Ar_26_An_26_TNR_26_Image340_jpg.rf.e85e70eac9b7601bf8445f2450d01154.txt  \n",
            " extracting: train/labels/Ar_26_An_26_TNR_26_Image341_jpg.rf.5a8642dd9bf188861b38f5105a205e98.txt  \n",
            " extracting: train/labels/Ar_26_An_26_TNR_26_Image342_jpg.rf.418c00e2ae36afe2fd1a3d98d431920c.txt  \n",
            " extracting: train/labels/Ar_26_An_26_TNR_26_Image343_jpg.rf.c906a4bb7aeb71a23ff46db05e158b6b.txt  \n",
            " extracting: train/labels/Ar_26_An_26_TNR_26_Image345_jpg.rf.a626ffb3cc595e9edaaa08461407d5e4.txt  \n",
            " extracting: train/labels/Ar_26_An_26_TNR_26_Image346_jpg.rf.4b27145471d42c4dd82b094ceb661fdc.txt  \n",
            " extracting: train/labels/Ar_26_An_26_TNR_26_Image347_jpg.rf.6bfd7c7ab0f47ba7d2c6fcd276fef729.txt  \n",
            " extracting: train/labels/Ar_26_An_26_TNR_26_Image348_jpg.rf.5bf9f4af62a68d7370120dc3d8cc24a4.txt  \n",
            " extracting: train/labels/Ar_26_An_26_TNR_26_Image352_jpg.rf.52a478354852186031b53a8295effb46.txt  \n",
            " extracting: train/labels/Ar_26_An_26_TNR_26_Image355_jpg.rf.82a75c4f44f9b03d587eb4cc4eb5dea8.txt  \n",
            " extracting: train/labels/Ar_26_An_26_TNR_26_Image356_jpg.rf.8f3e57dc8a59b3a6c57fb1259c7940ab.txt  \n",
            " extracting: train/labels/Ar_26_An_26_TNR_26_Image357_jpg.rf.a947c436724398d0e5f48b595708f4a9.txt  \n",
            " extracting: train/labels/Ar_26_An_26_TNR_26_Image358_jpg.rf.fd95bae9a5801f51da62b2d80135a847.txt  \n",
            " extracting: train/labels/Ar_26_An_26_TNR_26_Image359_jpg.rf.598dc2af540601599821b8fe121c5e7a.txt  \n",
            " extracting: train/labels/Ar_26_An_26_TNR_26_Image360_jpg.rf.766f6d350dcc256893ac606abf91d99b.txt  \n",
            " extracting: train/labels/Ar_26_An_26_TNR_26_Image361_jpg.rf.3cc43838c44e01bc81b31016f5ec0272.txt  \n",
            " extracting: train/labels/Ar_26_An_26_TNR_26_Image362_jpg.rf.612542cbfcd9c1ccc94ae4888d84e432.txt  \n",
            " extracting: train/labels/Ar_26_An_26_TNR_26_Image364_jpg.rf.e3d121514ee5bbfa1629cbf7fa4fb050.txt  \n",
            " extracting: train/labels/Ar_26_An_26_TNR_26_Image365_jpg.rf.918951d5333e8fd42a8b043aba7a973a.txt  \n",
            " extracting: train/labels/Ar_26_An_26_TNR_26_Image366_jpg.rf.4e094e99dcfab06abc32192a9a8273b0.txt  \n",
            " extracting: train/labels/Ar_26_An_26_TNR_26_Image368_jpg.rf.c65930ef92d7743b9b1ca624ac0d7b9a.txt  \n",
            " extracting: train/labels/Ar_26_An_26_TNR_26_Image369_jpg.rf.88421e54949b7df572a0ac5baba98377.txt  \n",
            " extracting: train/labels/Ar_26_An_26_TNR_26_Image372_jpg.rf.3ca836c48bd57fc79f84a4e0a9f93bde.txt  \n",
            " extracting: train/labels/Ar_26_An_26_TNR_26_Image385_jpg.rf.cbd9ef8cce7ee7d5eac573949e37b180.txt  \n",
            "   creating: valid/\n",
            "   creating: valid/images/\n",
            " extracting: valid/images/Ar_16_An_16_TNR_16_Image18_jpg.rf.1a22e873e6c9313d8908c5d6211d00d0.jpg  \n",
            " extracting: valid/images/Ar_16_An_16_TNR_16_Image20_jpg.rf.649c8a3b911e51789a926008667e339a.jpg  \n",
            " extracting: valid/images/Ar_16_An_16_TNR_16_Image30_jpg.rf.b3a16c64de9c1037174e7ec60fd3a78a.jpg  \n",
            " extracting: valid/images/Ar_16_An_16_TNR_16_Image39_jpg.rf.dfbc6b847d984e397edc8d195ba2deea.jpg  \n",
            " extracting: valid/images/Ar_16_An_16_TNR_16_Image45_jpg.rf.72c351e6985f67fe147944ec90897fd0.jpg  \n",
            " extracting: valid/images/Ar_16_An_16_TNR_16_Image47_jpg.rf.d85d819699d1b4c0a8bdfd92777bfae9.jpg  \n",
            " extracting: valid/images/Ar_16_An_16_TNR_16_Image48_jpg.rf.eb48bb8b7b5dc4ac15a950b63e997dcf.jpg  \n",
            " extracting: valid/images/Ar_16_An_16_TNR_16_Image55_jpg.rf.9e7680b8f17ee53d50bfd0aa9ed7151f.jpg  \n",
            " extracting: valid/images/Ar_16_An_16_TNR_16_Image65_jpg.rf.1b6abba8849adcdfce5942ff8ac100aa.jpg  \n",
            " extracting: valid/images/Ar_16_An_16_TNR_16_Image71_jpg.rf.bad2e6838fd09430aea70ad5a4afa56d.jpg  \n",
            " extracting: valid/images/Ar_16_An_16_TNR_16_Image72_jpg.rf.db69ba350997f41e3034cb8d8ea6a826.jpg  \n",
            " extracting: valid/images/Ar_16_An_16_TNR_16_Image73_jpg.rf.b3443cd4c4f82083f8d823ccaaf32628.jpg  \n",
            " extracting: valid/images/Ar_16_An_16_TNR_16_Image94_jpg.rf.d94167a0ff6d15be687f290397ef3747.jpg  \n",
            " extracting: valid/images/Ar_16_An_16_TNR_16_Image95_jpg.rf.160b9af1c815c1a6b085a44adbec63d4.jpg  \n",
            " extracting: valid/images/Ar_16_An_16_TNR_16_Image96_jpg.rf.050bdabfb27aca13b36a53cb96bd98bd.jpg  \n",
            " extracting: valid/images/Ar_16_An_16_TNR_16_Image97_jpg.rf.ab595f4a458381889898b44b85be5d7b.jpg  \n",
            " extracting: valid/images/Ar_18_An_18_TNR_18_Image102_jpg.rf.ea43b4adb054ff7846f496de012b613d.jpg  \n",
            " extracting: valid/images/Ar_18_An_18_TNR_18_Image111_jpg.rf.561a3d3fe290fd33ec9a443705005c51.jpg  \n",
            " extracting: valid/images/Ar_18_An_18_TNR_18_Image119_jpg.rf.1fc57bd0f13ae78ecf0afa2c45004f17.jpg  \n",
            " extracting: valid/images/Ar_18_An_18_TNR_18_Image155_jpg.rf.5072255a72028d85971858f14434d2f8.jpg  \n",
            " extracting: valid/images/Ar_18_An_18_TNR_18_Image159_jpg.rf.8d22ff2c62d720110974f4a3dd83fe16.jpg  \n",
            " extracting: valid/images/Ar_18_An_18_TNR_18_Image176_jpg.rf.8c064e0e687d692904f2edf15e3c0f60.jpg  \n",
            " extracting: valid/images/Ar_18_An_18_TNR_18_Image177_jpg.rf.28d40b088e946ef300aec6da0df38964.jpg  \n",
            " extracting: valid/images/Ar_18_An_18_TNR_18_Image193_jpg.rf.29eea0c213feb85598ef3cd61562c8c0.jpg  \n",
            " extracting: valid/images/Ar_18_An_18_TNR_18_Image196_jpg.rf.dad0fe34fe709937001ed8510e89698e.jpg  \n",
            " extracting: valid/images/Ar_18_An_18_TNR_18_Image200_jpg.rf.fb628bdd1d912922c320e19a322c183f.jpg  \n",
            " extracting: valid/images/Ar_20_An_20_TNR_20_Image203_jpg.rf.0bd57c4a17e7eacf77f5094290d97565.jpg  \n",
            " extracting: valid/images/Ar_20_An_20_TNR_20_Image213_jpg.rf.fd7042f08cc4c15bfbffab4a8f9a7eb6.jpg  \n",
            " extracting: valid/images/Ar_20_An_20_TNR_20_Image220_jpg.rf.198cdf2197be023ca42b1459d9d81c21.jpg  \n",
            " extracting: valid/images/Ar_20_An_20_TNR_20_Image225_jpg.rf.7dd195eb0e920a477a9c012c04cb371d.jpg  \n",
            " extracting: valid/images/Ar_20_An_20_TNR_20_Image226_jpg.rf.9bd57d29d423d394a2126c34c0d8fe05.jpg  \n",
            " extracting: valid/images/Ar_20_An_20_TNR_20_Image228_jpg.rf.c23683ccd163cbd532408ad877ae7ab5.jpg  \n",
            " extracting: valid/images/Ar_20_An_20_TNR_20_Image229_jpg.rf.d93f0f02de6c51c69ec512509e99ad17.jpg  \n",
            " extracting: valid/images/Ar_20_An_20_TNR_20_Image235_jpg.rf.68cc6068440fbf873db0c1e768c3a64e.jpg  \n",
            " extracting: valid/images/Ar_20_An_20_TNR_20_Image236_jpg.rf.6b15462f95c42b251259b26c50c6c22c.jpg  \n",
            " extracting: valid/images/Ar_20_An_20_TNR_20_Image239_jpg.rf.d91a586039c2e656d40d0c480490b0ec.jpg  \n",
            " extracting: valid/images/Ar_20_An_20_TNR_20_Image247_jpg.rf.6a9556f21de32c8287d90a97ebaa162e.jpg  \n",
            " extracting: valid/images/Ar_20_An_20_TNR_20_Image251_jpg.rf.412bc4443098fb0479fd87a40febf7a6.jpg  \n",
            " extracting: valid/images/Ar_20_An_20_TNR_20_Image258_jpg.rf.927aa44daf121329e12d45ff13e17eaf.jpg  \n",
            " extracting: valid/images/Ar_20_An_20_TNR_20_Image259_jpg.rf.164c5b4782e687c1153aceaa3d6da463.jpg  \n",
            " extracting: valid/images/Ar_20_An_20_TNR_20_Image266_jpg.rf.fc20293b66c007cfe15099e4b3be3afe.jpg  \n",
            " extracting: valid/images/Ar_20_An_20_TNR_20_Image269_jpg.rf.e76a66965e676f0431df3398e4c85daa.jpg  \n",
            " extracting: valid/images/Ar_20_An_20_TNR_20_Image273_jpg.rf.c662d834d8282272ef86315b57d7d47e.jpg  \n",
            " extracting: valid/images/Ar_20_An_20_TNR_20_Image274_jpg.rf.583f1dcd8c8609c976a9c91f4fb0eb9d.jpg  \n",
            " extracting: valid/images/Ar_20_An_20_TNR_20_Image275_jpg.rf.317345541a1b6918e32ec3961284d03c.jpg  \n",
            " extracting: valid/images/Ar_20_An_20_TNR_20_Image278_jpg.rf.eadee3a43695b49228b00549299d1f14.jpg  \n",
            " extracting: valid/images/Ar_20_An_20_TNR_20_Image279_jpg.rf.f00f32a5a97bbc8abe3c933d5821a872.jpg  \n",
            " extracting: valid/images/Ar_20_An_20_TNR_20_Image280_jpg.rf.c29098c086c5cdc6ca3f716ce4700646.jpg  \n",
            " extracting: valid/images/Ar_20_An_20_TNR_20_Image292_jpg.rf.14a747118683b51be41b99ad4d7ee7ad.jpg  \n",
            " extracting: valid/images/Ar_22_An_22_TNR_22_Image307_jpg.rf.d599d65d9752b80a15e4b1b2efceb125.jpg  \n",
            " extracting: valid/images/Ar_22_An_22_TNR_22_Image325_jpg.rf.6686581220aa60bae1181fc5ef180326.jpg  \n",
            " extracting: valid/images/Ar_22_An_22_TNR_22_Image327_jpg.rf.09a28863a55f045af28e60cd5129cf91.jpg  \n",
            " extracting: valid/images/Ar_22_An_22_TNR_22_Image328_jpg.rf.387d79a91c950c1adbf42a7429e670e7.jpg  \n",
            " extracting: valid/images/Ar_22_An_22_TNR_22_Image344_jpg.rf.73e40d4a5df940203fea3e68017e148a.jpg  \n",
            " extracting: valid/images/Ar_22_An_22_TNR_22_Image355_jpg.rf.7cb2a3a5a39bb44f3f0694c1f36bb5af.jpg  \n",
            " extracting: valid/images/Ar_22_An_22_TNR_22_Image359_jpg.rf.d3af006bfc269f6cdbb80fff858d8632.jpg  \n",
            " extracting: valid/images/Ar_22_An_22_TNR_22_Image365_jpg.rf.a043d259d9a6c10f80fdc0c1abfd2b2c.jpg  \n",
            " extracting: valid/images/Ar_22_An_22_TNR_22_Image368_jpg.rf.c4c78b608c8ecb0c8f0cdbf8d625a635.jpg  \n",
            " extracting: valid/images/Ar_22_An_22_TNR_22_Image389_jpg.rf.f0dfa662aa4a2ff8131f302d2914398a.jpg  \n",
            " extracting: valid/images/Ar_22_An_22_TNR_22_Image391_jpg.rf.8bb5fcb1e8387d91f8cd562bd5c5cf4a.jpg  \n",
            " extracting: valid/images/Ar_22_An_22_TNR_22_Image393_jpg.rf.62c0b9167210aaba8da905d1fd014ee1.jpg  \n",
            " extracting: valid/images/Ar_26_An_26_TNR_26_Image101_jpg.rf.ee5a00aeaeb1811eb1796761bb356195.jpg  \n",
            " extracting: valid/images/Ar_26_An_26_TNR_26_Image102_jpg.rf.f45dc76c639bdf5cf84e34099beb7374.jpg  \n",
            " extracting: valid/images/Ar_26_An_26_TNR_26_Image103_jpg.rf.34cea4f14ecc98ce0f28791fb2a383c3.jpg  \n",
            " extracting: valid/images/Ar_26_An_26_TNR_26_Image105_jpg.rf.5916f9ee9b8df45b17d23b5712701aac.jpg  \n",
            " extracting: valid/images/Ar_26_An_26_TNR_26_Image108_jpg.rf.7af01a13e8c34479392e2cd136d0ab9a.jpg  \n",
            " extracting: valid/images/Ar_26_An_26_TNR_26_Image109_jpg.rf.277639ca22d4ff541d3f42ed7458a5c3.jpg  \n",
            " extracting: valid/images/Ar_26_An_26_TNR_26_Image110_jpg.rf.e33d1354c3e54bfe82ac75c291978592.jpg  \n",
            " extracting: valid/images/Ar_26_An_26_TNR_26_Image113_jpg.rf.97575b45447e369bb41021a4843b5632.jpg  \n",
            " extracting: valid/images/Ar_26_An_26_TNR_26_Image116_jpg.rf.5e45c15788dfb371786a9c152d2099b8.jpg  \n",
            " extracting: valid/images/Ar_26_An_26_TNR_26_Image120_jpg.rf.a4d9cf79bea86cf85b8c1d03066cc9c1.jpg  \n",
            " extracting: valid/images/Ar_26_An_26_TNR_26_Image127_jpg.rf.d950a7cde372fa89494c7000e7e14def.jpg  \n",
            " extracting: valid/images/Ar_26_An_26_TNR_26_Image128_jpg.rf.379faeab78bac85f7482e492fcc902a2.jpg  \n",
            " extracting: valid/images/Ar_26_An_26_TNR_26_Image129_jpg.rf.c093f54ddf9d7b0f4f0974088aebb775.jpg  \n",
            " extracting: valid/images/Ar_26_An_26_TNR_26_Image132_jpg.rf.7bd5ba6f2ae917e75c77750160c926b3.jpg  \n",
            " extracting: valid/images/Ar_26_An_26_TNR_26_Image133_jpg.rf.fe939a5a3a7cc29858483205519b0582.jpg  \n",
            " extracting: valid/images/Ar_26_An_26_TNR_26_Image137_jpg.rf.97598f0a45eb65b387b971d282bf4222.jpg  \n",
            " extracting: valid/images/Ar_26_An_26_TNR_26_Image138_jpg.rf.992cabeb8874e0e7cccbcfddd1d1c321.jpg  \n",
            " extracting: valid/images/Ar_26_An_26_TNR_26_Image143_jpg.rf.c4d94105a3aae8d99846ffc21dbaebd2.jpg  \n",
            " extracting: valid/images/Ar_26_An_26_TNR_26_Image145_jpg.rf.d856d69bb31d1ac1793e6eb91cee8fef.jpg  \n",
            " extracting: valid/images/Ar_26_An_26_TNR_26_Image150_jpg.rf.1b644a29d0573279e8a7ca25ce3151ac.jpg  \n",
            " extracting: valid/images/Ar_26_An_26_TNR_26_Image174_jpg.rf.7bc77f7dc0e9227adc846481b3a514e5.jpg  \n",
            " extracting: valid/images/Ar_26_An_26_TNR_26_Image181_jpg.rf.a89da6e1e80cecb5c63298cb2c1f179b.jpg  \n",
            " extracting: valid/images/Ar_26_An_26_TNR_26_Image182_jpg.rf.8779aeb6dd8ad90c2eb1a192649ff152.jpg  \n",
            " extracting: valid/images/Ar_26_An_26_TNR_26_Image183_jpg.rf.c62c708ad2c699a85679f8d013d5e581.jpg  \n",
            " extracting: valid/images/Ar_26_An_26_TNR_26_Image188_jpg.rf.f873d7af3438416ccd29800207019cbe.jpg  \n",
            " extracting: valid/images/Ar_26_An_26_TNR_26_Image189_jpg.rf.90c238bbbf42b8a737b2c426183f4c64.jpg  \n",
            " extracting: valid/images/Ar_26_An_26_TNR_26_Image190_jpg.rf.669e700e0c9f7db722cf12dd64c836c8.jpg  \n",
            " extracting: valid/images/Ar_26_An_26_TNR_26_Image192_jpg.rf.ba42aaa008d5817a521f4b9207d23eb6.jpg  \n",
            " extracting: valid/images/Ar_26_An_26_TNR_26_Image306_jpg.rf.5e2327980b821c061efe7966d5782a87.jpg  \n",
            " extracting: valid/images/Ar_26_An_26_TNR_26_Image312_jpg.rf.49c9c9c3cd1c26af328f9dcedeb84842.jpg  \n",
            " extracting: valid/images/Ar_26_An_26_TNR_26_Image314_jpg.rf.bee433ffa941342cc8c07a3dbe0356e3.jpg  \n",
            " extracting: valid/images/Ar_26_An_26_TNR_26_Image315_jpg.rf.849f2d54a18ac6797bc3cf3fd2da0092.jpg  \n",
            " extracting: valid/images/Ar_26_An_26_TNR_26_Image316_jpg.rf.15ef86b8a3d056e9638c25b2ebe3a7e1.jpg  \n",
            " extracting: valid/images/Ar_26_An_26_TNR_26_Image317_jpg.rf.a69a59a9f10047b7ca997c742bd66182.jpg  \n",
            " extracting: valid/images/Ar_26_An_26_TNR_26_Image325_jpg.rf.343679672a213e0878962052e758fb46.jpg  \n",
            " extracting: valid/images/Ar_26_An_26_TNR_26_Image331_jpg.rf.eea5405bfee77f89fc5cf5694b7af220.jpg  \n",
            " extracting: valid/images/Ar_26_An_26_TNR_26_Image335_jpg.rf.636f66b67714912790ec8df2518a1c1a.jpg  \n",
            " extracting: valid/images/Ar_26_An_26_TNR_26_Image344_jpg.rf.36b96ac014ece9a66ff859b3846be8a9.jpg  \n",
            " extracting: valid/images/Ar_26_An_26_TNR_26_Image349_jpg.rf.3143b158e50ac42267322b4df42ac86c.jpg  \n",
            " extracting: valid/images/Ar_26_An_26_TNR_26_Image350_jpg.rf.5de249ef3d7239020b2a233875f1d2e0.jpg  \n",
            " extracting: valid/images/Ar_26_An_26_TNR_26_Image353_jpg.rf.59d6c083bb164ac435c66e847933655c.jpg  \n",
            " extracting: valid/images/Ar_26_An_26_TNR_26_Image363_jpg.rf.0fed52399e3e49a5bfad3f0021558fcd.jpg  \n",
            " extracting: valid/images/Ar_26_An_26_TNR_26_Image371_jpg.rf.b41f701600a596606ea7fb1005814b28.jpg  \n",
            " extracting: valid/images/Ar_26_An_26_TNR_26_Image374_jpg.rf.3dd7bf18e8736c8d50be0cbd4056aa41.jpg  \n",
            " extracting: valid/images/Ar_26_An_26_TNR_26_Image386_jpg.rf.4c8604d8c69ca364fb0554ec71774ace.jpg  \n",
            "   creating: valid/labels/\n",
            " extracting: valid/labels/Ar_16_An_16_TNR_16_Image18_jpg.rf.1a22e873e6c9313d8908c5d6211d00d0.txt  \n",
            " extracting: valid/labels/Ar_16_An_16_TNR_16_Image20_jpg.rf.649c8a3b911e51789a926008667e339a.txt  \n",
            " extracting: valid/labels/Ar_16_An_16_TNR_16_Image30_jpg.rf.b3a16c64de9c1037174e7ec60fd3a78a.txt  \n",
            " extracting: valid/labels/Ar_16_An_16_TNR_16_Image39_jpg.rf.dfbc6b847d984e397edc8d195ba2deea.txt  \n",
            " extracting: valid/labels/Ar_16_An_16_TNR_16_Image45_jpg.rf.72c351e6985f67fe147944ec90897fd0.txt  \n",
            " extracting: valid/labels/Ar_16_An_16_TNR_16_Image47_jpg.rf.d85d819699d1b4c0a8bdfd92777bfae9.txt  \n",
            " extracting: valid/labels/Ar_16_An_16_TNR_16_Image48_jpg.rf.eb48bb8b7b5dc4ac15a950b63e997dcf.txt  \n",
            " extracting: valid/labels/Ar_16_An_16_TNR_16_Image55_jpg.rf.9e7680b8f17ee53d50bfd0aa9ed7151f.txt  \n",
            " extracting: valid/labels/Ar_16_An_16_TNR_16_Image65_jpg.rf.1b6abba8849adcdfce5942ff8ac100aa.txt  \n",
            " extracting: valid/labels/Ar_16_An_16_TNR_16_Image71_jpg.rf.bad2e6838fd09430aea70ad5a4afa56d.txt  \n",
            " extracting: valid/labels/Ar_16_An_16_TNR_16_Image72_jpg.rf.db69ba350997f41e3034cb8d8ea6a826.txt  \n",
            " extracting: valid/labels/Ar_16_An_16_TNR_16_Image73_jpg.rf.b3443cd4c4f82083f8d823ccaaf32628.txt  \n",
            " extracting: valid/labels/Ar_16_An_16_TNR_16_Image94_jpg.rf.d94167a0ff6d15be687f290397ef3747.txt  \n",
            " extracting: valid/labels/Ar_16_An_16_TNR_16_Image95_jpg.rf.160b9af1c815c1a6b085a44adbec63d4.txt  \n",
            " extracting: valid/labels/Ar_16_An_16_TNR_16_Image96_jpg.rf.050bdabfb27aca13b36a53cb96bd98bd.txt  \n",
            " extracting: valid/labels/Ar_16_An_16_TNR_16_Image97_jpg.rf.ab595f4a458381889898b44b85be5d7b.txt  \n",
            " extracting: valid/labels/Ar_18_An_18_TNR_18_Image102_jpg.rf.ea43b4adb054ff7846f496de012b613d.txt  \n",
            " extracting: valid/labels/Ar_18_An_18_TNR_18_Image111_jpg.rf.561a3d3fe290fd33ec9a443705005c51.txt  \n",
            " extracting: valid/labels/Ar_18_An_18_TNR_18_Image119_jpg.rf.1fc57bd0f13ae78ecf0afa2c45004f17.txt  \n",
            " extracting: valid/labels/Ar_18_An_18_TNR_18_Image155_jpg.rf.5072255a72028d85971858f14434d2f8.txt  \n",
            " extracting: valid/labels/Ar_18_An_18_TNR_18_Image159_jpg.rf.8d22ff2c62d720110974f4a3dd83fe16.txt  \n",
            " extracting: valid/labels/Ar_18_An_18_TNR_18_Image176_jpg.rf.8c064e0e687d692904f2edf15e3c0f60.txt  \n",
            " extracting: valid/labels/Ar_18_An_18_TNR_18_Image177_jpg.rf.28d40b088e946ef300aec6da0df38964.txt  \n",
            " extracting: valid/labels/Ar_18_An_18_TNR_18_Image193_jpg.rf.29eea0c213feb85598ef3cd61562c8c0.txt  \n",
            " extracting: valid/labels/Ar_18_An_18_TNR_18_Image196_jpg.rf.dad0fe34fe709937001ed8510e89698e.txt  \n",
            " extracting: valid/labels/Ar_18_An_18_TNR_18_Image200_jpg.rf.fb628bdd1d912922c320e19a322c183f.txt  \n",
            " extracting: valid/labels/Ar_20_An_20_TNR_20_Image203_jpg.rf.0bd57c4a17e7eacf77f5094290d97565.txt  \n",
            " extracting: valid/labels/Ar_20_An_20_TNR_20_Image213_jpg.rf.fd7042f08cc4c15bfbffab4a8f9a7eb6.txt  \n",
            " extracting: valid/labels/Ar_20_An_20_TNR_20_Image220_jpg.rf.198cdf2197be023ca42b1459d9d81c21.txt  \n",
            " extracting: valid/labels/Ar_20_An_20_TNR_20_Image225_jpg.rf.7dd195eb0e920a477a9c012c04cb371d.txt  \n",
            " extracting: valid/labels/Ar_20_An_20_TNR_20_Image226_jpg.rf.9bd57d29d423d394a2126c34c0d8fe05.txt  \n",
            " extracting: valid/labels/Ar_20_An_20_TNR_20_Image228_jpg.rf.c23683ccd163cbd532408ad877ae7ab5.txt  \n",
            " extracting: valid/labels/Ar_20_An_20_TNR_20_Image229_jpg.rf.d93f0f02de6c51c69ec512509e99ad17.txt  \n",
            " extracting: valid/labels/Ar_20_An_20_TNR_20_Image235_jpg.rf.68cc6068440fbf873db0c1e768c3a64e.txt  \n",
            " extracting: valid/labels/Ar_20_An_20_TNR_20_Image236_jpg.rf.6b15462f95c42b251259b26c50c6c22c.txt  \n",
            " extracting: valid/labels/Ar_20_An_20_TNR_20_Image239_jpg.rf.d91a586039c2e656d40d0c480490b0ec.txt  \n",
            " extracting: valid/labels/Ar_20_An_20_TNR_20_Image247_jpg.rf.6a9556f21de32c8287d90a97ebaa162e.txt  \n",
            " extracting: valid/labels/Ar_20_An_20_TNR_20_Image251_jpg.rf.412bc4443098fb0479fd87a40febf7a6.txt  \n",
            " extracting: valid/labels/Ar_20_An_20_TNR_20_Image258_jpg.rf.927aa44daf121329e12d45ff13e17eaf.txt  \n",
            " extracting: valid/labels/Ar_20_An_20_TNR_20_Image259_jpg.rf.164c5b4782e687c1153aceaa3d6da463.txt  \n",
            " extracting: valid/labels/Ar_20_An_20_TNR_20_Image266_jpg.rf.fc20293b66c007cfe15099e4b3be3afe.txt  \n",
            " extracting: valid/labels/Ar_20_An_20_TNR_20_Image269_jpg.rf.e76a66965e676f0431df3398e4c85daa.txt  \n",
            " extracting: valid/labels/Ar_20_An_20_TNR_20_Image273_jpg.rf.c662d834d8282272ef86315b57d7d47e.txt  \n",
            " extracting: valid/labels/Ar_20_An_20_TNR_20_Image274_jpg.rf.583f1dcd8c8609c976a9c91f4fb0eb9d.txt  \n",
            " extracting: valid/labels/Ar_20_An_20_TNR_20_Image275_jpg.rf.317345541a1b6918e32ec3961284d03c.txt  \n",
            " extracting: valid/labels/Ar_20_An_20_TNR_20_Image278_jpg.rf.eadee3a43695b49228b00549299d1f14.txt  \n",
            " extracting: valid/labels/Ar_20_An_20_TNR_20_Image279_jpg.rf.f00f32a5a97bbc8abe3c933d5821a872.txt  \n",
            " extracting: valid/labels/Ar_20_An_20_TNR_20_Image280_jpg.rf.c29098c086c5cdc6ca3f716ce4700646.txt  \n",
            " extracting: valid/labels/Ar_20_An_20_TNR_20_Image292_jpg.rf.14a747118683b51be41b99ad4d7ee7ad.txt  \n",
            " extracting: valid/labels/Ar_22_An_22_TNR_22_Image307_jpg.rf.d599d65d9752b80a15e4b1b2efceb125.txt  \n",
            " extracting: valid/labels/Ar_22_An_22_TNR_22_Image325_jpg.rf.6686581220aa60bae1181fc5ef180326.txt  \n",
            " extracting: valid/labels/Ar_22_An_22_TNR_22_Image327_jpg.rf.09a28863a55f045af28e60cd5129cf91.txt  \n",
            " extracting: valid/labels/Ar_22_An_22_TNR_22_Image328_jpg.rf.387d79a91c950c1adbf42a7429e670e7.txt  \n",
            " extracting: valid/labels/Ar_22_An_22_TNR_22_Image344_jpg.rf.73e40d4a5df940203fea3e68017e148a.txt  \n",
            " extracting: valid/labels/Ar_22_An_22_TNR_22_Image355_jpg.rf.7cb2a3a5a39bb44f3f0694c1f36bb5af.txt  \n",
            " extracting: valid/labels/Ar_22_An_22_TNR_22_Image359_jpg.rf.d3af006bfc269f6cdbb80fff858d8632.txt  \n",
            " extracting: valid/labels/Ar_22_An_22_TNR_22_Image365_jpg.rf.a043d259d9a6c10f80fdc0c1abfd2b2c.txt  \n",
            " extracting: valid/labels/Ar_22_An_22_TNR_22_Image368_jpg.rf.c4c78b608c8ecb0c8f0cdbf8d625a635.txt  \n",
            " extracting: valid/labels/Ar_22_An_22_TNR_22_Image389_jpg.rf.f0dfa662aa4a2ff8131f302d2914398a.txt  \n",
            " extracting: valid/labels/Ar_22_An_22_TNR_22_Image391_jpg.rf.8bb5fcb1e8387d91f8cd562bd5c5cf4a.txt  \n",
            " extracting: valid/labels/Ar_22_An_22_TNR_22_Image393_jpg.rf.62c0b9167210aaba8da905d1fd014ee1.txt  \n",
            " extracting: valid/labels/Ar_26_An_26_TNR_26_Image101_jpg.rf.ee5a00aeaeb1811eb1796761bb356195.txt  \n",
            " extracting: valid/labels/Ar_26_An_26_TNR_26_Image102_jpg.rf.f45dc76c639bdf5cf84e34099beb7374.txt  \n",
            " extracting: valid/labels/Ar_26_An_26_TNR_26_Image103_jpg.rf.34cea4f14ecc98ce0f28791fb2a383c3.txt  \n",
            " extracting: valid/labels/Ar_26_An_26_TNR_26_Image105_jpg.rf.5916f9ee9b8df45b17d23b5712701aac.txt  \n",
            " extracting: valid/labels/Ar_26_An_26_TNR_26_Image108_jpg.rf.7af01a13e8c34479392e2cd136d0ab9a.txt  \n",
            " extracting: valid/labels/Ar_26_An_26_TNR_26_Image109_jpg.rf.277639ca22d4ff541d3f42ed7458a5c3.txt  \n",
            " extracting: valid/labels/Ar_26_An_26_TNR_26_Image110_jpg.rf.e33d1354c3e54bfe82ac75c291978592.txt  \n",
            " extracting: valid/labels/Ar_26_An_26_TNR_26_Image113_jpg.rf.97575b45447e369bb41021a4843b5632.txt  \n",
            " extracting: valid/labels/Ar_26_An_26_TNR_26_Image116_jpg.rf.5e45c15788dfb371786a9c152d2099b8.txt  \n",
            " extracting: valid/labels/Ar_26_An_26_TNR_26_Image120_jpg.rf.a4d9cf79bea86cf85b8c1d03066cc9c1.txt  \n",
            " extracting: valid/labels/Ar_26_An_26_TNR_26_Image127_jpg.rf.d950a7cde372fa89494c7000e7e14def.txt  \n",
            " extracting: valid/labels/Ar_26_An_26_TNR_26_Image128_jpg.rf.379faeab78bac85f7482e492fcc902a2.txt  \n",
            " extracting: valid/labels/Ar_26_An_26_TNR_26_Image129_jpg.rf.c093f54ddf9d7b0f4f0974088aebb775.txt  \n",
            " extracting: valid/labels/Ar_26_An_26_TNR_26_Image132_jpg.rf.7bd5ba6f2ae917e75c77750160c926b3.txt  \n",
            " extracting: valid/labels/Ar_26_An_26_TNR_26_Image133_jpg.rf.fe939a5a3a7cc29858483205519b0582.txt  \n",
            " extracting: valid/labels/Ar_26_An_26_TNR_26_Image137_jpg.rf.97598f0a45eb65b387b971d282bf4222.txt  \n",
            " extracting: valid/labels/Ar_26_An_26_TNR_26_Image138_jpg.rf.992cabeb8874e0e7cccbcfddd1d1c321.txt  \n",
            " extracting: valid/labels/Ar_26_An_26_TNR_26_Image143_jpg.rf.c4d94105a3aae8d99846ffc21dbaebd2.txt  \n",
            " extracting: valid/labels/Ar_26_An_26_TNR_26_Image145_jpg.rf.d856d69bb31d1ac1793e6eb91cee8fef.txt  \n",
            " extracting: valid/labels/Ar_26_An_26_TNR_26_Image150_jpg.rf.1b644a29d0573279e8a7ca25ce3151ac.txt  \n",
            " extracting: valid/labels/Ar_26_An_26_TNR_26_Image174_jpg.rf.7bc77f7dc0e9227adc846481b3a514e5.txt  \n",
            " extracting: valid/labels/Ar_26_An_26_TNR_26_Image181_jpg.rf.a89da6e1e80cecb5c63298cb2c1f179b.txt  \n",
            " extracting: valid/labels/Ar_26_An_26_TNR_26_Image182_jpg.rf.8779aeb6dd8ad90c2eb1a192649ff152.txt  \n",
            " extracting: valid/labels/Ar_26_An_26_TNR_26_Image183_jpg.rf.c62c708ad2c699a85679f8d013d5e581.txt  \n",
            " extracting: valid/labels/Ar_26_An_26_TNR_26_Image188_jpg.rf.f873d7af3438416ccd29800207019cbe.txt  \n",
            " extracting: valid/labels/Ar_26_An_26_TNR_26_Image189_jpg.rf.90c238bbbf42b8a737b2c426183f4c64.txt  \n",
            " extracting: valid/labels/Ar_26_An_26_TNR_26_Image190_jpg.rf.669e700e0c9f7db722cf12dd64c836c8.txt  \n",
            " extracting: valid/labels/Ar_26_An_26_TNR_26_Image192_jpg.rf.ba42aaa008d5817a521f4b9207d23eb6.txt  \n",
            " extracting: valid/labels/Ar_26_An_26_TNR_26_Image306_jpg.rf.5e2327980b821c061efe7966d5782a87.txt  \n",
            " extracting: valid/labels/Ar_26_An_26_TNR_26_Image312_jpg.rf.49c9c9c3cd1c26af328f9dcedeb84842.txt  \n",
            " extracting: valid/labels/Ar_26_An_26_TNR_26_Image314_jpg.rf.bee433ffa941342cc8c07a3dbe0356e3.txt  \n",
            " extracting: valid/labels/Ar_26_An_26_TNR_26_Image315_jpg.rf.849f2d54a18ac6797bc3cf3fd2da0092.txt  \n",
            " extracting: valid/labels/Ar_26_An_26_TNR_26_Image316_jpg.rf.15ef86b8a3d056e9638c25b2ebe3a7e1.txt  \n",
            " extracting: valid/labels/Ar_26_An_26_TNR_26_Image317_jpg.rf.a69a59a9f10047b7ca997c742bd66182.txt  \n",
            " extracting: valid/labels/Ar_26_An_26_TNR_26_Image325_jpg.rf.343679672a213e0878962052e758fb46.txt  \n",
            " extracting: valid/labels/Ar_26_An_26_TNR_26_Image331_jpg.rf.eea5405bfee77f89fc5cf5694b7af220.txt  \n",
            " extracting: valid/labels/Ar_26_An_26_TNR_26_Image335_jpg.rf.636f66b67714912790ec8df2518a1c1a.txt  \n",
            " extracting: valid/labels/Ar_26_An_26_TNR_26_Image344_jpg.rf.36b96ac014ece9a66ff859b3846be8a9.txt  \n",
            " extracting: valid/labels/Ar_26_An_26_TNR_26_Image349_jpg.rf.3143b158e50ac42267322b4df42ac86c.txt  \n",
            " extracting: valid/labels/Ar_26_An_26_TNR_26_Image350_jpg.rf.5de249ef3d7239020b2a233875f1d2e0.txt  \n",
            " extracting: valid/labels/Ar_26_An_26_TNR_26_Image353_jpg.rf.59d6c083bb164ac435c66e847933655c.txt  \n",
            " extracting: valid/labels/Ar_26_An_26_TNR_26_Image363_jpg.rf.0fed52399e3e49a5bfad3f0021558fcd.txt  \n",
            " extracting: valid/labels/Ar_26_An_26_TNR_26_Image371_jpg.rf.b41f701600a596606ea7fb1005814b28.txt  \n",
            " extracting: valid/labels/Ar_26_An_26_TNR_26_Image374_jpg.rf.3dd7bf18e8736c8d50be0cbd4056aa41.txt  \n",
            " extracting: valid/labels/Ar_26_An_26_TNR_26_Image386_jpg.rf.4c8604d8c69ca364fb0554ec71774ace.txt  \n"
          ]
        }
      ]
    },
    {
      "cell_type": "code",
      "source": [
        "from ultralytics import YOLO\n",
        "\n",
        "# Load a pretrained YOLOv8 model (you can choose 'yolov8n', 'yolov8s', etc.)\n",
        "model = YOLO(\"yolov8n.pt\")  # You can change this to 'yolov8m.pt' or 'yolov8l.pt'\n",
        "\n",
        "# Train the model on the dataset\n",
        "model.train(\n",
        "    data=f\"/content/data.yaml\",  # Path to the dataset's data.yaml file\n",
        "    epochs=50,   # Number of training epochs\n",
        "    imgsz=640,    # Image size (you can adjust this)\n",
        "    batch=64,     # Batch size (adjust based on your GPU capabilities)\n",
        "    device=0      # Use GPU (0) if available, otherwise CPU\n",
        ")"
      ],
      "metadata": {
        "colab": {
          "base_uri": "https://localhost:8080/"
        },
        "id": "m0cPhszBt7wS",
        "outputId": "e2c1aa88-f589-4e31-93ed-ba1c3b21ca09"
      },
      "execution_count": null,
      "outputs": [
        {
          "output_type": "stream",
          "name": "stdout",
          "text": [
            "Ultralytics 8.3.39 🚀 Python-3.10.12 torch-2.5.1+cu121 CUDA:0 (Tesla T4, 15102MiB)\n",
            "\u001b[34m\u001b[1mengine/trainer: \u001b[0mtask=detect, mode=train, model=yolov8n.pt, data=/content/data.yaml, epochs=50, time=None, patience=100, batch=64, imgsz=640, save=True, save_period=-1, cache=False, device=0, workers=8, project=None, name=train, exist_ok=False, pretrained=True, optimizer=auto, verbose=True, seed=0, deterministic=True, single_cls=False, rect=False, cos_lr=False, close_mosaic=10, resume=False, amp=True, fraction=1.0, profile=False, freeze=None, multi_scale=False, overlap_mask=True, mask_ratio=4, dropout=0.0, val=True, split=val, save_json=False, save_hybrid=False, conf=None, iou=0.7, max_det=300, half=False, dnn=False, plots=True, source=None, vid_stride=1, stream_buffer=False, visualize=False, augment=False, agnostic_nms=False, classes=None, retina_masks=False, embed=None, show=False, save_frames=False, save_txt=False, save_conf=False, save_crop=False, show_labels=True, show_conf=True, show_boxes=True, line_width=None, format=torchscript, keras=False, optimize=False, int8=False, dynamic=False, simplify=True, opset=None, workspace=None, nms=False, lr0=0.01, lrf=0.01, momentum=0.937, weight_decay=0.0005, warmup_epochs=3.0, warmup_momentum=0.8, warmup_bias_lr=0.1, box=7.5, cls=0.5, dfl=1.5, pose=12.0, kobj=1.0, nbs=64, hsv_h=0.015, hsv_s=0.7, hsv_v=0.4, degrees=0.0, translate=0.1, scale=0.5, shear=0.0, perspective=0.0, flipud=0.0, fliplr=0.5, bgr=0.0, mosaic=1.0, mixup=0.0, copy_paste=0.0, copy_paste_mode=flip, auto_augment=randaugment, erasing=0.4, crop_fraction=1.0, cfg=None, tracker=botsort.yaml, save_dir=runs/detect/train\n",
            "Downloading https://ultralytics.com/assets/Arial.ttf to '/root/.config/Ultralytics/Arial.ttf'...\n"
          ]
        },
        {
          "output_type": "stream",
          "name": "stderr",
          "text": [
            "100%|██████████| 755k/755k [00:00<00:00, 95.8MB/s]\n"
          ]
        },
        {
          "output_type": "stream",
          "name": "stdout",
          "text": [
            "Overriding model.yaml nc=80 with nc=1\n",
            "\n",
            "                   from  n    params  module                                       arguments                     \n",
            "  0                  -1  1       464  ultralytics.nn.modules.conv.Conv             [3, 16, 3, 2]                 \n",
            "  1                  -1  1      4672  ultralytics.nn.modules.conv.Conv             [16, 32, 3, 2]                \n",
            "  2                  -1  1      7360  ultralytics.nn.modules.block.C2f             [32, 32, 1, True]             \n",
            "  3                  -1  1     18560  ultralytics.nn.modules.conv.Conv             [32, 64, 3, 2]                \n",
            "  4                  -1  2     49664  ultralytics.nn.modules.block.C2f             [64, 64, 2, True]             \n",
            "  5                  -1  1     73984  ultralytics.nn.modules.conv.Conv             [64, 128, 3, 2]               \n",
            "  6                  -1  2    197632  ultralytics.nn.modules.block.C2f             [128, 128, 2, True]           \n",
            "  7                  -1  1    295424  ultralytics.nn.modules.conv.Conv             [128, 256, 3, 2]              \n",
            "  8                  -1  1    460288  ultralytics.nn.modules.block.C2f             [256, 256, 1, True]           \n",
            "  9                  -1  1    164608  ultralytics.nn.modules.block.SPPF            [256, 256, 5]                 \n",
            " 10                  -1  1         0  torch.nn.modules.upsampling.Upsample         [None, 2, 'nearest']          \n",
            " 11             [-1, 6]  1         0  ultralytics.nn.modules.conv.Concat           [1]                           \n",
            " 12                  -1  1    148224  ultralytics.nn.modules.block.C2f             [384, 128, 1]                 \n",
            " 13                  -1  1         0  torch.nn.modules.upsampling.Upsample         [None, 2, 'nearest']          \n",
            " 14             [-1, 4]  1         0  ultralytics.nn.modules.conv.Concat           [1]                           \n",
            " 15                  -1  1     37248  ultralytics.nn.modules.block.C2f             [192, 64, 1]                  \n",
            " 16                  -1  1     36992  ultralytics.nn.modules.conv.Conv             [64, 64, 3, 2]                \n",
            " 17            [-1, 12]  1         0  ultralytics.nn.modules.conv.Concat           [1]                           \n",
            " 18                  -1  1    123648  ultralytics.nn.modules.block.C2f             [192, 128, 1]                 \n",
            " 19                  -1  1    147712  ultralytics.nn.modules.conv.Conv             [128, 128, 3, 2]              \n",
            " 20             [-1, 9]  1         0  ultralytics.nn.modules.conv.Concat           [1]                           \n",
            " 21                  -1  1    493056  ultralytics.nn.modules.block.C2f             [384, 256, 1]                 \n",
            " 22        [15, 18, 21]  1    751507  ultralytics.nn.modules.head.Detect           [1, [64, 128, 256]]           \n",
            "Model summary: 225 layers, 3,011,043 parameters, 3,011,027 gradients, 8.2 GFLOPs\n",
            "\n",
            "Transferred 319/355 items from pretrained weights\n",
            "\u001b[34m\u001b[1mTensorBoard: \u001b[0mStart with 'tensorboard --logdir runs/detect/train', view at http://localhost:6006/\n",
            "Freezing layer 'model.22.dfl.conv.weight'\n",
            "\u001b[34m\u001b[1mAMP: \u001b[0mrunning Automatic Mixed Precision (AMP) checks...\n",
            "Downloading https://github.com/ultralytics/assets/releases/download/v8.3.0/yolo11n.pt to 'yolo11n.pt'...\n"
          ]
        },
        {
          "output_type": "stream",
          "name": "stderr",
          "text": [
            "100%|██████████| 5.35M/5.35M [00:00<00:00, 286MB/s]\n"
          ]
        },
        {
          "output_type": "stream",
          "name": "stdout",
          "text": [
            "\u001b[34m\u001b[1mAMP: \u001b[0mchecks passed ✅\n"
          ]
        },
        {
          "output_type": "stream",
          "name": "stderr",
          "text": [
            "\u001b[34m\u001b[1mtrain: \u001b[0mScanning /content/train/labels... 369 images, 0 backgrounds, 0 corrupt: 100%|██████████| 369/369 [00:00<00:00, 2066.98it/s]"
          ]
        },
        {
          "output_type": "stream",
          "name": "stdout",
          "text": [
            "\u001b[34m\u001b[1mtrain: \u001b[0mNew cache created: /content/train/labels.cache\n"
          ]
        },
        {
          "output_type": "stream",
          "name": "stderr",
          "text": [
            "\n"
          ]
        },
        {
          "output_type": "stream",
          "name": "stdout",
          "text": [
            "\u001b[34m\u001b[1malbumentations: \u001b[0mBlur(p=0.01, blur_limit=(3, 7)), MedianBlur(p=0.01, blur_limit=(3, 7)), ToGray(p=0.01, num_output_channels=3, method='weighted_average'), CLAHE(p=0.01, clip_limit=(1.0, 4.0), tile_grid_size=(8, 8))\n"
          ]
        },
        {
          "output_type": "stream",
          "name": "stderr",
          "text": [
            "/usr/local/lib/python3.10/dist-packages/albumentations/__init__.py:24: UserWarning: A new version of Albumentations is available: 1.4.21 (you have 1.4.20). Upgrade using: pip install -U albumentations. To disable automatic update checks, set the environment variable NO_ALBUMENTATIONS_UPDATE to 1.\n",
            "  check_for_updates()\n",
            "\u001b[34m\u001b[1mval: \u001b[0mScanning /content/valid/labels... 106 images, 0 backgrounds, 0 corrupt: 100%|██████████| 106/106 [00:00<00:00, 1485.98it/s]"
          ]
        },
        {
          "output_type": "stream",
          "name": "stdout",
          "text": [
            "\u001b[34m\u001b[1mval: \u001b[0mNew cache created: /content/valid/labels.cache\n"
          ]
        },
        {
          "output_type": "stream",
          "name": "stderr",
          "text": [
            "\n"
          ]
        },
        {
          "output_type": "stream",
          "name": "stdout",
          "text": [
            "Plotting labels to runs/detect/train/labels.jpg... \n",
            "\u001b[34m\u001b[1moptimizer:\u001b[0m 'optimizer=auto' found, ignoring 'lr0=0.01' and 'momentum=0.937' and determining best 'optimizer', 'lr0' and 'momentum' automatically... \n",
            "\u001b[34m\u001b[1moptimizer:\u001b[0m AdamW(lr=0.002, momentum=0.9) with parameter groups 57 weight(decay=0.0), 64 weight(decay=0.0005), 63 bias(decay=0.0)\n",
            "\u001b[34m\u001b[1mTensorBoard: \u001b[0mmodel graph visualization added ✅\n",
            "Image sizes 640 train, 640 val\n",
            "Using 2 dataloader workers\n",
            "Logging results to \u001b[1mruns/detect/train\u001b[0m\n",
            "Starting training for 50 epochs...\n",
            "\n",
            "      Epoch    GPU_mem   box_loss   cls_loss   dfl_loss  Instances       Size\n"
          ]
        },
        {
          "output_type": "stream",
          "name": "stderr",
          "text": [
            "       1/50      8.18G      1.638      3.013      1.453        290        640: 100%|██████████| 6/6 [00:06<00:00,  1.12s/it]\n",
            "                 Class     Images  Instances      Box(P          R      mAP50  mAP50-95): 100%|██████████| 1/1 [00:05<00:00,  5.03s/it]"
          ]
        },
        {
          "output_type": "stream",
          "name": "stdout",
          "text": [
            "                   all        106        318    0.00943      0.943      0.174     0.0679\n"
          ]
        },
        {
          "output_type": "stream",
          "name": "stderr",
          "text": [
            "\n"
          ]
        },
        {
          "output_type": "stream",
          "name": "stdout",
          "text": [
            "\n",
            "      Epoch    GPU_mem   box_loss   cls_loss   dfl_loss  Instances       Size\n"
          ]
        },
        {
          "output_type": "stream",
          "name": "stderr",
          "text": [
            "       2/50      8.12G      1.177      2.199      1.149        270        640: 100%|██████████| 6/6 [00:03<00:00,  1.65it/s]\n",
            "                 Class     Images  Instances      Box(P          R      mAP50  mAP50-95): 100%|██████████| 1/1 [00:01<00:00,  1.35s/it]"
          ]
        },
        {
          "output_type": "stream",
          "name": "stdout",
          "text": [
            "                   all        106        318      0.911      0.969      0.974      0.602\n"
          ]
        },
        {
          "output_type": "stream",
          "name": "stderr",
          "text": [
            "\n"
          ]
        },
        {
          "output_type": "stream",
          "name": "stdout",
          "text": [
            "\n",
            "      Epoch    GPU_mem   box_loss   cls_loss   dfl_loss  Instances       Size\n"
          ]
        },
        {
          "output_type": "stream",
          "name": "stderr",
          "text": [
            "       3/50      8.12G      1.022      1.126      1.014        277        640: 100%|██████████| 6/6 [00:03<00:00,  1.53it/s]\n",
            "                 Class     Images  Instances      Box(P          R      mAP50  mAP50-95): 100%|██████████| 1/1 [00:02<00:00,  2.24s/it]"
          ]
        },
        {
          "output_type": "stream",
          "name": "stdout",
          "text": [
            "                   all        106        318       0.91      0.975      0.977      0.647\n"
          ]
        },
        {
          "output_type": "stream",
          "name": "stderr",
          "text": [
            "\n"
          ]
        },
        {
          "output_type": "stream",
          "name": "stdout",
          "text": [
            "\n",
            "      Epoch    GPU_mem   box_loss   cls_loss   dfl_loss  Instances       Size\n"
          ]
        },
        {
          "output_type": "stream",
          "name": "stderr",
          "text": [
            "       4/50      8.12G     0.9911     0.8951     0.9709        232        640: 100%|██████████| 6/6 [00:03<00:00,  1.67it/s]\n",
            "                 Class     Images  Instances      Box(P          R      mAP50  mAP50-95): 100%|██████████| 1/1 [00:01<00:00,  1.21s/it]"
          ]
        },
        {
          "output_type": "stream",
          "name": "stdout",
          "text": [
            "                   all        106        318      0.933      0.984      0.987      0.599\n"
          ]
        },
        {
          "output_type": "stream",
          "name": "stderr",
          "text": [
            "\n"
          ]
        },
        {
          "output_type": "stream",
          "name": "stdout",
          "text": [
            "\n",
            "      Epoch    GPU_mem   box_loss   cls_loss   dfl_loss  Instances       Size\n"
          ]
        },
        {
          "output_type": "stream",
          "name": "stderr",
          "text": [
            "       5/50      8.12G      1.016     0.8109     0.9729        283        640: 100%|██████████| 6/6 [00:03<00:00,  1.51it/s]\n",
            "                 Class     Images  Instances      Box(P          R      mAP50  mAP50-95): 100%|██████████| 1/1 [00:02<00:00,  2.18s/it]"
          ]
        },
        {
          "output_type": "stream",
          "name": "stdout",
          "text": [
            "                   all        106        318      0.972      0.978      0.988      0.647\n"
          ]
        },
        {
          "output_type": "stream",
          "name": "stderr",
          "text": [
            "\n"
          ]
        },
        {
          "output_type": "stream",
          "name": "stdout",
          "text": [
            "\n",
            "      Epoch    GPU_mem   box_loss   cls_loss   dfl_loss  Instances       Size\n"
          ]
        },
        {
          "output_type": "stream",
          "name": "stderr",
          "text": [
            "       6/50      8.12G     0.9939     0.7733     0.9609        273        640: 100%|██████████| 6/6 [00:04<00:00,  1.48it/s]\n",
            "                 Class     Images  Instances      Box(P          R      mAP50  mAP50-95): 100%|██████████| 1/1 [00:01<00:00,  1.49s/it]"
          ]
        },
        {
          "output_type": "stream",
          "name": "stdout",
          "text": [
            "                   all        106        318      0.966      0.981       0.99      0.666\n"
          ]
        },
        {
          "output_type": "stream",
          "name": "stderr",
          "text": [
            "\n"
          ]
        },
        {
          "output_type": "stream",
          "name": "stdout",
          "text": [
            "\n",
            "      Epoch    GPU_mem   box_loss   cls_loss   dfl_loss  Instances       Size\n"
          ]
        },
        {
          "output_type": "stream",
          "name": "stderr",
          "text": [
            "       7/50       8.1G     0.9572     0.7311     0.9551        235        640: 100%|██████████| 6/6 [00:03<00:00,  1.66it/s]\n",
            "                 Class     Images  Instances      Box(P          R      mAP50  mAP50-95): 100%|██████████| 1/1 [00:02<00:00,  2.11s/it]"
          ]
        },
        {
          "output_type": "stream",
          "name": "stdout",
          "text": [
            "                   all        106        318      0.952      0.975      0.989      0.627\n"
          ]
        },
        {
          "output_type": "stream",
          "name": "stderr",
          "text": [
            "\n"
          ]
        },
        {
          "output_type": "stream",
          "name": "stdout",
          "text": [
            "\n",
            "      Epoch    GPU_mem   box_loss   cls_loss   dfl_loss  Instances       Size\n"
          ]
        },
        {
          "output_type": "stream",
          "name": "stderr",
          "text": [
            "       8/50      8.12G     0.9614     0.6982     0.9462        267        640: 100%|██████████| 6/6 [00:03<00:00,  1.68it/s]\n",
            "                 Class     Images  Instances      Box(P          R      mAP50  mAP50-95): 100%|██████████| 1/1 [00:01<00:00,  1.42s/it]"
          ]
        },
        {
          "output_type": "stream",
          "name": "stdout",
          "text": [
            "                   all        106        318      0.846      0.956      0.973      0.612\n"
          ]
        },
        {
          "output_type": "stream",
          "name": "stderr",
          "text": [
            "\n"
          ]
        },
        {
          "output_type": "stream",
          "name": "stdout",
          "text": [
            "\n",
            "      Epoch    GPU_mem   box_loss   cls_loss   dfl_loss  Instances       Size\n"
          ]
        },
        {
          "output_type": "stream",
          "name": "stderr",
          "text": [
            "       9/50      8.12G      0.955     0.7049     0.9366        270        640: 100%|██████████| 6/6 [00:03<00:00,  1.65it/s]\n",
            "                 Class     Images  Instances      Box(P          R      mAP50  mAP50-95): 100%|██████████| 1/1 [00:01<00:00,  1.97s/it]"
          ]
        },
        {
          "output_type": "stream",
          "name": "stdout",
          "text": [
            "                   all        106        318      0.994      0.995      0.992      0.713\n"
          ]
        },
        {
          "output_type": "stream",
          "name": "stderr",
          "text": [
            "\n"
          ]
        },
        {
          "output_type": "stream",
          "name": "stdout",
          "text": [
            "\n",
            "      Epoch    GPU_mem   box_loss   cls_loss   dfl_loss  Instances       Size\n"
          ]
        },
        {
          "output_type": "stream",
          "name": "stderr",
          "text": [
            "      10/50       8.1G     0.9482     0.6661     0.9375        276        640: 100%|██████████| 6/6 [00:04<00:00,  1.33it/s]\n",
            "                 Class     Images  Instances      Box(P          R      mAP50  mAP50-95): 100%|██████████| 1/1 [00:01<00:00,  1.53s/it]"
          ]
        },
        {
          "output_type": "stream",
          "name": "stdout",
          "text": [
            "                   all        106        318      0.988      0.991      0.995      0.698\n"
          ]
        },
        {
          "output_type": "stream",
          "name": "stderr",
          "text": [
            "\n"
          ]
        },
        {
          "output_type": "stream",
          "name": "stdout",
          "text": [
            "\n",
            "      Epoch    GPU_mem   box_loss   cls_loss   dfl_loss  Instances       Size\n"
          ]
        },
        {
          "output_type": "stream",
          "name": "stderr",
          "text": [
            "      11/50       8.1G     0.9346     0.6498     0.9438        284        640: 100%|██████████| 6/6 [00:03<00:00,  1.59it/s]\n",
            "                 Class     Images  Instances      Box(P          R      mAP50  mAP50-95): 100%|██████████| 1/1 [00:01<00:00,  1.38s/it]"
          ]
        },
        {
          "output_type": "stream",
          "name": "stdout",
          "text": [
            "                   all        106        318      0.824      0.903       0.95      0.597\n"
          ]
        },
        {
          "output_type": "stream",
          "name": "stderr",
          "text": [
            "\n"
          ]
        },
        {
          "output_type": "stream",
          "name": "stdout",
          "text": [
            "\n",
            "      Epoch    GPU_mem   box_loss   cls_loss   dfl_loss  Instances       Size\n"
          ]
        },
        {
          "output_type": "stream",
          "name": "stderr",
          "text": [
            "      12/50       8.1G     0.9832     0.6847     0.9522        248        640: 100%|██████████| 6/6 [00:04<00:00,  1.29it/s]\n",
            "                 Class     Images  Instances      Box(P          R      mAP50  mAP50-95): 100%|██████████| 1/1 [00:01<00:00,  1.51s/it]"
          ]
        },
        {
          "output_type": "stream",
          "name": "stdout",
          "text": [
            "                   all        106        318      0.963      0.987      0.984      0.661\n"
          ]
        },
        {
          "output_type": "stream",
          "name": "stderr",
          "text": [
            "\n"
          ]
        },
        {
          "output_type": "stream",
          "name": "stdout",
          "text": [
            "\n",
            "      Epoch    GPU_mem   box_loss   cls_loss   dfl_loss  Instances       Size\n"
          ]
        },
        {
          "output_type": "stream",
          "name": "stderr",
          "text": [
            "      13/50      8.12G     0.9737     0.6615     0.9677        258        640: 100%|██████████| 6/6 [00:03<00:00,  1.52it/s]\n",
            "                 Class     Images  Instances      Box(P          R      mAP50  mAP50-95): 100%|██████████| 1/1 [00:01<00:00,  1.43s/it]"
          ]
        },
        {
          "output_type": "stream",
          "name": "stdout",
          "text": [
            "                   all        106        318      0.978      0.977      0.989      0.721\n"
          ]
        },
        {
          "output_type": "stream",
          "name": "stderr",
          "text": [
            "\n"
          ]
        },
        {
          "output_type": "stream",
          "name": "stdout",
          "text": [
            "\n",
            "      Epoch    GPU_mem   box_loss   cls_loss   dfl_loss  Instances       Size\n"
          ]
        },
        {
          "output_type": "stream",
          "name": "stderr",
          "text": [
            "      14/50      8.12G     0.9843     0.6417      0.953        263        640: 100%|██████████| 6/6 [00:04<00:00,  1.41it/s]\n",
            "                 Class     Images  Instances      Box(P          R      mAP50  mAP50-95): 100%|██████████| 1/1 [00:02<00:00,  2.25s/it]"
          ]
        },
        {
          "output_type": "stream",
          "name": "stdout",
          "text": [
            "                   all        106        318      0.985      0.994      0.992      0.696\n"
          ]
        },
        {
          "output_type": "stream",
          "name": "stderr",
          "text": [
            "\n"
          ]
        },
        {
          "output_type": "stream",
          "name": "stdout",
          "text": [
            "\n",
            "      Epoch    GPU_mem   box_loss   cls_loss   dfl_loss  Instances       Size\n"
          ]
        },
        {
          "output_type": "stream",
          "name": "stderr",
          "text": [
            "      15/50      8.12G     0.9754     0.6248     0.9503        282        640: 100%|██████████| 6/6 [00:03<00:00,  1.62it/s]\n",
            "                 Class     Images  Instances      Box(P          R      mAP50  mAP50-95): 100%|██████████| 1/1 [00:01<00:00,  1.31s/it]"
          ]
        },
        {
          "output_type": "stream",
          "name": "stdout",
          "text": [
            "                   all        106        318      0.956      0.994      0.988        0.7\n"
          ]
        },
        {
          "output_type": "stream",
          "name": "stderr",
          "text": [
            "\n"
          ]
        },
        {
          "output_type": "stream",
          "name": "stdout",
          "text": [
            "\n",
            "      Epoch    GPU_mem   box_loss   cls_loss   dfl_loss  Instances       Size\n"
          ]
        },
        {
          "output_type": "stream",
          "name": "stderr",
          "text": [
            "      16/50       8.1G      0.954     0.6072     0.9394        251        640: 100%|██████████| 6/6 [00:03<00:00,  1.53it/s]\n",
            "                 Class     Images  Instances      Box(P          R      mAP50  mAP50-95): 100%|██████████| 1/1 [00:02<00:00,  2.19s/it]"
          ]
        },
        {
          "output_type": "stream",
          "name": "stdout",
          "text": [
            "                   all        106        318       0.99      0.975      0.993      0.722\n"
          ]
        },
        {
          "output_type": "stream",
          "name": "stderr",
          "text": [
            "\n"
          ]
        },
        {
          "output_type": "stream",
          "name": "stdout",
          "text": [
            "\n",
            "      Epoch    GPU_mem   box_loss   cls_loss   dfl_loss  Instances       Size\n"
          ]
        },
        {
          "output_type": "stream",
          "name": "stderr",
          "text": [
            "      17/50      8.12G     0.9593     0.6024     0.9533        284        640: 100%|██████████| 6/6 [00:03<00:00,  1.62it/s]\n",
            "                 Class     Images  Instances      Box(P          R      mAP50  mAP50-95): 100%|██████████| 1/1 [00:01<00:00,  1.27s/it]"
          ]
        },
        {
          "output_type": "stream",
          "name": "stdout",
          "text": [
            "                   all        106        318      0.975      0.967       0.99      0.715\n"
          ]
        },
        {
          "output_type": "stream",
          "name": "stderr",
          "text": [
            "\n"
          ]
        },
        {
          "output_type": "stream",
          "name": "stdout",
          "text": [
            "\n",
            "      Epoch    GPU_mem   box_loss   cls_loss   dfl_loss  Instances       Size\n"
          ]
        },
        {
          "output_type": "stream",
          "name": "stderr",
          "text": [
            "      18/50      8.13G      0.955     0.5762     0.9507        281        640: 100%|██████████| 6/6 [00:03<00:00,  1.60it/s]\n",
            "                 Class     Images  Instances      Box(P          R      mAP50  mAP50-95): 100%|██████████| 1/1 [00:01<00:00,  1.97s/it]"
          ]
        },
        {
          "output_type": "stream",
          "name": "stdout",
          "text": [
            "                   all        106        318      0.981      0.971       0.99      0.692\n"
          ]
        },
        {
          "output_type": "stream",
          "name": "stderr",
          "text": [
            "\n"
          ]
        },
        {
          "output_type": "stream",
          "name": "stdout",
          "text": [
            "\n",
            "      Epoch    GPU_mem   box_loss   cls_loss   dfl_loss  Instances       Size\n"
          ]
        },
        {
          "output_type": "stream",
          "name": "stderr",
          "text": [
            "      19/50      8.12G     0.9571     0.5809     0.9552        295        640: 100%|██████████| 6/6 [00:03<00:00,  1.52it/s]\n",
            "                 Class     Images  Instances      Box(P          R      mAP50  mAP50-95): 100%|██████████| 1/1 [00:01<00:00,  1.41s/it]"
          ]
        },
        {
          "output_type": "stream",
          "name": "stdout",
          "text": [
            "                   all        106        318      0.897      0.872      0.933      0.652\n"
          ]
        },
        {
          "output_type": "stream",
          "name": "stderr",
          "text": [
            "\n"
          ]
        },
        {
          "output_type": "stream",
          "name": "stdout",
          "text": [
            "\n",
            "      Epoch    GPU_mem   box_loss   cls_loss   dfl_loss  Instances       Size\n"
          ]
        },
        {
          "output_type": "stream",
          "name": "stderr",
          "text": [
            "      20/50      8.12G     0.9278     0.5594     0.9411        286        640: 100%|██████████| 6/6 [00:03<00:00,  1.65it/s]\n",
            "                 Class     Images  Instances      Box(P          R      mAP50  mAP50-95): 100%|██████████| 1/1 [00:01<00:00,  1.77s/it]"
          ]
        },
        {
          "output_type": "stream",
          "name": "stdout",
          "text": [
            "                   all        106        318      0.937      0.836      0.915      0.582\n"
          ]
        },
        {
          "output_type": "stream",
          "name": "stderr",
          "text": [
            "\n"
          ]
        },
        {
          "output_type": "stream",
          "name": "stdout",
          "text": [
            "\n",
            "      Epoch    GPU_mem   box_loss   cls_loss   dfl_loss  Instances       Size\n"
          ]
        },
        {
          "output_type": "stream",
          "name": "stderr",
          "text": [
            "      21/50      8.12G     0.9499      0.572     0.9503        292        640: 100%|██████████| 6/6 [00:04<00:00,  1.28it/s]\n",
            "                 Class     Images  Instances      Box(P          R      mAP50  mAP50-95): 100%|██████████| 1/1 [00:01<00:00,  1.40s/it]"
          ]
        },
        {
          "output_type": "stream",
          "name": "stdout",
          "text": [
            "                   all        106        318      0.958      0.953      0.986       0.67\n"
          ]
        },
        {
          "output_type": "stream",
          "name": "stderr",
          "text": [
            "\n"
          ]
        },
        {
          "output_type": "stream",
          "name": "stdout",
          "text": [
            "\n",
            "      Epoch    GPU_mem   box_loss   cls_loss   dfl_loss  Instances       Size\n"
          ]
        },
        {
          "output_type": "stream",
          "name": "stderr",
          "text": [
            "      22/50      8.12G     0.9402     0.5513     0.9496        310        640: 100%|██████████| 6/6 [00:03<00:00,  1.61it/s]\n",
            "                 Class     Images  Instances      Box(P          R      mAP50  mAP50-95): 100%|██████████| 1/1 [00:01<00:00,  1.44s/it]"
          ]
        },
        {
          "output_type": "stream",
          "name": "stdout",
          "text": [
            "                   all        106        318      0.949       0.94      0.982      0.702\n"
          ]
        },
        {
          "output_type": "stream",
          "name": "stderr",
          "text": [
            "\n"
          ]
        },
        {
          "output_type": "stream",
          "name": "stdout",
          "text": [
            "\n",
            "      Epoch    GPU_mem   box_loss   cls_loss   dfl_loss  Instances       Size\n"
          ]
        },
        {
          "output_type": "stream",
          "name": "stderr",
          "text": [
            "      23/50      8.12G     0.9277     0.5263     0.9437        283        640: 100%|██████████| 6/6 [00:04<00:00,  1.25it/s]\n",
            "                 Class     Images  Instances      Box(P          R      mAP50  mAP50-95): 100%|██████████| 1/1 [00:01<00:00,  1.25s/it]"
          ]
        },
        {
          "output_type": "stream",
          "name": "stdout",
          "text": [
            "                   all        106        318      0.964      0.972      0.989      0.718\n"
          ]
        },
        {
          "output_type": "stream",
          "name": "stderr",
          "text": [
            "\n"
          ]
        },
        {
          "output_type": "stream",
          "name": "stdout",
          "text": [
            "\n",
            "      Epoch    GPU_mem   box_loss   cls_loss   dfl_loss  Instances       Size\n"
          ]
        },
        {
          "output_type": "stream",
          "name": "stderr",
          "text": [
            "      24/50      8.12G      0.927     0.5193     0.9386        276        640: 100%|██████████| 6/6 [00:03<00:00,  1.56it/s]\n",
            "                 Class     Images  Instances      Box(P          R      mAP50  mAP50-95): 100%|██████████| 1/1 [00:01<00:00,  1.46s/it]"
          ]
        },
        {
          "output_type": "stream",
          "name": "stdout",
          "text": [
            "                   all        106        318      0.945      0.861      0.948      0.654\n"
          ]
        },
        {
          "output_type": "stream",
          "name": "stderr",
          "text": [
            "\n"
          ]
        },
        {
          "output_type": "stream",
          "name": "stdout",
          "text": [
            "\n",
            "      Epoch    GPU_mem   box_loss   cls_loss   dfl_loss  Instances       Size\n"
          ]
        },
        {
          "output_type": "stream",
          "name": "stderr",
          "text": [
            "      25/50       8.1G     0.9328     0.5147     0.9449        258        640: 100%|██████████| 6/6 [00:04<00:00,  1.44it/s]\n",
            "                 Class     Images  Instances      Box(P          R      mAP50  mAP50-95): 100%|██████████| 1/1 [00:02<00:00,  2.10s/it]"
          ]
        },
        {
          "output_type": "stream",
          "name": "stdout",
          "text": [
            "                   all        106        318      0.984       0.95      0.983      0.715\n"
          ]
        },
        {
          "output_type": "stream",
          "name": "stderr",
          "text": [
            "\n"
          ]
        },
        {
          "output_type": "stream",
          "name": "stdout",
          "text": [
            "\n",
            "      Epoch    GPU_mem   box_loss   cls_loss   dfl_loss  Instances       Size\n"
          ]
        },
        {
          "output_type": "stream",
          "name": "stderr",
          "text": [
            "      26/50       8.1G     0.9261     0.4989     0.9472        271        640: 100%|██████████| 6/6 [00:03<00:00,  1.53it/s]\n",
            "                 Class     Images  Instances      Box(P          R      mAP50  mAP50-95): 100%|██████████| 1/1 [00:01<00:00,  1.26s/it]"
          ]
        },
        {
          "output_type": "stream",
          "name": "stdout",
          "text": [
            "                   all        106        318      0.977       0.94      0.986      0.698\n"
          ]
        },
        {
          "output_type": "stream",
          "name": "stderr",
          "text": [
            "\n"
          ]
        },
        {
          "output_type": "stream",
          "name": "stdout",
          "text": [
            "\n",
            "      Epoch    GPU_mem   box_loss   cls_loss   dfl_loss  Instances       Size\n"
          ]
        },
        {
          "output_type": "stream",
          "name": "stderr",
          "text": [
            "      27/50       8.1G     0.9173     0.4879     0.9343        270        640: 100%|██████████| 6/6 [00:03<00:00,  1.53it/s]\n",
            "                 Class     Images  Instances      Box(P          R      mAP50  mAP50-95): 100%|██████████| 1/1 [00:02<00:00,  2.02s/it]"
          ]
        },
        {
          "output_type": "stream",
          "name": "stdout",
          "text": [
            "                   all        106        318      0.976      0.975       0.99      0.647\n"
          ]
        },
        {
          "output_type": "stream",
          "name": "stderr",
          "text": [
            "\n"
          ]
        },
        {
          "output_type": "stream",
          "name": "stdout",
          "text": [
            "\n",
            "      Epoch    GPU_mem   box_loss   cls_loss   dfl_loss  Instances       Size\n"
          ]
        },
        {
          "output_type": "stream",
          "name": "stderr",
          "text": [
            "      28/50       8.1G     0.9142     0.4973     0.9358        250        640: 100%|██████████| 6/6 [00:03<00:00,  1.60it/s]\n",
            "                 Class     Images  Instances      Box(P          R      mAP50  mAP50-95): 100%|██████████| 1/1 [00:01<00:00,  1.32s/it]"
          ]
        },
        {
          "output_type": "stream",
          "name": "stdout",
          "text": [
            "                   all        106        318      0.987      0.988      0.993      0.706\n"
          ]
        },
        {
          "output_type": "stream",
          "name": "stderr",
          "text": [
            "\n"
          ]
        },
        {
          "output_type": "stream",
          "name": "stdout",
          "text": [
            "\n",
            "      Epoch    GPU_mem   box_loss   cls_loss   dfl_loss  Instances       Size\n"
          ]
        },
        {
          "output_type": "stream",
          "name": "stderr",
          "text": [
            "      29/50       8.1G     0.9102     0.4799     0.9307        275        640: 100%|██████████| 6/6 [00:03<00:00,  1.65it/s]\n",
            "                 Class     Images  Instances      Box(P          R      mAP50  mAP50-95): 100%|██████████| 1/1 [00:01<00:00,  1.99s/it]"
          ]
        },
        {
          "output_type": "stream",
          "name": "stdout",
          "text": [
            "                   all        106        318      0.996      0.997      0.993      0.713\n"
          ]
        },
        {
          "output_type": "stream",
          "name": "stderr",
          "text": [
            "\n"
          ]
        },
        {
          "output_type": "stream",
          "name": "stdout",
          "text": [
            "\n",
            "      Epoch    GPU_mem   box_loss   cls_loss   dfl_loss  Instances       Size\n"
          ]
        },
        {
          "output_type": "stream",
          "name": "stderr",
          "text": [
            "      30/50      8.12G     0.9051     0.4801      0.935        256        640: 100%|██████████| 6/6 [00:04<00:00,  1.49it/s]\n",
            "                 Class     Images  Instances      Box(P          R      mAP50  mAP50-95): 100%|██████████| 1/1 [00:01<00:00,  1.36s/it]"
          ]
        },
        {
          "output_type": "stream",
          "name": "stdout",
          "text": [
            "                   all        106        318      0.996      0.997      0.993      0.733\n"
          ]
        },
        {
          "output_type": "stream",
          "name": "stderr",
          "text": [
            "\n"
          ]
        },
        {
          "output_type": "stream",
          "name": "stdout",
          "text": [
            "\n",
            "      Epoch    GPU_mem   box_loss   cls_loss   dfl_loss  Instances       Size\n"
          ]
        },
        {
          "output_type": "stream",
          "name": "stderr",
          "text": [
            "      31/50      8.12G     0.8925     0.4666     0.9316        267        640: 100%|██████████| 6/6 [00:03<00:00,  1.66it/s]\n",
            "                 Class     Images  Instances      Box(P          R      mAP50  mAP50-95): 100%|██████████| 1/1 [00:01<00:00,  1.75s/it]"
          ]
        },
        {
          "output_type": "stream",
          "name": "stdout",
          "text": [
            "                   all        106        318      0.995      0.997      0.992       0.73\n"
          ]
        },
        {
          "output_type": "stream",
          "name": "stderr",
          "text": [
            "\n"
          ]
        },
        {
          "output_type": "stream",
          "name": "stdout",
          "text": [
            "\n",
            "      Epoch    GPU_mem   box_loss   cls_loss   dfl_loss  Instances       Size\n"
          ]
        },
        {
          "output_type": "stream",
          "name": "stderr",
          "text": [
            "      32/50      8.12G     0.8889     0.4639     0.9267        238        640: 100%|██████████| 6/6 [00:04<00:00,  1.30it/s]\n",
            "                 Class     Images  Instances      Box(P          R      mAP50  mAP50-95): 100%|██████████| 1/1 [00:01<00:00,  1.41s/it]"
          ]
        },
        {
          "output_type": "stream",
          "name": "stdout",
          "text": [
            "                   all        106        318      0.996      0.997      0.992      0.731\n"
          ]
        },
        {
          "output_type": "stream",
          "name": "stderr",
          "text": [
            "\n"
          ]
        },
        {
          "output_type": "stream",
          "name": "stdout",
          "text": [
            "\n",
            "      Epoch    GPU_mem   box_loss   cls_loss   dfl_loss  Instances       Size\n"
          ]
        },
        {
          "output_type": "stream",
          "name": "stderr",
          "text": [
            "      33/50       8.1G     0.9036     0.4627     0.9319        288        640: 100%|██████████| 6/6 [00:03<00:00,  1.65it/s]\n",
            "                 Class     Images  Instances      Box(P          R      mAP50  mAP50-95): 100%|██████████| 1/1 [00:01<00:00,  1.25s/it]"
          ]
        },
        {
          "output_type": "stream",
          "name": "stdout",
          "text": [
            "                   all        106        318       0.99      0.994      0.992       0.72\n"
          ]
        },
        {
          "output_type": "stream",
          "name": "stderr",
          "text": [
            "\n"
          ]
        },
        {
          "output_type": "stream",
          "name": "stdout",
          "text": [
            "\n",
            "      Epoch    GPU_mem   box_loss   cls_loss   dfl_loss  Instances       Size\n"
          ]
        },
        {
          "output_type": "stream",
          "name": "stderr",
          "text": [
            "      34/50      8.12G     0.8794     0.4658     0.9201        288        640: 100%|██████████| 6/6 [00:04<00:00,  1.25it/s]\n",
            "                 Class     Images  Instances      Box(P          R      mAP50  mAP50-95): 100%|██████████| 1/1 [00:01<00:00,  1.16s/it]"
          ]
        },
        {
          "output_type": "stream",
          "name": "stdout",
          "text": [
            "                   all        106        318      0.991      0.994      0.993      0.709\n"
          ]
        },
        {
          "output_type": "stream",
          "name": "stderr",
          "text": [
            "\n"
          ]
        },
        {
          "output_type": "stream",
          "name": "stdout",
          "text": [
            "\n",
            "      Epoch    GPU_mem   box_loss   cls_loss   dfl_loss  Instances       Size\n"
          ]
        },
        {
          "output_type": "stream",
          "name": "stderr",
          "text": [
            "      35/50      8.11G     0.8948     0.4608     0.9308        268        640: 100%|██████████| 6/6 [00:04<00:00,  1.48it/s]\n",
            "                 Class     Images  Instances      Box(P          R      mAP50  mAP50-95): 100%|██████████| 1/1 [00:01<00:00,  1.29s/it]"
          ]
        },
        {
          "output_type": "stream",
          "name": "stdout",
          "text": [
            "                   all        106        318      0.994      0.997      0.992      0.729\n"
          ]
        },
        {
          "output_type": "stream",
          "name": "stderr",
          "text": [
            "\n"
          ]
        },
        {
          "output_type": "stream",
          "name": "stdout",
          "text": [
            "\n",
            "      Epoch    GPU_mem   box_loss   cls_loss   dfl_loss  Instances       Size\n"
          ]
        },
        {
          "output_type": "stream",
          "name": "stderr",
          "text": [
            "      36/50      8.12G     0.8748     0.4493     0.9199        272        640: 100%|██████████| 6/6 [00:04<00:00,  1.37it/s]\n",
            "                 Class     Images  Instances      Box(P          R      mAP50  mAP50-95): 100%|██████████| 1/1 [00:01<00:00,  1.90s/it]"
          ]
        },
        {
          "output_type": "stream",
          "name": "stdout",
          "text": [
            "                   all        106        318      0.996      0.997      0.992      0.735\n"
          ]
        },
        {
          "output_type": "stream",
          "name": "stderr",
          "text": [
            "\n"
          ]
        },
        {
          "output_type": "stream",
          "name": "stdout",
          "text": [
            "\n",
            "      Epoch    GPU_mem   box_loss   cls_loss   dfl_loss  Instances       Size\n"
          ]
        },
        {
          "output_type": "stream",
          "name": "stderr",
          "text": [
            "      37/50      8.12G     0.8724     0.4543     0.9321        242        640: 100%|██████████| 6/6 [00:03<00:00,  1.50it/s]\n",
            "                 Class     Images  Instances      Box(P          R      mAP50  mAP50-95): 100%|██████████| 1/1 [00:01<00:00,  1.42s/it]"
          ]
        },
        {
          "output_type": "stream",
          "name": "stdout",
          "text": [
            "                   all        106        318      0.995      0.997      0.992      0.726\n"
          ]
        },
        {
          "output_type": "stream",
          "name": "stderr",
          "text": [
            "\n"
          ]
        },
        {
          "output_type": "stream",
          "name": "stdout",
          "text": [
            "\n",
            "      Epoch    GPU_mem   box_loss   cls_loss   dfl_loss  Instances       Size\n"
          ]
        },
        {
          "output_type": "stream",
          "name": "stderr",
          "text": [
            "      38/50       8.1G      0.849     0.4411     0.9236        251        640: 100%|██████████| 6/6 [00:03<00:00,  1.52it/s]\n",
            "                 Class     Images  Instances      Box(P          R      mAP50  mAP50-95): 100%|██████████| 1/1 [00:02<00:00,  2.18s/it]"
          ]
        },
        {
          "output_type": "stream",
          "name": "stdout",
          "text": [
            "                   all        106        318      0.997      0.996      0.992      0.716\n"
          ]
        },
        {
          "output_type": "stream",
          "name": "stderr",
          "text": [
            "\n"
          ]
        },
        {
          "output_type": "stream",
          "name": "stdout",
          "text": [
            "\n",
            "      Epoch    GPU_mem   box_loss   cls_loss   dfl_loss  Instances       Size\n"
          ]
        },
        {
          "output_type": "stream",
          "name": "stderr",
          "text": [
            "      39/50      8.12G     0.8677     0.4317     0.9264        245        640: 100%|██████████| 6/6 [00:03<00:00,  1.61it/s]\n",
            "                 Class     Images  Instances      Box(P          R      mAP50  mAP50-95): 100%|██████████| 1/1 [00:01<00:00,  1.37s/it]"
          ]
        },
        {
          "output_type": "stream",
          "name": "stdout",
          "text": [
            "                   all        106        318      0.993      0.997      0.992      0.736\n"
          ]
        },
        {
          "output_type": "stream",
          "name": "stderr",
          "text": [
            "\n"
          ]
        },
        {
          "output_type": "stream",
          "name": "stdout",
          "text": [
            "\n",
            "      Epoch    GPU_mem   box_loss   cls_loss   dfl_loss  Instances       Size\n"
          ]
        },
        {
          "output_type": "stream",
          "name": "stderr",
          "text": [
            "      40/50      8.12G     0.8664     0.4285     0.9175        269        640: 100%|██████████| 6/6 [00:03<00:00,  1.58it/s]\n",
            "                 Class     Images  Instances      Box(P          R      mAP50  mAP50-95): 100%|██████████| 1/1 [00:02<00:00,  2.15s/it]"
          ]
        },
        {
          "output_type": "stream",
          "name": "stdout",
          "text": [
            "                   all        106        318       0.99      0.997      0.993      0.722\n"
          ]
        },
        {
          "output_type": "stream",
          "name": "stderr",
          "text": [
            "\n"
          ]
        },
        {
          "output_type": "stream",
          "name": "stdout",
          "text": [
            "Closing dataloader mosaic\n",
            "\u001b[34m\u001b[1malbumentations: \u001b[0mBlur(p=0.01, blur_limit=(3, 7)), MedianBlur(p=0.01, blur_limit=(3, 7)), ToGray(p=0.01, num_output_channels=3, method='weighted_average'), CLAHE(p=0.01, clip_limit=(1.0, 4.0), tile_grid_size=(8, 8))\n",
            "\n",
            "      Epoch    GPU_mem   box_loss   cls_loss   dfl_loss  Instances       Size\n"
          ]
        },
        {
          "output_type": "stream",
          "name": "stderr",
          "text": [
            "      41/50      7.96G     0.8259     0.4606     0.9005        135        640: 100%|██████████| 6/6 [00:07<00:00,  1.31s/it]\n",
            "                 Class     Images  Instances      Box(P          R      mAP50  mAP50-95): 100%|██████████| 1/1 [00:01<00:00,  1.17s/it]"
          ]
        },
        {
          "output_type": "stream",
          "name": "stdout",
          "text": [
            "                   all        106        318      0.996      0.997      0.993      0.718\n"
          ]
        },
        {
          "output_type": "stream",
          "name": "stderr",
          "text": [
            "\n"
          ]
        },
        {
          "output_type": "stream",
          "name": "stdout",
          "text": [
            "\n",
            "      Epoch    GPU_mem   box_loss   cls_loss   dfl_loss  Instances       Size\n"
          ]
        },
        {
          "output_type": "stream",
          "name": "stderr",
          "text": [
            "      42/50      7.96G     0.8221     0.4236     0.9086        133        640: 100%|██████████| 6/6 [00:04<00:00,  1.28it/s]\n",
            "                 Class     Images  Instances      Box(P          R      mAP50  mAP50-95): 100%|██████████| 1/1 [00:01<00:00,  1.19s/it]"
          ]
        },
        {
          "output_type": "stream",
          "name": "stdout",
          "text": [
            "                   all        106        318      0.996      0.997      0.992      0.723\n"
          ]
        },
        {
          "output_type": "stream",
          "name": "stderr",
          "text": [
            "\n"
          ]
        },
        {
          "output_type": "stream",
          "name": "stdout",
          "text": [
            "\n",
            "      Epoch    GPU_mem   box_loss   cls_loss   dfl_loss  Instances       Size\n"
          ]
        },
        {
          "output_type": "stream",
          "name": "stderr",
          "text": [
            "      43/50      7.96G     0.8202     0.4159     0.9013        136        640: 100%|██████████| 6/6 [00:03<00:00,  1.57it/s]\n",
            "                 Class     Images  Instances      Box(P          R      mAP50  mAP50-95): 100%|██████████| 1/1 [00:01<00:00,  1.11s/it]"
          ]
        },
        {
          "output_type": "stream",
          "name": "stdout",
          "text": [
            "                   all        106        318      0.997      0.997      0.992      0.738\n"
          ]
        },
        {
          "output_type": "stream",
          "name": "stderr",
          "text": [
            "\n"
          ]
        },
        {
          "output_type": "stream",
          "name": "stdout",
          "text": [
            "\n",
            "      Epoch    GPU_mem   box_loss   cls_loss   dfl_loss  Instances       Size\n"
          ]
        },
        {
          "output_type": "stream",
          "name": "stderr",
          "text": [
            "      44/50      7.96G     0.8072      0.411     0.9035        139        640: 100%|██████████| 6/6 [00:03<00:00,  1.52it/s]\n",
            "                 Class     Images  Instances      Box(P          R      mAP50  mAP50-95): 100%|██████████| 1/1 [00:01<00:00,  1.81s/it]"
          ]
        },
        {
          "output_type": "stream",
          "name": "stdout",
          "text": [
            "                   all        106        318      0.995      0.997      0.993      0.738\n"
          ]
        },
        {
          "output_type": "stream",
          "name": "stderr",
          "text": [
            "\n"
          ]
        },
        {
          "output_type": "stream",
          "name": "stdout",
          "text": [
            "\n",
            "      Epoch    GPU_mem   box_loss   cls_loss   dfl_loss  Instances       Size\n"
          ]
        },
        {
          "output_type": "stream",
          "name": "stderr",
          "text": [
            "      45/50      7.96G     0.8021     0.4066     0.8972        126        640: 100%|██████████| 6/6 [00:03<00:00,  1.51it/s]\n",
            "                 Class     Images  Instances      Box(P          R      mAP50  mAP50-95): 100%|██████████| 1/1 [00:01<00:00,  1.21s/it]"
          ]
        },
        {
          "output_type": "stream",
          "name": "stdout",
          "text": [
            "                   all        106        318      0.996      0.997      0.993      0.722\n"
          ]
        },
        {
          "output_type": "stream",
          "name": "stderr",
          "text": [
            "\n"
          ]
        },
        {
          "output_type": "stream",
          "name": "stdout",
          "text": [
            "\n",
            "      Epoch    GPU_mem   box_loss   cls_loss   dfl_loss  Instances       Size\n"
          ]
        },
        {
          "output_type": "stream",
          "name": "stderr",
          "text": [
            "      46/50      7.96G     0.7894     0.4034     0.9035        129        640: 100%|██████████| 6/6 [00:03<00:00,  1.67it/s]\n",
            "                 Class     Images  Instances      Box(P          R      mAP50  mAP50-95): 100%|██████████| 1/1 [00:02<00:00,  2.09s/it]"
          ]
        },
        {
          "output_type": "stream",
          "name": "stdout",
          "text": [
            "                   all        106        318      0.996      0.997      0.993      0.712\n"
          ]
        },
        {
          "output_type": "stream",
          "name": "stderr",
          "text": [
            "\n"
          ]
        },
        {
          "output_type": "stream",
          "name": "stdout",
          "text": [
            "\n",
            "      Epoch    GPU_mem   box_loss   cls_loss   dfl_loss  Instances       Size\n"
          ]
        },
        {
          "output_type": "stream",
          "name": "stderr",
          "text": [
            "      47/50      7.96G     0.7924     0.4021     0.8984        130        640: 100%|██████████| 6/6 [00:03<00:00,  1.55it/s]\n",
            "                 Class     Images  Instances      Box(P          R      mAP50  mAP50-95): 100%|██████████| 1/1 [00:01<00:00,  1.26s/it]"
          ]
        },
        {
          "output_type": "stream",
          "name": "stdout",
          "text": [
            "                   all        106        318      0.996      0.997      0.993       0.72\n"
          ]
        },
        {
          "output_type": "stream",
          "name": "stderr",
          "text": [
            "\n"
          ]
        },
        {
          "output_type": "stream",
          "name": "stdout",
          "text": [
            "\n",
            "      Epoch    GPU_mem   box_loss   cls_loss   dfl_loss  Instances       Size\n"
          ]
        },
        {
          "output_type": "stream",
          "name": "stderr",
          "text": [
            "      48/50      7.96G     0.7777      0.387     0.8847        136        640: 100%|██████████| 6/6 [00:03<00:00,  1.69it/s]\n",
            "                 Class     Images  Instances      Box(P          R      mAP50  mAP50-95): 100%|██████████| 1/1 [00:01<00:00,  1.30s/it]"
          ]
        },
        {
          "output_type": "stream",
          "name": "stdout",
          "text": [
            "                   all        106        318      0.996      0.997      0.993      0.731\n"
          ]
        },
        {
          "output_type": "stream",
          "name": "stderr",
          "text": [
            "\n"
          ]
        },
        {
          "output_type": "stream",
          "name": "stdout",
          "text": [
            "\n",
            "      Epoch    GPU_mem   box_loss   cls_loss   dfl_loss  Instances       Size\n"
          ]
        },
        {
          "output_type": "stream",
          "name": "stderr",
          "text": [
            "      49/50      7.96G       0.77     0.3809     0.8904        132        640: 100%|██████████| 6/6 [00:04<00:00,  1.47it/s]\n",
            "                 Class     Images  Instances      Box(P          R      mAP50  mAP50-95): 100%|██████████| 1/1 [00:01<00:00,  1.96s/it]"
          ]
        },
        {
          "output_type": "stream",
          "name": "stdout",
          "text": [
            "                   all        106        318      0.996      0.997      0.993      0.731\n"
          ]
        },
        {
          "output_type": "stream",
          "name": "stderr",
          "text": [
            "\n"
          ]
        },
        {
          "output_type": "stream",
          "name": "stdout",
          "text": [
            "\n",
            "      Epoch    GPU_mem   box_loss   cls_loss   dfl_loss  Instances       Size\n"
          ]
        },
        {
          "output_type": "stream",
          "name": "stderr",
          "text": [
            "      50/50      7.96G     0.7619     0.3759     0.8884        128        640: 100%|██████████| 6/6 [00:03<00:00,  1.62it/s]\n",
            "                 Class     Images  Instances      Box(P          R      mAP50  mAP50-95): 100%|██████████| 1/1 [00:01<00:00,  1.36s/it]"
          ]
        },
        {
          "output_type": "stream",
          "name": "stdout",
          "text": [
            "                   all        106        318      0.996      0.997      0.993      0.735\n"
          ]
        },
        {
          "output_type": "stream",
          "name": "stderr",
          "text": [
            "\n"
          ]
        },
        {
          "output_type": "stream",
          "name": "stdout",
          "text": [
            "\n",
            "50 epochs completed in 0.109 hours.\n",
            "Optimizer stripped from runs/detect/train/weights/last.pt, 6.2MB\n",
            "Optimizer stripped from runs/detect/train/weights/best.pt, 6.2MB\n",
            "\n",
            "Validating runs/detect/train/weights/best.pt...\n",
            "Ultralytics 8.3.39 🚀 Python-3.10.12 torch-2.5.1+cu121 CUDA:0 (Tesla T4, 15102MiB)\n",
            "Model summary (fused): 168 layers, 3,005,843 parameters, 0 gradients, 8.1 GFLOPs\n"
          ]
        },
        {
          "output_type": "stream",
          "name": "stderr",
          "text": [
            "                 Class     Images  Instances      Box(P          R      mAP50  mAP50-95): 100%|██████████| 1/1 [00:00<00:00,  1.11it/s]\n"
          ]
        },
        {
          "output_type": "stream",
          "name": "stdout",
          "text": [
            "                   all        106        318      0.995      0.997      0.993      0.739\n",
            "Speed: 0.2ms preprocess, 2.4ms inference, 0.0ms loss, 1.1ms postprocess per image\n",
            "Results saved to \u001b[1mruns/detect/train\u001b[0m\n"
          ]
        },
        {
          "output_type": "execute_result",
          "data": {
            "text/plain": [
              "ultralytics.utils.metrics.DetMetrics object with attributes:\n",
              "\n",
              "ap_class_index: array([0])\n",
              "box: ultralytics.utils.metrics.Metric object\n",
              "confusion_matrix: <ultralytics.utils.metrics.ConfusionMatrix object at 0x7d3e72c98280>\n",
              "curves: ['Precision-Recall(B)', 'F1-Confidence(B)', 'Precision-Confidence(B)', 'Recall-Confidence(B)']\n",
              "curves_results: [[array([          0,    0.001001,    0.002002,    0.003003,    0.004004,    0.005005,    0.006006,    0.007007,    0.008008,    0.009009,     0.01001,    0.011011,    0.012012,    0.013013,    0.014014,    0.015015,    0.016016,    0.017017,    0.018018,    0.019019,     0.02002,    0.021021,    0.022022,    0.023023,\n",
              "          0.024024,    0.025025,    0.026026,    0.027027,    0.028028,    0.029029,     0.03003,    0.031031,    0.032032,    0.033033,    0.034034,    0.035035,    0.036036,    0.037037,    0.038038,    0.039039,     0.04004,    0.041041,    0.042042,    0.043043,    0.044044,    0.045045,    0.046046,    0.047047,\n",
              "          0.048048,    0.049049,     0.05005,    0.051051,    0.052052,    0.053053,    0.054054,    0.055055,    0.056056,    0.057057,    0.058058,    0.059059,     0.06006,    0.061061,    0.062062,    0.063063,    0.064064,    0.065065,    0.066066,    0.067067,    0.068068,    0.069069,     0.07007,    0.071071,\n",
              "          0.072072,    0.073073,    0.074074,    0.075075,    0.076076,    0.077077,    0.078078,    0.079079,     0.08008,    0.081081,    0.082082,    0.083083,    0.084084,    0.085085,    0.086086,    0.087087,    0.088088,    0.089089,     0.09009,    0.091091,    0.092092,    0.093093,    0.094094,    0.095095,\n",
              "          0.096096,    0.097097,    0.098098,    0.099099,      0.1001,      0.1011,      0.1021,      0.1031,      0.1041,     0.10511,     0.10611,     0.10711,     0.10811,     0.10911,     0.11011,     0.11111,     0.11211,     0.11311,     0.11411,     0.11512,     0.11612,     0.11712,     0.11812,     0.11912,\n",
              "           0.12012,     0.12112,     0.12212,     0.12312,     0.12412,     0.12513,     0.12613,     0.12713,     0.12813,     0.12913,     0.13013,     0.13113,     0.13213,     0.13313,     0.13413,     0.13514,     0.13614,     0.13714,     0.13814,     0.13914,     0.14014,     0.14114,     0.14214,     0.14314,\n",
              "           0.14414,     0.14515,     0.14615,     0.14715,     0.14815,     0.14915,     0.15015,     0.15115,     0.15215,     0.15315,     0.15415,     0.15516,     0.15616,     0.15716,     0.15816,     0.15916,     0.16016,     0.16116,     0.16216,     0.16316,     0.16416,     0.16517,     0.16617,     0.16717,\n",
              "           0.16817,     0.16917,     0.17017,     0.17117,     0.17217,     0.17317,     0.17417,     0.17518,     0.17618,     0.17718,     0.17818,     0.17918,     0.18018,     0.18118,     0.18218,     0.18318,     0.18418,     0.18519,     0.18619,     0.18719,     0.18819,     0.18919,     0.19019,     0.19119,\n",
              "           0.19219,     0.19319,     0.19419,      0.1952,      0.1962,      0.1972,      0.1982,      0.1992,      0.2002,      0.2012,      0.2022,      0.2032,      0.2042,     0.20521,     0.20621,     0.20721,     0.20821,     0.20921,     0.21021,     0.21121,     0.21221,     0.21321,     0.21421,     0.21522,\n",
              "           0.21622,     0.21722,     0.21822,     0.21922,     0.22022,     0.22122,     0.22222,     0.22322,     0.22422,     0.22523,     0.22623,     0.22723,     0.22823,     0.22923,     0.23023,     0.23123,     0.23223,     0.23323,     0.23423,     0.23524,     0.23624,     0.23724,     0.23824,     0.23924,\n",
              "           0.24024,     0.24124,     0.24224,     0.24324,     0.24424,     0.24525,     0.24625,     0.24725,     0.24825,     0.24925,     0.25025,     0.25125,     0.25225,     0.25325,     0.25425,     0.25526,     0.25626,     0.25726,     0.25826,     0.25926,     0.26026,     0.26126,     0.26226,     0.26326,\n",
              "           0.26426,     0.26527,     0.26627,     0.26727,     0.26827,     0.26927,     0.27027,     0.27127,     0.27227,     0.27327,     0.27427,     0.27528,     0.27628,     0.27728,     0.27828,     0.27928,     0.28028,     0.28128,     0.28228,     0.28328,     0.28428,     0.28529,     0.28629,     0.28729,\n",
              "           0.28829,     0.28929,     0.29029,     0.29129,     0.29229,     0.29329,     0.29429,      0.2953,      0.2963,      0.2973,      0.2983,      0.2993,      0.3003,      0.3013,      0.3023,      0.3033,      0.3043,     0.30531,     0.30631,     0.30731,     0.30831,     0.30931,     0.31031,     0.31131,\n",
              "           0.31231,     0.31331,     0.31431,     0.31532,     0.31632,     0.31732,     0.31832,     0.31932,     0.32032,     0.32132,     0.32232,     0.32332,     0.32432,     0.32533,     0.32633,     0.32733,     0.32833,     0.32933,     0.33033,     0.33133,     0.33233,     0.33333,     0.33433,     0.33534,\n",
              "           0.33634,     0.33734,     0.33834,     0.33934,     0.34034,     0.34134,     0.34234,     0.34334,     0.34434,     0.34535,     0.34635,     0.34735,     0.34835,     0.34935,     0.35035,     0.35135,     0.35235,     0.35335,     0.35435,     0.35536,     0.35636,     0.35736,     0.35836,     0.35936,\n",
              "           0.36036,     0.36136,     0.36236,     0.36336,     0.36436,     0.36537,     0.36637,     0.36737,     0.36837,     0.36937,     0.37037,     0.37137,     0.37237,     0.37337,     0.37437,     0.37538,     0.37638,     0.37738,     0.37838,     0.37938,     0.38038,     0.38138,     0.38238,     0.38338,\n",
              "           0.38438,     0.38539,     0.38639,     0.38739,     0.38839,     0.38939,     0.39039,     0.39139,     0.39239,     0.39339,     0.39439,      0.3954,      0.3964,      0.3974,      0.3984,      0.3994,      0.4004,      0.4014,      0.4024,      0.4034,      0.4044,     0.40541,     0.40641,     0.40741,\n",
              "           0.40841,     0.40941,     0.41041,     0.41141,     0.41241,     0.41341,     0.41441,     0.41542,     0.41642,     0.41742,     0.41842,     0.41942,     0.42042,     0.42142,     0.42242,     0.42342,     0.42442,     0.42543,     0.42643,     0.42743,     0.42843,     0.42943,     0.43043,     0.43143,\n",
              "           0.43243,     0.43343,     0.43443,     0.43544,     0.43644,     0.43744,     0.43844,     0.43944,     0.44044,     0.44144,     0.44244,     0.44344,     0.44444,     0.44545,     0.44645,     0.44745,     0.44845,     0.44945,     0.45045,     0.45145,     0.45245,     0.45345,     0.45445,     0.45546,\n",
              "           0.45646,     0.45746,     0.45846,     0.45946,     0.46046,     0.46146,     0.46246,     0.46346,     0.46446,     0.46547,     0.46647,     0.46747,     0.46847,     0.46947,     0.47047,     0.47147,     0.47247,     0.47347,     0.47447,     0.47548,     0.47648,     0.47748,     0.47848,     0.47948,\n",
              "           0.48048,     0.48148,     0.48248,     0.48348,     0.48448,     0.48549,     0.48649,     0.48749,     0.48849,     0.48949,     0.49049,     0.49149,     0.49249,     0.49349,     0.49449,      0.4955,      0.4965,      0.4975,      0.4985,      0.4995,      0.5005,      0.5015,      0.5025,      0.5035,\n",
              "            0.5045,     0.50551,     0.50651,     0.50751,     0.50851,     0.50951,     0.51051,     0.51151,     0.51251,     0.51351,     0.51451,     0.51552,     0.51652,     0.51752,     0.51852,     0.51952,     0.52052,     0.52152,     0.52252,     0.52352,     0.52452,     0.52553,     0.52653,     0.52753,\n",
              "           0.52853,     0.52953,     0.53053,     0.53153,     0.53253,     0.53353,     0.53453,     0.53554,     0.53654,     0.53754,     0.53854,     0.53954,     0.54054,     0.54154,     0.54254,     0.54354,     0.54454,     0.54555,     0.54655,     0.54755,     0.54855,     0.54955,     0.55055,     0.55155,\n",
              "           0.55255,     0.55355,     0.55455,     0.55556,     0.55656,     0.55756,     0.55856,     0.55956,     0.56056,     0.56156,     0.56256,     0.56356,     0.56456,     0.56557,     0.56657,     0.56757,     0.56857,     0.56957,     0.57057,     0.57157,     0.57257,     0.57357,     0.57457,     0.57558,\n",
              "           0.57658,     0.57758,     0.57858,     0.57958,     0.58058,     0.58158,     0.58258,     0.58358,     0.58458,     0.58559,     0.58659,     0.58759,     0.58859,     0.58959,     0.59059,     0.59159,     0.59259,     0.59359,     0.59459,      0.5956,      0.5966,      0.5976,      0.5986,      0.5996,\n",
              "            0.6006,      0.6016,      0.6026,      0.6036,      0.6046,     0.60561,     0.60661,     0.60761,     0.60861,     0.60961,     0.61061,     0.61161,     0.61261,     0.61361,     0.61461,     0.61562,     0.61662,     0.61762,     0.61862,     0.61962,     0.62062,     0.62162,     0.62262,     0.62362,\n",
              "           0.62462,     0.62563,     0.62663,     0.62763,     0.62863,     0.62963,     0.63063,     0.63163,     0.63263,     0.63363,     0.63463,     0.63564,     0.63664,     0.63764,     0.63864,     0.63964,     0.64064,     0.64164,     0.64264,     0.64364,     0.64464,     0.64565,     0.64665,     0.64765,\n",
              "           0.64865,     0.64965,     0.65065,     0.65165,     0.65265,     0.65365,     0.65465,     0.65566,     0.65666,     0.65766,     0.65866,     0.65966,     0.66066,     0.66166,     0.66266,     0.66366,     0.66466,     0.66567,     0.66667,     0.66767,     0.66867,     0.66967,     0.67067,     0.67167,\n",
              "           0.67267,     0.67367,     0.67467,     0.67568,     0.67668,     0.67768,     0.67868,     0.67968,     0.68068,     0.68168,     0.68268,     0.68368,     0.68468,     0.68569,     0.68669,     0.68769,     0.68869,     0.68969,     0.69069,     0.69169,     0.69269,     0.69369,     0.69469,      0.6957,\n",
              "            0.6967,      0.6977,      0.6987,      0.6997,      0.7007,      0.7017,      0.7027,      0.7037,      0.7047,     0.70571,     0.70671,     0.70771,     0.70871,     0.70971,     0.71071,     0.71171,     0.71271,     0.71371,     0.71471,     0.71572,     0.71672,     0.71772,     0.71872,     0.71972,\n",
              "           0.72072,     0.72172,     0.72272,     0.72372,     0.72472,     0.72573,     0.72673,     0.72773,     0.72873,     0.72973,     0.73073,     0.73173,     0.73273,     0.73373,     0.73473,     0.73574,     0.73674,     0.73774,     0.73874,     0.73974,     0.74074,     0.74174,     0.74274,     0.74374,\n",
              "           0.74474,     0.74575,     0.74675,     0.74775,     0.74875,     0.74975,     0.75075,     0.75175,     0.75275,     0.75375,     0.75475,     0.75576,     0.75676,     0.75776,     0.75876,     0.75976,     0.76076,     0.76176,     0.76276,     0.76376,     0.76476,     0.76577,     0.76677,     0.76777,\n",
              "           0.76877,     0.76977,     0.77077,     0.77177,     0.77277,     0.77377,     0.77477,     0.77578,     0.77678,     0.77778,     0.77878,     0.77978,     0.78078,     0.78178,     0.78278,     0.78378,     0.78478,     0.78579,     0.78679,     0.78779,     0.78879,     0.78979,     0.79079,     0.79179,\n",
              "           0.79279,     0.79379,     0.79479,      0.7958,      0.7968,      0.7978,      0.7988,      0.7998,      0.8008,      0.8018,      0.8028,      0.8038,      0.8048,     0.80581,     0.80681,     0.80781,     0.80881,     0.80981,     0.81081,     0.81181,     0.81281,     0.81381,     0.81481,     0.81582,\n",
              "           0.81682,     0.81782,     0.81882,     0.81982,     0.82082,     0.82182,     0.82282,     0.82382,     0.82482,     0.82583,     0.82683,     0.82783,     0.82883,     0.82983,     0.83083,     0.83183,     0.83283,     0.83383,     0.83483,     0.83584,     0.83684,     0.83784,     0.83884,     0.83984,\n",
              "           0.84084,     0.84184,     0.84284,     0.84384,     0.84484,     0.84585,     0.84685,     0.84785,     0.84885,     0.84985,     0.85085,     0.85185,     0.85285,     0.85385,     0.85485,     0.85586,     0.85686,     0.85786,     0.85886,     0.85986,     0.86086,     0.86186,     0.86286,     0.86386,\n",
              "           0.86486,     0.86587,     0.86687,     0.86787,     0.86887,     0.86987,     0.87087,     0.87187,     0.87287,     0.87387,     0.87487,     0.87588,     0.87688,     0.87788,     0.87888,     0.87988,     0.88088,     0.88188,     0.88288,     0.88388,     0.88488,     0.88589,     0.88689,     0.88789,\n",
              "           0.88889,     0.88989,     0.89089,     0.89189,     0.89289,     0.89389,     0.89489,      0.8959,      0.8969,      0.8979,      0.8989,      0.8999,      0.9009,      0.9019,      0.9029,      0.9039,      0.9049,     0.90591,     0.90691,     0.90791,     0.90891,     0.90991,     0.91091,     0.91191,\n",
              "           0.91291,     0.91391,     0.91491,     0.91592,     0.91692,     0.91792,     0.91892,     0.91992,     0.92092,     0.92192,     0.92292,     0.92392,     0.92492,     0.92593,     0.92693,     0.92793,     0.92893,     0.92993,     0.93093,     0.93193,     0.93293,     0.93393,     0.93493,     0.93594,\n",
              "           0.93694,     0.93794,     0.93894,     0.93994,     0.94094,     0.94194,     0.94294,     0.94394,     0.94494,     0.94595,     0.94695,     0.94795,     0.94895,     0.94995,     0.95095,     0.95195,     0.95295,     0.95395,     0.95495,     0.95596,     0.95696,     0.95796,     0.95896,     0.95996,\n",
              "           0.96096,     0.96196,     0.96296,     0.96396,     0.96496,     0.96597,     0.96697,     0.96797,     0.96897,     0.96997,     0.97097,     0.97197,     0.97297,     0.97397,     0.97497,     0.97598,     0.97698,     0.97798,     0.97898,     0.97998,     0.98098,     0.98198,     0.98298,     0.98398,\n",
              "           0.98498,     0.98599,     0.98699,     0.98799,     0.98899,     0.98999,     0.99099,     0.99199,     0.99299,     0.99399,     0.99499,       0.996,       0.997,       0.998,       0.999,           1]), array([[          1,           1,           1,           1,           1,           1,           1,           1,           1,           1,           1,           1,           1,           1,           1,           1,           1,           1,           1,           1,           1,           1,           1,\n",
              "                  1,           1,           1,           1,           1,           1,           1,           1,           1,           1,           1,           1,           1,           1,           1,           1,           1,           1,           1,           1,           1,           1,           1,\n",
              "                  1,           1,           1,           1,           1,           1,           1,           1,           1,           1,           1,           1,           1,           1,           1,           1,           1,           1,           1,           1,           1,           1,           1,\n",
              "                  1,           1,           1,           1,           1,           1,           1,           1,           1,           1,           1,           1,           1,           1,           1,           1,           1,           1,           1,           1,           1,           1,           1,\n",
              "                  1,           1,           1,           1,           1,           1,           1,           1,           1,           1,           1,           1,           1,           1,           1,           1,           1,           1,           1,           1,           1,           1,           1,\n",
              "                  1,           1,           1,           1,           1,           1,           1,           1,           1,           1,           1,           1,           1,           1,           1,           1,           1,           1,           1,           1,           1,           1,           1,\n",
              "                  1,           1,           1,           1,           1,           1,           1,           1,           1,           1,           1,           1,           1,           1,           1,           1,           1,           1,           1,           1,           1,           1,           1,\n",
              "                  1,           1,           1,           1,           1,           1,           1,           1,           1,           1,           1,           1,           1,           1,           1,           1,           1,           1,           1,           1,           1,           1,           1,\n",
              "                  1,           1,           1,           1,           1,           1,           1,           1,           1,           1,           1,           1,           1,           1,           1,           1,           1,           1,           1,           1,           1,           1,           1,\n",
              "                  1,           1,           1,           1,           1,           1,           1,           1,           1,           1,           1,           1,           1,           1,           1,           1,           1,           1,           1,           1,           1,           1,           1,\n",
              "                  1,           1,           1,           1,           1,           1,           1,           1,           1,           1,           1,           1,           1,           1,           1,           1,           1,           1,           1,           1,           1,           1,           1,\n",
              "                  1,           1,           1,           1,           1,           1,           1,           1,           1,           1,           1,           1,           1,           1,           1,     0.99686,     0.99686,     0.99686,     0.99686,     0.99686,     0.99686,     0.99686,     0.99686,\n",
              "            0.99686,     0.99686,     0.99686,     0.99686,     0.99686,     0.99686,     0.99686,     0.99686,     0.99686,     0.99686,     0.99686,     0.99686,     0.99686,     0.99686,     0.99686,     0.99686,     0.99686,     0.99686,     0.99686,     0.99686,     0.99686,     0.99686,     0.99686,\n",
              "            0.99686,     0.99686,     0.99686,     0.99686,     0.99686,     0.99686,     0.99686,     0.99686,     0.99686,     0.99686,     0.99686,     0.99686,     0.99686,     0.99686,     0.99686,     0.99686,     0.99686,     0.99686,     0.99686,     0.99686,     0.99686,     0.99686,     0.99686,\n",
              "            0.99686,     0.99686,     0.99686,     0.99686,     0.99686,     0.99686,     0.99686,     0.99686,     0.99686,     0.99686,     0.99686,     0.99686,     0.99686,     0.99686,     0.99686,     0.99686,     0.99686,     0.99686,     0.99686,     0.99686,     0.99686,     0.99686,     0.99686,\n",
              "            0.99686,     0.99686,     0.99686,     0.99686,     0.99686,     0.99686,     0.99686,     0.99686,     0.99686,     0.99686,     0.99686,     0.99686,     0.99686,     0.99686,     0.99686,     0.99686,     0.99686,     0.99686,     0.99686,     0.99686,     0.99686,     0.99686,     0.99686,\n",
              "            0.99686,     0.99686,     0.99686,     0.99686,     0.99686,     0.99686,     0.99686,     0.99686,     0.99686,     0.99686,     0.99686,     0.99686,     0.99686,     0.99686,     0.99686,     0.99686,     0.99686,     0.99686,     0.99686,     0.99686,     0.99686,     0.99686,     0.99686,\n",
              "            0.99686,     0.99686,     0.99686,     0.99686,     0.99686,     0.99686,     0.99686,     0.99686,     0.99686,     0.99686,     0.99686,     0.99686,     0.99686,     0.99686,     0.99686,     0.99686,     0.99686,     0.99686,     0.99686,     0.99686,     0.99686,     0.99686,     0.99686,\n",
              "            0.99686,     0.99686,     0.99686,     0.99686,     0.99686,     0.99686,     0.99686,     0.99686,     0.99686,     0.99686,     0.99686,     0.99686,     0.99686,     0.99686,     0.99686,     0.99686,     0.99686,     0.99686,     0.99686,     0.99686,     0.99686,     0.99686,     0.99686,\n",
              "            0.99686,     0.99686,     0.99686,     0.99686,     0.99686,     0.99686,     0.99686,     0.99686,     0.99686,     0.99686,     0.99686,     0.99686,     0.99686,     0.99686,     0.99686,     0.99686,     0.99686,     0.99686,     0.99686,     0.99686,     0.99686,     0.99686,     0.99686,\n",
              "            0.99686,     0.99686,     0.99686,     0.99686,     0.99686,     0.99686,     0.99686,     0.99686,     0.99686,     0.99686,     0.99686,     0.99686,     0.99686,     0.99686,     0.99686,     0.99686,     0.99686,     0.99686,     0.99686,     0.99686,     0.99686,     0.99686,     0.99686,\n",
              "            0.99686,     0.99686,     0.99686,     0.99686,     0.99686,     0.99686,     0.99686,     0.99686,     0.99686,     0.99686,     0.99686,     0.99686,     0.99686,     0.99686,     0.99686,     0.99686,     0.99686,     0.99686,     0.99686,     0.99686,     0.99686,     0.99686,     0.99686,\n",
              "            0.99686,     0.99686,     0.99686,     0.99686,     0.99686,     0.99686,     0.99686,     0.99686,     0.99686,     0.99686,     0.99686,     0.99686,     0.99686,     0.99686,     0.99686,     0.99686,     0.99686,     0.99686,     0.99686,     0.99686,     0.99686,     0.99686,     0.99686,\n",
              "            0.99686,     0.99686,     0.99686,     0.99686,     0.99686,     0.99686,     0.99686,     0.99686,     0.99686,     0.99686,     0.99686,     0.99686,     0.99686,     0.99686,     0.99686,     0.99686,     0.99686,     0.99686,     0.99686,     0.99686,     0.99686,     0.99686,     0.99686,\n",
              "            0.99686,     0.99686,     0.99686,     0.99686,     0.99686,     0.99686,     0.99686,     0.99686,     0.99686,     0.99686,     0.99686,     0.99686,     0.99686,     0.99686,     0.99686,     0.99686,     0.99686,     0.99686,     0.99686,     0.99686,     0.99686,     0.99686,     0.99686,\n",
              "            0.99686,     0.99686,     0.99686,     0.99686,     0.99686,     0.99686,     0.99686,     0.99686,     0.99686,     0.99686,     0.99686,     0.99686,     0.99686,     0.99686,     0.99686,     0.99686,     0.99686,     0.99686,     0.99686,     0.99686,     0.99686,     0.99686,     0.99686,\n",
              "            0.99686,     0.99686,     0.99686,     0.99686,     0.99686,     0.99686,     0.99686,     0.99686,     0.99686,     0.99686,     0.99686,     0.99686,     0.99686,     0.99686,     0.99686,     0.99686,     0.99686,     0.99686,     0.99686,     0.99686,     0.99686,     0.99686,     0.99686,\n",
              "            0.99686,     0.99686,     0.99686,     0.99686,     0.99686,     0.99686,     0.99686,     0.99686,     0.99686,     0.99686,     0.99686,     0.99686,     0.99686,     0.99686,     0.99686,     0.99686,     0.99686,     0.99686,     0.99686,     0.99686,     0.99686,     0.99686,     0.99686,\n",
              "            0.99686,     0.99686,     0.99686,     0.99686,     0.99686,     0.99686,     0.99686,     0.99686,     0.99686,     0.99686,     0.99686,     0.99686,     0.99686,     0.99686,     0.99686,     0.99686,     0.99686,     0.99686,     0.99686,     0.99686,     0.99686,     0.99686,     0.99686,\n",
              "            0.99686,     0.99686,     0.99686,     0.99686,     0.99686,     0.99686,     0.99686,     0.99686,     0.99686,     0.99686,     0.99686,     0.99686,     0.99686,     0.99686,     0.99686,     0.99686,     0.99686,     0.99686,     0.99686,     0.99686,     0.99686,     0.99686,     0.99686,\n",
              "            0.99686,     0.99686,     0.99686,     0.99686,     0.99686,     0.99686,     0.99686,     0.99686,     0.99686,     0.99686,     0.99686,     0.99686,     0.99686,     0.99686,     0.99686,     0.99686,     0.99686,     0.99686,     0.99686,     0.99686,     0.99686,     0.99686,     0.99686,\n",
              "            0.99686,     0.99686,     0.99686,     0.99686,     0.99686,     0.99686,     0.99686,     0.99686,     0.99686,     0.99686,     0.99686,     0.99686,     0.99686,     0.99686,     0.99686,     0.99686,     0.99686,     0.99686,     0.99686,     0.99686,     0.99686,     0.99686,     0.99686,\n",
              "            0.99686,     0.99686,     0.99686,     0.99686,     0.99686,     0.99686,     0.99686,     0.99686,     0.99686,     0.99686,     0.99686,     0.99686,     0.99686,     0.99686,     0.99686,     0.99686,     0.99686,     0.99686,     0.99686,     0.99686,     0.99686,     0.99686,     0.99686,\n",
              "            0.99686,     0.99686,     0.99686,     0.99686,     0.99686,     0.99686,     0.99686,     0.99686,     0.99686,     0.99686,     0.99686,     0.99686,     0.99686,     0.99686,     0.99686,     0.99686,     0.99686,     0.99686,     0.99686,     0.99686,     0.99686,     0.99686,     0.99686,\n",
              "            0.99686,     0.99686,     0.99686,     0.99686,     0.99686,     0.99686,     0.99686,     0.99686,     0.99686,     0.99686,     0.99686,     0.99686,     0.99686,     0.99686,     0.99686,     0.99686,     0.99686,     0.99686,     0.99686,     0.99686,     0.99686,     0.99686,     0.99686,\n",
              "            0.99686,     0.99686,     0.99686,     0.99686,     0.99686,     0.99686,     0.99686,     0.99686,     0.99686,     0.99686,     0.99686,     0.99686,     0.99686,     0.99686,     0.99686,     0.99686,     0.99686,     0.99686,     0.99686,     0.99686,     0.99686,     0.99686,     0.99686,\n",
              "            0.99686,     0.99686,     0.99686,     0.99686,     0.99686,     0.99686,     0.99686,     0.99686,     0.99686,     0.99686,     0.99686,     0.99686,     0.99686,     0.99686,     0.99686,     0.99686,     0.99686,     0.99686,     0.99686,     0.99686,     0.99686,     0.99686,     0.99686,\n",
              "            0.99686,     0.99686,     0.99686,     0.99686,     0.99686,     0.99686,     0.99686,     0.99686,     0.99686,     0.99686,     0.99686,     0.99686,     0.99686,     0.99686,     0.99686,     0.99686,     0.99686,     0.99686,     0.99686,     0.99686,     0.99686,     0.99686,     0.99686,\n",
              "            0.99686,     0.99686,     0.99686,     0.99686,     0.99686,     0.99686,     0.99686,     0.99686,     0.99686,     0.99686,     0.99686,     0.99686,     0.99686,     0.99686,     0.99686,     0.99686,     0.99686,     0.99686,     0.99686,     0.99686,     0.99686,     0.99686,     0.99686,\n",
              "            0.99686,     0.99686,     0.99686,     0.99686,     0.99686,     0.99686,     0.99686,     0.99686,     0.99686,     0.99686,     0.99686,     0.99686,     0.99686,     0.99686,     0.99686,     0.99686,     0.99686,     0.99686,     0.99686,     0.99686,     0.99686,     0.99686,     0.99686,\n",
              "            0.99686,     0.99686,     0.99686,     0.99686,     0.99686,     0.99686,     0.99686,     0.99686,     0.99686,     0.99686,     0.99686,     0.99686,     0.99686,     0.99686,     0.99686,     0.99686,     0.99686,     0.99686,     0.99686,     0.99686,     0.99686,     0.99686,     0.99686,\n",
              "            0.99686,     0.99686,     0.99686,     0.99686,     0.99686,     0.99686,     0.99686,     0.99686,     0.99686,     0.99686,     0.99686,     0.99686,     0.99686,     0.99686,     0.99686,     0.99686,     0.99686,     0.99686,     0.99686,     0.99686,     0.99686,     0.99686,     0.99686,\n",
              "            0.99686,     0.99686,     0.99686,     0.99686,     0.99686,     0.99686,     0.99686,     0.99686,     0.99686,     0.99686,     0.99686,     0.99686,     0.99686,     0.99686,     0.99686,     0.99686,     0.99686,     0.99686,     0.99686,     0.99686,     0.99686,     0.99686,     0.99686,\n",
              "            0.99686,     0.99686,     0.99686,     0.99686,     0.99686,     0.99686,     0.99686,     0.92442,     0.92442,     0.92442,           0]]), 'Recall', 'Precision'], [array([          0,    0.001001,    0.002002,    0.003003,    0.004004,    0.005005,    0.006006,    0.007007,    0.008008,    0.009009,     0.01001,    0.011011,    0.012012,    0.013013,    0.014014,    0.015015,    0.016016,    0.017017,    0.018018,    0.019019,     0.02002,    0.021021,    0.022022,    0.023023,\n",
              "          0.024024,    0.025025,    0.026026,    0.027027,    0.028028,    0.029029,     0.03003,    0.031031,    0.032032,    0.033033,    0.034034,    0.035035,    0.036036,    0.037037,    0.038038,    0.039039,     0.04004,    0.041041,    0.042042,    0.043043,    0.044044,    0.045045,    0.046046,    0.047047,\n",
              "          0.048048,    0.049049,     0.05005,    0.051051,    0.052052,    0.053053,    0.054054,    0.055055,    0.056056,    0.057057,    0.058058,    0.059059,     0.06006,    0.061061,    0.062062,    0.063063,    0.064064,    0.065065,    0.066066,    0.067067,    0.068068,    0.069069,     0.07007,    0.071071,\n",
              "          0.072072,    0.073073,    0.074074,    0.075075,    0.076076,    0.077077,    0.078078,    0.079079,     0.08008,    0.081081,    0.082082,    0.083083,    0.084084,    0.085085,    0.086086,    0.087087,    0.088088,    0.089089,     0.09009,    0.091091,    0.092092,    0.093093,    0.094094,    0.095095,\n",
              "          0.096096,    0.097097,    0.098098,    0.099099,      0.1001,      0.1011,      0.1021,      0.1031,      0.1041,     0.10511,     0.10611,     0.10711,     0.10811,     0.10911,     0.11011,     0.11111,     0.11211,     0.11311,     0.11411,     0.11512,     0.11612,     0.11712,     0.11812,     0.11912,\n",
              "           0.12012,     0.12112,     0.12212,     0.12312,     0.12412,     0.12513,     0.12613,     0.12713,     0.12813,     0.12913,     0.13013,     0.13113,     0.13213,     0.13313,     0.13413,     0.13514,     0.13614,     0.13714,     0.13814,     0.13914,     0.14014,     0.14114,     0.14214,     0.14314,\n",
              "           0.14414,     0.14515,     0.14615,     0.14715,     0.14815,     0.14915,     0.15015,     0.15115,     0.15215,     0.15315,     0.15415,     0.15516,     0.15616,     0.15716,     0.15816,     0.15916,     0.16016,     0.16116,     0.16216,     0.16316,     0.16416,     0.16517,     0.16617,     0.16717,\n",
              "           0.16817,     0.16917,     0.17017,     0.17117,     0.17217,     0.17317,     0.17417,     0.17518,     0.17618,     0.17718,     0.17818,     0.17918,     0.18018,     0.18118,     0.18218,     0.18318,     0.18418,     0.18519,     0.18619,     0.18719,     0.18819,     0.18919,     0.19019,     0.19119,\n",
              "           0.19219,     0.19319,     0.19419,      0.1952,      0.1962,      0.1972,      0.1982,      0.1992,      0.2002,      0.2012,      0.2022,      0.2032,      0.2042,     0.20521,     0.20621,     0.20721,     0.20821,     0.20921,     0.21021,     0.21121,     0.21221,     0.21321,     0.21421,     0.21522,\n",
              "           0.21622,     0.21722,     0.21822,     0.21922,     0.22022,     0.22122,     0.22222,     0.22322,     0.22422,     0.22523,     0.22623,     0.22723,     0.22823,     0.22923,     0.23023,     0.23123,     0.23223,     0.23323,     0.23423,     0.23524,     0.23624,     0.23724,     0.23824,     0.23924,\n",
              "           0.24024,     0.24124,     0.24224,     0.24324,     0.24424,     0.24525,     0.24625,     0.24725,     0.24825,     0.24925,     0.25025,     0.25125,     0.25225,     0.25325,     0.25425,     0.25526,     0.25626,     0.25726,     0.25826,     0.25926,     0.26026,     0.26126,     0.26226,     0.26326,\n",
              "           0.26426,     0.26527,     0.26627,     0.26727,     0.26827,     0.26927,     0.27027,     0.27127,     0.27227,     0.27327,     0.27427,     0.27528,     0.27628,     0.27728,     0.27828,     0.27928,     0.28028,     0.28128,     0.28228,     0.28328,     0.28428,     0.28529,     0.28629,     0.28729,\n",
              "           0.28829,     0.28929,     0.29029,     0.29129,     0.29229,     0.29329,     0.29429,      0.2953,      0.2963,      0.2973,      0.2983,      0.2993,      0.3003,      0.3013,      0.3023,      0.3033,      0.3043,     0.30531,     0.30631,     0.30731,     0.30831,     0.30931,     0.31031,     0.31131,\n",
              "           0.31231,     0.31331,     0.31431,     0.31532,     0.31632,     0.31732,     0.31832,     0.31932,     0.32032,     0.32132,     0.32232,     0.32332,     0.32432,     0.32533,     0.32633,     0.32733,     0.32833,     0.32933,     0.33033,     0.33133,     0.33233,     0.33333,     0.33433,     0.33534,\n",
              "           0.33634,     0.33734,     0.33834,     0.33934,     0.34034,     0.34134,     0.34234,     0.34334,     0.34434,     0.34535,     0.34635,     0.34735,     0.34835,     0.34935,     0.35035,     0.35135,     0.35235,     0.35335,     0.35435,     0.35536,     0.35636,     0.35736,     0.35836,     0.35936,\n",
              "           0.36036,     0.36136,     0.36236,     0.36336,     0.36436,     0.36537,     0.36637,     0.36737,     0.36837,     0.36937,     0.37037,     0.37137,     0.37237,     0.37337,     0.37437,     0.37538,     0.37638,     0.37738,     0.37838,     0.37938,     0.38038,     0.38138,     0.38238,     0.38338,\n",
              "           0.38438,     0.38539,     0.38639,     0.38739,     0.38839,     0.38939,     0.39039,     0.39139,     0.39239,     0.39339,     0.39439,      0.3954,      0.3964,      0.3974,      0.3984,      0.3994,      0.4004,      0.4014,      0.4024,      0.4034,      0.4044,     0.40541,     0.40641,     0.40741,\n",
              "           0.40841,     0.40941,     0.41041,     0.41141,     0.41241,     0.41341,     0.41441,     0.41542,     0.41642,     0.41742,     0.41842,     0.41942,     0.42042,     0.42142,     0.42242,     0.42342,     0.42442,     0.42543,     0.42643,     0.42743,     0.42843,     0.42943,     0.43043,     0.43143,\n",
              "           0.43243,     0.43343,     0.43443,     0.43544,     0.43644,     0.43744,     0.43844,     0.43944,     0.44044,     0.44144,     0.44244,     0.44344,     0.44444,     0.44545,     0.44645,     0.44745,     0.44845,     0.44945,     0.45045,     0.45145,     0.45245,     0.45345,     0.45445,     0.45546,\n",
              "           0.45646,     0.45746,     0.45846,     0.45946,     0.46046,     0.46146,     0.46246,     0.46346,     0.46446,     0.46547,     0.46647,     0.46747,     0.46847,     0.46947,     0.47047,     0.47147,     0.47247,     0.47347,     0.47447,     0.47548,     0.47648,     0.47748,     0.47848,     0.47948,\n",
              "           0.48048,     0.48148,     0.48248,     0.48348,     0.48448,     0.48549,     0.48649,     0.48749,     0.48849,     0.48949,     0.49049,     0.49149,     0.49249,     0.49349,     0.49449,      0.4955,      0.4965,      0.4975,      0.4985,      0.4995,      0.5005,      0.5015,      0.5025,      0.5035,\n",
              "            0.5045,     0.50551,     0.50651,     0.50751,     0.50851,     0.50951,     0.51051,     0.51151,     0.51251,     0.51351,     0.51451,     0.51552,     0.51652,     0.51752,     0.51852,     0.51952,     0.52052,     0.52152,     0.52252,     0.52352,     0.52452,     0.52553,     0.52653,     0.52753,\n",
              "           0.52853,     0.52953,     0.53053,     0.53153,     0.53253,     0.53353,     0.53453,     0.53554,     0.53654,     0.53754,     0.53854,     0.53954,     0.54054,     0.54154,     0.54254,     0.54354,     0.54454,     0.54555,     0.54655,     0.54755,     0.54855,     0.54955,     0.55055,     0.55155,\n",
              "           0.55255,     0.55355,     0.55455,     0.55556,     0.55656,     0.55756,     0.55856,     0.55956,     0.56056,     0.56156,     0.56256,     0.56356,     0.56456,     0.56557,     0.56657,     0.56757,     0.56857,     0.56957,     0.57057,     0.57157,     0.57257,     0.57357,     0.57457,     0.57558,\n",
              "           0.57658,     0.57758,     0.57858,     0.57958,     0.58058,     0.58158,     0.58258,     0.58358,     0.58458,     0.58559,     0.58659,     0.58759,     0.58859,     0.58959,     0.59059,     0.59159,     0.59259,     0.59359,     0.59459,      0.5956,      0.5966,      0.5976,      0.5986,      0.5996,\n",
              "            0.6006,      0.6016,      0.6026,      0.6036,      0.6046,     0.60561,     0.60661,     0.60761,     0.60861,     0.60961,     0.61061,     0.61161,     0.61261,     0.61361,     0.61461,     0.61562,     0.61662,     0.61762,     0.61862,     0.61962,     0.62062,     0.62162,     0.62262,     0.62362,\n",
              "           0.62462,     0.62563,     0.62663,     0.62763,     0.62863,     0.62963,     0.63063,     0.63163,     0.63263,     0.63363,     0.63463,     0.63564,     0.63664,     0.63764,     0.63864,     0.63964,     0.64064,     0.64164,     0.64264,     0.64364,     0.64464,     0.64565,     0.64665,     0.64765,\n",
              "           0.64865,     0.64965,     0.65065,     0.65165,     0.65265,     0.65365,     0.65465,     0.65566,     0.65666,     0.65766,     0.65866,     0.65966,     0.66066,     0.66166,     0.66266,     0.66366,     0.66466,     0.66567,     0.66667,     0.66767,     0.66867,     0.66967,     0.67067,     0.67167,\n",
              "           0.67267,     0.67367,     0.67467,     0.67568,     0.67668,     0.67768,     0.67868,     0.67968,     0.68068,     0.68168,     0.68268,     0.68368,     0.68468,     0.68569,     0.68669,     0.68769,     0.68869,     0.68969,     0.69069,     0.69169,     0.69269,     0.69369,     0.69469,      0.6957,\n",
              "            0.6967,      0.6977,      0.6987,      0.6997,      0.7007,      0.7017,      0.7027,      0.7037,      0.7047,     0.70571,     0.70671,     0.70771,     0.70871,     0.70971,     0.71071,     0.71171,     0.71271,     0.71371,     0.71471,     0.71572,     0.71672,     0.71772,     0.71872,     0.71972,\n",
              "           0.72072,     0.72172,     0.72272,     0.72372,     0.72472,     0.72573,     0.72673,     0.72773,     0.72873,     0.72973,     0.73073,     0.73173,     0.73273,     0.73373,     0.73473,     0.73574,     0.73674,     0.73774,     0.73874,     0.73974,     0.74074,     0.74174,     0.74274,     0.74374,\n",
              "           0.74474,     0.74575,     0.74675,     0.74775,     0.74875,     0.74975,     0.75075,     0.75175,     0.75275,     0.75375,     0.75475,     0.75576,     0.75676,     0.75776,     0.75876,     0.75976,     0.76076,     0.76176,     0.76276,     0.76376,     0.76476,     0.76577,     0.76677,     0.76777,\n",
              "           0.76877,     0.76977,     0.77077,     0.77177,     0.77277,     0.77377,     0.77477,     0.77578,     0.77678,     0.77778,     0.77878,     0.77978,     0.78078,     0.78178,     0.78278,     0.78378,     0.78478,     0.78579,     0.78679,     0.78779,     0.78879,     0.78979,     0.79079,     0.79179,\n",
              "           0.79279,     0.79379,     0.79479,      0.7958,      0.7968,      0.7978,      0.7988,      0.7998,      0.8008,      0.8018,      0.8028,      0.8038,      0.8048,     0.80581,     0.80681,     0.80781,     0.80881,     0.80981,     0.81081,     0.81181,     0.81281,     0.81381,     0.81481,     0.81582,\n",
              "           0.81682,     0.81782,     0.81882,     0.81982,     0.82082,     0.82182,     0.82282,     0.82382,     0.82482,     0.82583,     0.82683,     0.82783,     0.82883,     0.82983,     0.83083,     0.83183,     0.83283,     0.83383,     0.83483,     0.83584,     0.83684,     0.83784,     0.83884,     0.83984,\n",
              "           0.84084,     0.84184,     0.84284,     0.84384,     0.84484,     0.84585,     0.84685,     0.84785,     0.84885,     0.84985,     0.85085,     0.85185,     0.85285,     0.85385,     0.85485,     0.85586,     0.85686,     0.85786,     0.85886,     0.85986,     0.86086,     0.86186,     0.86286,     0.86386,\n",
              "           0.86486,     0.86587,     0.86687,     0.86787,     0.86887,     0.86987,     0.87087,     0.87187,     0.87287,     0.87387,     0.87487,     0.87588,     0.87688,     0.87788,     0.87888,     0.87988,     0.88088,     0.88188,     0.88288,     0.88388,     0.88488,     0.88589,     0.88689,     0.88789,\n",
              "           0.88889,     0.88989,     0.89089,     0.89189,     0.89289,     0.89389,     0.89489,      0.8959,      0.8969,      0.8979,      0.8989,      0.8999,      0.9009,      0.9019,      0.9029,      0.9039,      0.9049,     0.90591,     0.90691,     0.90791,     0.90891,     0.90991,     0.91091,     0.91191,\n",
              "           0.91291,     0.91391,     0.91491,     0.91592,     0.91692,     0.91792,     0.91892,     0.91992,     0.92092,     0.92192,     0.92292,     0.92392,     0.92492,     0.92593,     0.92693,     0.92793,     0.92893,     0.92993,     0.93093,     0.93193,     0.93293,     0.93393,     0.93493,     0.93594,\n",
              "           0.93694,     0.93794,     0.93894,     0.93994,     0.94094,     0.94194,     0.94294,     0.94394,     0.94494,     0.94595,     0.94695,     0.94795,     0.94895,     0.94995,     0.95095,     0.95195,     0.95295,     0.95395,     0.95495,     0.95596,     0.95696,     0.95796,     0.95896,     0.95996,\n",
              "           0.96096,     0.96196,     0.96296,     0.96396,     0.96496,     0.96597,     0.96697,     0.96797,     0.96897,     0.96997,     0.97097,     0.97197,     0.97297,     0.97397,     0.97497,     0.97598,     0.97698,     0.97798,     0.97898,     0.97998,     0.98098,     0.98198,     0.98298,     0.98398,\n",
              "           0.98498,     0.98599,     0.98699,     0.98799,     0.98899,     0.98999,     0.99099,     0.99199,     0.99299,     0.99399,     0.99499,       0.996,       0.997,       0.998,       0.999,           1]), array([[   0.090072,    0.090072,     0.43829,     0.63467,     0.77522,     0.83912,     0.86298,     0.87343,     0.88613,     0.89839,      0.9052,     0.90817,     0.91671,     0.92255,     0.92493,     0.92783,     0.93132,     0.93342,     0.93867,     0.94326,     0.94421,     0.94481,      0.9496,\n",
              "            0.95251,     0.95587,     0.95988,     0.96114,     0.96185,     0.96232,     0.96268,     0.96304,      0.9634,     0.96395,     0.96459,     0.96566,     0.96698,     0.96791,      0.9684,     0.96887,     0.96935,     0.97037,     0.97152,     0.97247,     0.97276,     0.97305,     0.97334,\n",
              "            0.97364,     0.97396,     0.97448,     0.97501,     0.97557,     0.97623,      0.9769,      0.9773,     0.97771,     0.97812,     0.97992,     0.98023,     0.98055,     0.98086,     0.98118,     0.98296,     0.98318,     0.98339,      0.9836,     0.98381,     0.98403,     0.98424,     0.98445,\n",
              "            0.98452,     0.98458,     0.98464,     0.98469,     0.98475,      0.9848,     0.98486,     0.98492,     0.98497,     0.98503,     0.98509,     0.98514,      0.9852,     0.98526,     0.98531,     0.98537,     0.98543,     0.98548,     0.98554,     0.98559,     0.98565,     0.98571,     0.98576,\n",
              "            0.98582,     0.98588,     0.98593,     0.98599,     0.98677,     0.98758,     0.98774,      0.9879,     0.98806,     0.98822,     0.98838,     0.98854,      0.9887,     0.98886,     0.98902,     0.98914,     0.98924,     0.98934,     0.98944,     0.98954,     0.98964,     0.98974,     0.98984,\n",
              "            0.98995,     0.99005,     0.99015,     0.99025,     0.99035,     0.99045,     0.99055,     0.99063,     0.99066,     0.99069,     0.99072,     0.99075,     0.99078,     0.99081,     0.99084,     0.99087,      0.9909,     0.99093,     0.99096,     0.99099,     0.99102,     0.99105,     0.99108,\n",
              "            0.99112,     0.99115,     0.99118,     0.99121,     0.99124,     0.99127,      0.9913,     0.99133,     0.99136,     0.99139,     0.99142,     0.99145,     0.99148,     0.99151,     0.99154,     0.99157,      0.9916,     0.99163,     0.99166,     0.99169,     0.99172,     0.99175,     0.99178,\n",
              "            0.99181,     0.99184,     0.99187,      0.9919,     0.99193,     0.99196,     0.99199,     0.99202,     0.99205,     0.99208,     0.99211,     0.99214,     0.99217,     0.99222,     0.99228,     0.99234,      0.9924,     0.99246,     0.99252,     0.99258,     0.99263,     0.99269,     0.99275,\n",
              "            0.99281,     0.99287,     0.99293,     0.99299,     0.99304,      0.9931,     0.99316,     0.99322,     0.99328,     0.99334,     0.99339,     0.99345,     0.99351,     0.99357,     0.99363,     0.99369,     0.99373,     0.99373,     0.99374,     0.99374,     0.99374,     0.99375,     0.99375,\n",
              "            0.99375,     0.99376,     0.99376,     0.99376,     0.99377,     0.99377,     0.99377,     0.99378,     0.99378,     0.99378,     0.99379,     0.99379,     0.99379,      0.9938,      0.9938,      0.9938,     0.99381,     0.99381,     0.99381,     0.99382,     0.99382,     0.99382,     0.99383,\n",
              "            0.99383,     0.99383,     0.99384,     0.99384,     0.99384,     0.99385,     0.99385,     0.99385,     0.99386,     0.99386,     0.99386,     0.99387,     0.99387,     0.99387,     0.99388,     0.99388,     0.99388,     0.99389,     0.99389,     0.99389,      0.9939,      0.9939,      0.9939,\n",
              "            0.99391,     0.99391,     0.99391,     0.99392,     0.99392,     0.99392,     0.99393,     0.99393,     0.99393,     0.99394,     0.99394,     0.99394,     0.99395,     0.99395,     0.99395,     0.99396,     0.99396,     0.99396,     0.99397,     0.99397,     0.99397,     0.99397,     0.99398,\n",
              "            0.99398,     0.99398,     0.99399,     0.99399,     0.99399,       0.994,       0.994,       0.994,     0.99401,     0.99401,     0.99401,     0.99402,     0.99402,     0.99402,     0.99403,     0.99403,     0.99403,     0.99404,     0.99404,     0.99404,     0.99405,     0.99405,     0.99405,\n",
              "            0.99406,     0.99406,     0.99406,     0.99407,     0.99407,     0.99407,     0.99408,     0.99408,     0.99408,     0.99409,     0.99409,     0.99409,      0.9941,      0.9941,      0.9941,     0.99411,     0.99411,     0.99411,     0.99412,     0.99412,     0.99412,     0.99413,     0.99413,\n",
              "            0.99413,     0.99414,     0.99414,     0.99414,     0.99415,     0.99415,     0.99415,     0.99416,     0.99416,     0.99416,     0.99417,     0.99417,     0.99417,     0.99418,     0.99418,     0.99418,     0.99419,     0.99419,     0.99419,      0.9942,      0.9942,      0.9942,     0.99421,\n",
              "            0.99421,     0.99421,     0.99422,     0.99422,     0.99422,     0.99423,     0.99423,     0.99423,     0.99423,     0.99424,     0.99424,     0.99424,     0.99425,     0.99425,     0.99425,     0.99426,     0.99426,     0.99426,     0.99427,     0.99427,     0.99427,     0.99428,     0.99428,\n",
              "            0.99428,     0.99429,     0.99429,     0.99429,      0.9943,      0.9943,      0.9943,     0.99431,     0.99431,     0.99431,     0.99432,     0.99432,     0.99432,     0.99433,     0.99433,     0.99433,     0.99434,     0.99434,     0.99434,     0.99435,     0.99435,     0.99435,     0.99436,\n",
              "            0.99436,     0.99436,     0.99437,     0.99437,     0.99437,     0.99438,     0.99438,     0.99438,     0.99439,     0.99439,     0.99439,      0.9944,      0.9944,      0.9944,     0.99441,     0.99441,     0.99441,     0.99442,     0.99442,     0.99442,     0.99443,     0.99443,     0.99443,\n",
              "            0.99444,     0.99444,     0.99444,     0.99445,     0.99445,     0.99445,     0.99446,     0.99446,     0.99446,     0.99447,     0.99447,     0.99447,     0.99448,     0.99448,     0.99448,     0.99448,     0.99449,     0.99449,     0.99449,      0.9945,      0.9945,      0.9945,     0.99451,\n",
              "            0.99451,     0.99451,     0.99452,     0.99452,     0.99452,     0.99453,     0.99453,     0.99453,     0.99454,     0.99454,     0.99454,     0.99455,     0.99455,     0.99455,     0.99456,     0.99456,     0.99456,     0.99457,     0.99457,     0.99457,     0.99458,     0.99458,     0.99458,\n",
              "            0.99459,     0.99459,     0.99459,      0.9946,      0.9946,      0.9946,     0.99461,     0.99461,     0.99461,     0.99462,     0.99462,     0.99462,     0.99463,     0.99463,     0.99463,     0.99464,     0.99464,     0.99464,     0.99465,     0.99465,     0.99465,     0.99466,     0.99466,\n",
              "            0.99466,     0.99467,     0.99467,     0.99467,     0.99468,     0.99468,     0.99468,     0.99469,     0.99469,     0.99469,      0.9947,      0.9947,      0.9947,     0.99471,     0.99471,     0.99471,     0.99472,     0.99472,     0.99472,     0.99472,     0.99473,     0.99473,     0.99473,\n",
              "            0.99474,     0.99474,     0.99474,     0.99475,     0.99475,     0.99475,     0.99476,     0.99476,     0.99476,     0.99477,     0.99477,     0.99477,     0.99478,     0.99478,     0.99478,     0.99479,     0.99479,     0.99479,      0.9948,      0.9948,      0.9948,     0.99481,     0.99481,\n",
              "            0.99481,     0.99482,     0.99482,     0.99482,     0.99483,     0.99483,     0.99483,     0.99484,     0.99484,     0.99484,     0.99485,     0.99485,     0.99485,     0.99486,     0.99486,     0.99486,     0.99487,     0.99487,     0.99487,     0.99488,     0.99488,     0.99488,     0.99489,\n",
              "            0.99489,     0.99489,      0.9949,      0.9949,      0.9949,     0.99491,     0.99491,     0.99491,     0.99492,     0.99492,     0.99492,     0.99493,     0.99493,     0.99493,     0.99494,     0.99494,     0.99494,     0.99495,     0.99495,     0.99495,     0.99495,     0.99496,     0.99496,\n",
              "            0.99496,     0.99497,     0.99497,     0.99497,     0.99498,     0.99498,     0.99498,     0.99499,     0.99499,     0.99499,       0.995,       0.995,       0.995,     0.99501,     0.99501,     0.99501,     0.99502,     0.99502,     0.99502,     0.99503,     0.99503,     0.99503,     0.99504,\n",
              "            0.99504,     0.99504,     0.99505,     0.99505,     0.99505,     0.99506,     0.99506,     0.99506,     0.99507,     0.99507,     0.99507,     0.99508,     0.99508,     0.99508,     0.99509,     0.99509,     0.99509,      0.9951,      0.9951,      0.9951,     0.99511,     0.99511,     0.99511,\n",
              "            0.99512,     0.99512,     0.99512,     0.99513,     0.99513,     0.99513,     0.99514,     0.99514,     0.99514,     0.99515,     0.99515,     0.99515,     0.99516,     0.99516,     0.99516,     0.99517,     0.99517,     0.99517,     0.99518,     0.99518,     0.99518,     0.99518,     0.99519,\n",
              "            0.99519,     0.99519,      0.9952,      0.9952,      0.9952,     0.99521,     0.99521,     0.99521,     0.99522,     0.99522,     0.99522,     0.99523,     0.99523,     0.99523,     0.99524,     0.99524,     0.99524,     0.99525,     0.99525,     0.99525,     0.99526,     0.99526,     0.99526,\n",
              "            0.99527,     0.99527,     0.99527,     0.99528,     0.99528,     0.99528,     0.99529,     0.99529,     0.99532,     0.99536,      0.9954,     0.99544,     0.99547,     0.99551,     0.99555,     0.99558,     0.99562,     0.99566,      0.9957,     0.99573,     0.99577,     0.99581,     0.99585,\n",
              "            0.99588,     0.99592,     0.99596,     0.99599,     0.99603,     0.99607,     0.99611,     0.99614,     0.99618,     0.99622,     0.99626,     0.99629,     0.99633,     0.99637,     0.99641,     0.99644,     0.99648,     0.99652,     0.99655,     0.99659,     0.99663,     0.99667,      0.9967,\n",
              "            0.99674,     0.99678,     0.99682,     0.99685,      0.9968,     0.99674,     0.99669,     0.99663,     0.99657,     0.99651,     0.99646,      0.9964,     0.99634,     0.99628,     0.99622,     0.99617,     0.99611,     0.99605,     0.99599,     0.99594,     0.99588,     0.99582,     0.99576,\n",
              "             0.9957,     0.99565,     0.99559,     0.99553,     0.99547,     0.99541,     0.99536,      0.9953,     0.99495,     0.99441,     0.99387,     0.98995,     0.98913,     0.98811,     0.98526,     0.97888,     0.97776,     0.97664,     0.97471,     0.96948,     0.96854,     0.96768,     0.96181,\n",
              "            0.95924,     0.94886,       0.941,     0.93483,     0.93392,     0.92752,     0.91812,     0.90628,     0.89963,     0.89577,     0.89381,     0.89132,     0.88502,     0.87613,     0.86942,     0.85792,     0.85295,      0.8471,     0.84444,      0.8337,     0.82507,     0.82062,     0.81071,\n",
              "            0.79818,     0.78801,     0.76777,     0.74989,     0.73828,     0.73238,     0.71257,     0.70655,     0.67761,     0.66024,     0.63489,     0.61951,     0.60738,     0.59813,     0.57957,     0.55183,      0.5469,     0.53503,     0.50921,     0.49866,     0.48406,     0.47988,     0.47802,\n",
              "            0.45412,     0.43562,     0.43093,     0.40425,     0.39192,     0.37115,     0.34721,     0.34427,     0.33575,     0.31134,     0.30042,     0.28645,      0.2797,     0.27651,     0.25279,     0.22831,     0.19807,     0.19282,     0.18705,     0.16915,      0.1496,     0.13849,     0.12833,\n",
              "            0.12145,     0.11557,     0.11175,     0.10791,     0.10406,    0.097564,    0.089026,    0.086079,    0.079468,    0.063157,    0.058187,    0.053077,    0.042824,    0.034829,    0.030873,    0.029622,     0.02837,    0.027116,    0.025861,    0.018471,     0.01732,    0.016168,    0.015014,\n",
              "           0.013858,    0.012702,    0.012079,     0.01157,     0.01106,     0.01055,    0.010039,   0.0095285,   0.0090175,   0.0085063,   0.0079948,   0.0074831,    0.006971,   0.0064588,           0,           0,           0,           0,           0,           0,           0,           0,           0,\n",
              "                  0,           0,           0,           0,           0,           0,           0,           0,           0,           0,           0,           0,           0,           0,           0,           0,           0,           0,           0,           0,           0,           0,           0,\n",
              "                  0,           0,           0,           0,           0,           0,           0,           0,           0,           0,           0,           0,           0,           0,           0,           0,           0,           0,           0,           0,           0,           0,           0,\n",
              "                  0,           0,           0,           0,           0,           0,           0,           0,           0,           0,           0,           0,           0,           0,           0,           0,           0,           0,           0,           0,           0,           0,           0,\n",
              "                  0,           0,           0,           0,           0,           0,           0,           0,           0,           0,           0,           0,           0,           0,           0,           0,           0,           0,           0,           0,           0,           0,           0,\n",
              "                  0,           0,           0,           0,           0,           0,           0,           0,           0,           0,           0,           0,           0,           0,           0,           0,           0,           0,           0,           0,           0,           0,           0,\n",
              "                  0,           0,           0,           0,           0,           0,           0,           0,           0,           0,           0]]), 'Confidence', 'F1'], [array([          0,    0.001001,    0.002002,    0.003003,    0.004004,    0.005005,    0.006006,    0.007007,    0.008008,    0.009009,     0.01001,    0.011011,    0.012012,    0.013013,    0.014014,    0.015015,    0.016016,    0.017017,    0.018018,    0.019019,     0.02002,    0.021021,    0.022022,    0.023023,\n",
              "          0.024024,    0.025025,    0.026026,    0.027027,    0.028028,    0.029029,     0.03003,    0.031031,    0.032032,    0.033033,    0.034034,    0.035035,    0.036036,    0.037037,    0.038038,    0.039039,     0.04004,    0.041041,    0.042042,    0.043043,    0.044044,    0.045045,    0.046046,    0.047047,\n",
              "          0.048048,    0.049049,     0.05005,    0.051051,    0.052052,    0.053053,    0.054054,    0.055055,    0.056056,    0.057057,    0.058058,    0.059059,     0.06006,    0.061061,    0.062062,    0.063063,    0.064064,    0.065065,    0.066066,    0.067067,    0.068068,    0.069069,     0.07007,    0.071071,\n",
              "          0.072072,    0.073073,    0.074074,    0.075075,    0.076076,    0.077077,    0.078078,    0.079079,     0.08008,    0.081081,    0.082082,    0.083083,    0.084084,    0.085085,    0.086086,    0.087087,    0.088088,    0.089089,     0.09009,    0.091091,    0.092092,    0.093093,    0.094094,    0.095095,\n",
              "          0.096096,    0.097097,    0.098098,    0.099099,      0.1001,      0.1011,      0.1021,      0.1031,      0.1041,     0.10511,     0.10611,     0.10711,     0.10811,     0.10911,     0.11011,     0.11111,     0.11211,     0.11311,     0.11411,     0.11512,     0.11612,     0.11712,     0.11812,     0.11912,\n",
              "           0.12012,     0.12112,     0.12212,     0.12312,     0.12412,     0.12513,     0.12613,     0.12713,     0.12813,     0.12913,     0.13013,     0.13113,     0.13213,     0.13313,     0.13413,     0.13514,     0.13614,     0.13714,     0.13814,     0.13914,     0.14014,     0.14114,     0.14214,     0.14314,\n",
              "           0.14414,     0.14515,     0.14615,     0.14715,     0.14815,     0.14915,     0.15015,     0.15115,     0.15215,     0.15315,     0.15415,     0.15516,     0.15616,     0.15716,     0.15816,     0.15916,     0.16016,     0.16116,     0.16216,     0.16316,     0.16416,     0.16517,     0.16617,     0.16717,\n",
              "           0.16817,     0.16917,     0.17017,     0.17117,     0.17217,     0.17317,     0.17417,     0.17518,     0.17618,     0.17718,     0.17818,     0.17918,     0.18018,     0.18118,     0.18218,     0.18318,     0.18418,     0.18519,     0.18619,     0.18719,     0.18819,     0.18919,     0.19019,     0.19119,\n",
              "           0.19219,     0.19319,     0.19419,      0.1952,      0.1962,      0.1972,      0.1982,      0.1992,      0.2002,      0.2012,      0.2022,      0.2032,      0.2042,     0.20521,     0.20621,     0.20721,     0.20821,     0.20921,     0.21021,     0.21121,     0.21221,     0.21321,     0.21421,     0.21522,\n",
              "           0.21622,     0.21722,     0.21822,     0.21922,     0.22022,     0.22122,     0.22222,     0.22322,     0.22422,     0.22523,     0.22623,     0.22723,     0.22823,     0.22923,     0.23023,     0.23123,     0.23223,     0.23323,     0.23423,     0.23524,     0.23624,     0.23724,     0.23824,     0.23924,\n",
              "           0.24024,     0.24124,     0.24224,     0.24324,     0.24424,     0.24525,     0.24625,     0.24725,     0.24825,     0.24925,     0.25025,     0.25125,     0.25225,     0.25325,     0.25425,     0.25526,     0.25626,     0.25726,     0.25826,     0.25926,     0.26026,     0.26126,     0.26226,     0.26326,\n",
              "           0.26426,     0.26527,     0.26627,     0.26727,     0.26827,     0.26927,     0.27027,     0.27127,     0.27227,     0.27327,     0.27427,     0.27528,     0.27628,     0.27728,     0.27828,     0.27928,     0.28028,     0.28128,     0.28228,     0.28328,     0.28428,     0.28529,     0.28629,     0.28729,\n",
              "           0.28829,     0.28929,     0.29029,     0.29129,     0.29229,     0.29329,     0.29429,      0.2953,      0.2963,      0.2973,      0.2983,      0.2993,      0.3003,      0.3013,      0.3023,      0.3033,      0.3043,     0.30531,     0.30631,     0.30731,     0.30831,     0.30931,     0.31031,     0.31131,\n",
              "           0.31231,     0.31331,     0.31431,     0.31532,     0.31632,     0.31732,     0.31832,     0.31932,     0.32032,     0.32132,     0.32232,     0.32332,     0.32432,     0.32533,     0.32633,     0.32733,     0.32833,     0.32933,     0.33033,     0.33133,     0.33233,     0.33333,     0.33433,     0.33534,\n",
              "           0.33634,     0.33734,     0.33834,     0.33934,     0.34034,     0.34134,     0.34234,     0.34334,     0.34434,     0.34535,     0.34635,     0.34735,     0.34835,     0.34935,     0.35035,     0.35135,     0.35235,     0.35335,     0.35435,     0.35536,     0.35636,     0.35736,     0.35836,     0.35936,\n",
              "           0.36036,     0.36136,     0.36236,     0.36336,     0.36436,     0.36537,     0.36637,     0.36737,     0.36837,     0.36937,     0.37037,     0.37137,     0.37237,     0.37337,     0.37437,     0.37538,     0.37638,     0.37738,     0.37838,     0.37938,     0.38038,     0.38138,     0.38238,     0.38338,\n",
              "           0.38438,     0.38539,     0.38639,     0.38739,     0.38839,     0.38939,     0.39039,     0.39139,     0.39239,     0.39339,     0.39439,      0.3954,      0.3964,      0.3974,      0.3984,      0.3994,      0.4004,      0.4014,      0.4024,      0.4034,      0.4044,     0.40541,     0.40641,     0.40741,\n",
              "           0.40841,     0.40941,     0.41041,     0.41141,     0.41241,     0.41341,     0.41441,     0.41542,     0.41642,     0.41742,     0.41842,     0.41942,     0.42042,     0.42142,     0.42242,     0.42342,     0.42442,     0.42543,     0.42643,     0.42743,     0.42843,     0.42943,     0.43043,     0.43143,\n",
              "           0.43243,     0.43343,     0.43443,     0.43544,     0.43644,     0.43744,     0.43844,     0.43944,     0.44044,     0.44144,     0.44244,     0.44344,     0.44444,     0.44545,     0.44645,     0.44745,     0.44845,     0.44945,     0.45045,     0.45145,     0.45245,     0.45345,     0.45445,     0.45546,\n",
              "           0.45646,     0.45746,     0.45846,     0.45946,     0.46046,     0.46146,     0.46246,     0.46346,     0.46446,     0.46547,     0.46647,     0.46747,     0.46847,     0.46947,     0.47047,     0.47147,     0.47247,     0.47347,     0.47447,     0.47548,     0.47648,     0.47748,     0.47848,     0.47948,\n",
              "           0.48048,     0.48148,     0.48248,     0.48348,     0.48448,     0.48549,     0.48649,     0.48749,     0.48849,     0.48949,     0.49049,     0.49149,     0.49249,     0.49349,     0.49449,      0.4955,      0.4965,      0.4975,      0.4985,      0.4995,      0.5005,      0.5015,      0.5025,      0.5035,\n",
              "            0.5045,     0.50551,     0.50651,     0.50751,     0.50851,     0.50951,     0.51051,     0.51151,     0.51251,     0.51351,     0.51451,     0.51552,     0.51652,     0.51752,     0.51852,     0.51952,     0.52052,     0.52152,     0.52252,     0.52352,     0.52452,     0.52553,     0.52653,     0.52753,\n",
              "           0.52853,     0.52953,     0.53053,     0.53153,     0.53253,     0.53353,     0.53453,     0.53554,     0.53654,     0.53754,     0.53854,     0.53954,     0.54054,     0.54154,     0.54254,     0.54354,     0.54454,     0.54555,     0.54655,     0.54755,     0.54855,     0.54955,     0.55055,     0.55155,\n",
              "           0.55255,     0.55355,     0.55455,     0.55556,     0.55656,     0.55756,     0.55856,     0.55956,     0.56056,     0.56156,     0.56256,     0.56356,     0.56456,     0.56557,     0.56657,     0.56757,     0.56857,     0.56957,     0.57057,     0.57157,     0.57257,     0.57357,     0.57457,     0.57558,\n",
              "           0.57658,     0.57758,     0.57858,     0.57958,     0.58058,     0.58158,     0.58258,     0.58358,     0.58458,     0.58559,     0.58659,     0.58759,     0.58859,     0.58959,     0.59059,     0.59159,     0.59259,     0.59359,     0.59459,      0.5956,      0.5966,      0.5976,      0.5986,      0.5996,\n",
              "            0.6006,      0.6016,      0.6026,      0.6036,      0.6046,     0.60561,     0.60661,     0.60761,     0.60861,     0.60961,     0.61061,     0.61161,     0.61261,     0.61361,     0.61461,     0.61562,     0.61662,     0.61762,     0.61862,     0.61962,     0.62062,     0.62162,     0.62262,     0.62362,\n",
              "           0.62462,     0.62563,     0.62663,     0.62763,     0.62863,     0.62963,     0.63063,     0.63163,     0.63263,     0.63363,     0.63463,     0.63564,     0.63664,     0.63764,     0.63864,     0.63964,     0.64064,     0.64164,     0.64264,     0.64364,     0.64464,     0.64565,     0.64665,     0.64765,\n",
              "           0.64865,     0.64965,     0.65065,     0.65165,     0.65265,     0.65365,     0.65465,     0.65566,     0.65666,     0.65766,     0.65866,     0.65966,     0.66066,     0.66166,     0.66266,     0.66366,     0.66466,     0.66567,     0.66667,     0.66767,     0.66867,     0.66967,     0.67067,     0.67167,\n",
              "           0.67267,     0.67367,     0.67467,     0.67568,     0.67668,     0.67768,     0.67868,     0.67968,     0.68068,     0.68168,     0.68268,     0.68368,     0.68468,     0.68569,     0.68669,     0.68769,     0.68869,     0.68969,     0.69069,     0.69169,     0.69269,     0.69369,     0.69469,      0.6957,\n",
              "            0.6967,      0.6977,      0.6987,      0.6997,      0.7007,      0.7017,      0.7027,      0.7037,      0.7047,     0.70571,     0.70671,     0.70771,     0.70871,     0.70971,     0.71071,     0.71171,     0.71271,     0.71371,     0.71471,     0.71572,     0.71672,     0.71772,     0.71872,     0.71972,\n",
              "           0.72072,     0.72172,     0.72272,     0.72372,     0.72472,     0.72573,     0.72673,     0.72773,     0.72873,     0.72973,     0.73073,     0.73173,     0.73273,     0.73373,     0.73473,     0.73574,     0.73674,     0.73774,     0.73874,     0.73974,     0.74074,     0.74174,     0.74274,     0.74374,\n",
              "           0.74474,     0.74575,     0.74675,     0.74775,     0.74875,     0.74975,     0.75075,     0.75175,     0.75275,     0.75375,     0.75475,     0.75576,     0.75676,     0.75776,     0.75876,     0.75976,     0.76076,     0.76176,     0.76276,     0.76376,     0.76476,     0.76577,     0.76677,     0.76777,\n",
              "           0.76877,     0.76977,     0.77077,     0.77177,     0.77277,     0.77377,     0.77477,     0.77578,     0.77678,     0.77778,     0.77878,     0.77978,     0.78078,     0.78178,     0.78278,     0.78378,     0.78478,     0.78579,     0.78679,     0.78779,     0.78879,     0.78979,     0.79079,     0.79179,\n",
              "           0.79279,     0.79379,     0.79479,      0.7958,      0.7968,      0.7978,      0.7988,      0.7998,      0.8008,      0.8018,      0.8028,      0.8038,      0.8048,     0.80581,     0.80681,     0.80781,     0.80881,     0.80981,     0.81081,     0.81181,     0.81281,     0.81381,     0.81481,     0.81582,\n",
              "           0.81682,     0.81782,     0.81882,     0.81982,     0.82082,     0.82182,     0.82282,     0.82382,     0.82482,     0.82583,     0.82683,     0.82783,     0.82883,     0.82983,     0.83083,     0.83183,     0.83283,     0.83383,     0.83483,     0.83584,     0.83684,     0.83784,     0.83884,     0.83984,\n",
              "           0.84084,     0.84184,     0.84284,     0.84384,     0.84484,     0.84585,     0.84685,     0.84785,     0.84885,     0.84985,     0.85085,     0.85185,     0.85285,     0.85385,     0.85485,     0.85586,     0.85686,     0.85786,     0.85886,     0.85986,     0.86086,     0.86186,     0.86286,     0.86386,\n",
              "           0.86486,     0.86587,     0.86687,     0.86787,     0.86887,     0.86987,     0.87087,     0.87187,     0.87287,     0.87387,     0.87487,     0.87588,     0.87688,     0.87788,     0.87888,     0.87988,     0.88088,     0.88188,     0.88288,     0.88388,     0.88488,     0.88589,     0.88689,     0.88789,\n",
              "           0.88889,     0.88989,     0.89089,     0.89189,     0.89289,     0.89389,     0.89489,      0.8959,      0.8969,      0.8979,      0.8989,      0.8999,      0.9009,      0.9019,      0.9029,      0.9039,      0.9049,     0.90591,     0.90691,     0.90791,     0.90891,     0.90991,     0.91091,     0.91191,\n",
              "           0.91291,     0.91391,     0.91491,     0.91592,     0.91692,     0.91792,     0.91892,     0.91992,     0.92092,     0.92192,     0.92292,     0.92392,     0.92492,     0.92593,     0.92693,     0.92793,     0.92893,     0.92993,     0.93093,     0.93193,     0.93293,     0.93393,     0.93493,     0.93594,\n",
              "           0.93694,     0.93794,     0.93894,     0.93994,     0.94094,     0.94194,     0.94294,     0.94394,     0.94494,     0.94595,     0.94695,     0.94795,     0.94895,     0.94995,     0.95095,     0.95195,     0.95295,     0.95395,     0.95495,     0.95596,     0.95696,     0.95796,     0.95896,     0.95996,\n",
              "           0.96096,     0.96196,     0.96296,     0.96396,     0.96496,     0.96597,     0.96697,     0.96797,     0.96897,     0.96997,     0.97097,     0.97197,     0.97297,     0.97397,     0.97497,     0.97598,     0.97698,     0.97798,     0.97898,     0.97998,     0.98098,     0.98198,     0.98298,     0.98398,\n",
              "           0.98498,     0.98599,     0.98699,     0.98799,     0.98899,     0.98999,     0.99099,     0.99199,     0.99299,     0.99399,     0.99499,       0.996,       0.997,       0.998,       0.999,           1]), array([[    0.04716,     0.04716,     0.28065,     0.46485,     0.63295,     0.72283,     0.75898,      0.7753,     0.79553,     0.81553,     0.82682,     0.83178,     0.84623,     0.85624,     0.86035,     0.86537,     0.87147,     0.87515,     0.88442,     0.89262,     0.89431,      0.8954,     0.90404,\n",
              "            0.90933,     0.91548,      0.9243,      0.9279,     0.92922,     0.93009,     0.93077,     0.93145,     0.93212,     0.93315,     0.93435,     0.93636,     0.93883,     0.94059,     0.94152,     0.94242,     0.94332,     0.94525,     0.94743,     0.94925,      0.9498,     0.95036,     0.95092,\n",
              "            0.95147,     0.95209,     0.95309,     0.95409,     0.95517,     0.95645,     0.95772,     0.95851,     0.95929,     0.96008,     0.96354,     0.96415,     0.96476,     0.96537,     0.96598,     0.96945,     0.96987,     0.97028,     0.97069,     0.97111,     0.97152,     0.97193,     0.97235,\n",
              "            0.97249,      0.9726,     0.97271,     0.97282,     0.97293,     0.97304,     0.97315,     0.97326,     0.97337,     0.97348,     0.97359,      0.9737,     0.97381,     0.97392,     0.97403,     0.97415,     0.97426,     0.97437,     0.97448,     0.97459,      0.9747,     0.97481,     0.97492,\n",
              "            0.97503,     0.97514,     0.97525,     0.97536,     0.97688,     0.97847,     0.97878,      0.9791,     0.97941,     0.97973,     0.98004,     0.98036,     0.98067,     0.98098,      0.9813,     0.98154,     0.98174,     0.98194,     0.98214,     0.98234,     0.98253,     0.98273,     0.98293,\n",
              "            0.98313,     0.98333,     0.98353,     0.98373,     0.98392,     0.98412,     0.98432,     0.98449,     0.98455,     0.98461,     0.98467,     0.98472,     0.98478,     0.98484,      0.9849,     0.98496,     0.98502,     0.98508,     0.98514,      0.9852,     0.98526,     0.98532,     0.98538,\n",
              "            0.98544,      0.9855,     0.98556,     0.98562,     0.98568,     0.98574,      0.9858,     0.98586,     0.98592,     0.98598,     0.98604,      0.9861,     0.98616,     0.98622,     0.98628,     0.98634,      0.9864,     0.98646,     0.98651,     0.98657,     0.98663,     0.98669,     0.98675,\n",
              "            0.98681,     0.98687,     0.98693,     0.98699,     0.98705,     0.98711,     0.98717,     0.98723,     0.98729,     0.98735,     0.98741,     0.98747,     0.98753,     0.98764,     0.98775,     0.98787,     0.98798,      0.9881,     0.98822,     0.98833,     0.98845,     0.98856,     0.98868,\n",
              "             0.9888,     0.98891,     0.98903,     0.98914,     0.98926,     0.98938,     0.98949,     0.98961,     0.98973,     0.98984,     0.98996,     0.99007,     0.99019,     0.99031,     0.99042,     0.99054,     0.99063,     0.99063,     0.99064,     0.99065,     0.99065,     0.99066,     0.99067,\n",
              "            0.99067,     0.99068,     0.99069,     0.99069,      0.9907,     0.99071,     0.99071,     0.99072,     0.99072,     0.99073,     0.99074,     0.99074,     0.99075,     0.99076,     0.99076,     0.99077,     0.99078,     0.99078,     0.99079,      0.9908,      0.9908,     0.99081,     0.99082,\n",
              "            0.99082,     0.99083,     0.99084,     0.99084,     0.99085,     0.99086,     0.99086,     0.99087,     0.99088,     0.99088,     0.99089,      0.9909,      0.9909,     0.99091,     0.99091,     0.99092,     0.99093,     0.99093,     0.99094,     0.99095,     0.99095,     0.99096,     0.99097,\n",
              "            0.99097,     0.99098,     0.99099,     0.99099,       0.991,     0.99101,     0.99101,     0.99102,     0.99103,     0.99103,     0.99104,     0.99105,     0.99105,     0.99106,     0.99107,     0.99107,     0.99108,     0.99108,     0.99109,      0.9911,      0.9911,     0.99111,     0.99112,\n",
              "            0.99112,     0.99113,     0.99114,     0.99114,     0.99115,     0.99116,     0.99116,     0.99117,     0.99118,     0.99118,     0.99119,      0.9912,      0.9912,     0.99121,     0.99122,     0.99122,     0.99123,     0.99124,     0.99124,     0.99125,     0.99126,     0.99126,     0.99127,\n",
              "            0.99127,     0.99128,     0.99129,     0.99129,      0.9913,     0.99131,     0.99131,     0.99132,     0.99133,     0.99133,     0.99134,     0.99135,     0.99135,     0.99136,     0.99137,     0.99137,     0.99138,     0.99139,     0.99139,      0.9914,     0.99141,     0.99141,     0.99142,\n",
              "            0.99143,     0.99143,     0.99144,     0.99144,     0.99145,     0.99146,     0.99146,     0.99147,     0.99148,     0.99148,     0.99149,      0.9915,      0.9915,     0.99151,     0.99152,     0.99152,     0.99153,     0.99154,     0.99154,     0.99155,     0.99156,     0.99156,     0.99157,\n",
              "            0.99158,     0.99158,     0.99159,      0.9916,      0.9916,     0.99161,     0.99162,     0.99162,     0.99163,     0.99163,     0.99164,     0.99165,     0.99165,     0.99166,     0.99167,     0.99167,     0.99168,     0.99169,     0.99169,      0.9917,     0.99171,     0.99171,     0.99172,\n",
              "            0.99173,     0.99173,     0.99174,     0.99175,     0.99175,     0.99176,     0.99177,     0.99177,     0.99178,     0.99179,     0.99179,      0.9918,      0.9918,     0.99181,     0.99182,     0.99182,     0.99183,     0.99184,     0.99184,     0.99185,     0.99186,     0.99186,     0.99187,\n",
              "            0.99188,     0.99188,     0.99189,      0.9919,      0.9919,     0.99191,     0.99192,     0.99192,     0.99193,     0.99194,     0.99194,     0.99195,     0.99196,     0.99196,     0.99197,     0.99198,     0.99198,     0.99199,     0.99199,       0.992,     0.99201,     0.99201,     0.99202,\n",
              "            0.99203,     0.99203,     0.99204,     0.99205,     0.99205,     0.99206,     0.99207,     0.99207,     0.99208,     0.99209,     0.99209,      0.9921,     0.99211,     0.99211,     0.99212,     0.99213,     0.99213,     0.99214,     0.99215,     0.99215,     0.99216,     0.99217,     0.99217,\n",
              "            0.99218,     0.99218,     0.99219,      0.9922,      0.9922,     0.99221,     0.99222,     0.99222,     0.99223,     0.99224,     0.99224,     0.99225,     0.99226,     0.99226,     0.99227,     0.99228,     0.99228,     0.99229,      0.9923,      0.9923,     0.99231,     0.99232,     0.99232,\n",
              "            0.99233,     0.99234,     0.99234,     0.99235,     0.99235,     0.99236,     0.99237,     0.99237,     0.99238,     0.99239,     0.99239,      0.9924,     0.99241,     0.99241,     0.99242,     0.99243,     0.99243,     0.99244,     0.99245,     0.99245,     0.99246,     0.99247,     0.99247,\n",
              "            0.99248,     0.99249,     0.99249,      0.9925,     0.99251,     0.99251,     0.99252,     0.99253,     0.99253,     0.99254,     0.99254,     0.99255,     0.99256,     0.99256,     0.99257,     0.99258,     0.99258,     0.99259,      0.9926,      0.9926,     0.99261,     0.99262,     0.99262,\n",
              "            0.99263,     0.99264,     0.99264,     0.99265,     0.99266,     0.99266,     0.99267,     0.99268,     0.99268,     0.99269,      0.9927,      0.9927,     0.99271,     0.99271,     0.99272,     0.99273,     0.99273,     0.99274,     0.99275,     0.99275,     0.99276,     0.99277,     0.99277,\n",
              "            0.99278,     0.99279,     0.99279,      0.9928,     0.99281,     0.99281,     0.99282,     0.99283,     0.99283,     0.99284,     0.99285,     0.99285,     0.99286,     0.99287,     0.99287,     0.99288,     0.99289,     0.99289,      0.9929,      0.9929,     0.99291,     0.99292,     0.99292,\n",
              "            0.99293,     0.99294,     0.99294,     0.99295,     0.99296,     0.99296,     0.99297,     0.99298,     0.99298,     0.99299,       0.993,       0.993,     0.99301,     0.99302,     0.99302,     0.99303,     0.99304,     0.99304,     0.99305,     0.99306,     0.99306,     0.99307,     0.99307,\n",
              "            0.99308,     0.99309,     0.99309,      0.9931,     0.99311,     0.99311,     0.99312,     0.99313,     0.99313,     0.99314,     0.99315,     0.99315,     0.99316,     0.99317,     0.99317,     0.99318,     0.99319,     0.99319,      0.9932,     0.99321,     0.99321,     0.99322,     0.99323,\n",
              "            0.99323,     0.99324,     0.99325,     0.99325,     0.99326,     0.99326,     0.99327,     0.99328,     0.99328,     0.99329,      0.9933,      0.9933,     0.99331,     0.99332,     0.99332,     0.99333,     0.99334,     0.99334,     0.99335,     0.99336,     0.99336,     0.99337,     0.99338,\n",
              "            0.99338,     0.99339,      0.9934,      0.9934,     0.99341,     0.99342,     0.99342,     0.99343,     0.99343,     0.99344,     0.99345,     0.99345,     0.99346,     0.99347,     0.99347,     0.99348,     0.99349,     0.99349,      0.9935,     0.99351,     0.99351,     0.99352,     0.99353,\n",
              "            0.99353,     0.99354,     0.99355,     0.99355,     0.99356,     0.99357,     0.99357,     0.99358,     0.99359,     0.99359,      0.9936,     0.99361,     0.99361,     0.99362,     0.99362,     0.99363,     0.99364,     0.99364,     0.99365,     0.99366,     0.99366,     0.99367,     0.99368,\n",
              "            0.99368,     0.99369,      0.9937,      0.9937,     0.99371,     0.99372,     0.99372,     0.99373,      0.9938,     0.99387,     0.99394,     0.99402,     0.99409,     0.99417,     0.99424,     0.99432,     0.99439,     0.99447,     0.99454,     0.99461,     0.99469,     0.99476,     0.99484,\n",
              "            0.99491,     0.99499,     0.99506,     0.99514,     0.99521,     0.99529,     0.99536,     0.99543,     0.99551,     0.99558,     0.99566,     0.99573,     0.99581,     0.99588,     0.99596,     0.99603,      0.9961,     0.99618,     0.99625,     0.99633,      0.9964,     0.99648,     0.99655,\n",
              "            0.99663,      0.9967,     0.99677,     0.99685,     0.99686,     0.99685,     0.99685,     0.99685,     0.99685,     0.99685,     0.99685,     0.99685,     0.99685,     0.99685,     0.99685,     0.99685,     0.99685,     0.99685,     0.99685,     0.99685,     0.99685,     0.99685,     0.99685,\n",
              "            0.99685,     0.99685,     0.99685,     0.99685,     0.99685,     0.99685,     0.99685,     0.99685,     0.99684,     0.99684,     0.99684,     0.99681,     0.99681,      0.9968,     0.99678,     0.99674,     0.99673,     0.99673,     0.99671,     0.99668,     0.99667,     0.99667,     0.99663,\n",
              "            0.99661,     0.99654,     0.99648,     0.99644,     0.99643,     0.99639,     0.99632,     0.99623,     0.99618,     0.99615,     0.99614,     0.99612,     0.99607,     0.99599,     0.99594,     0.99584,      0.9958,     0.99575,     0.99573,     0.99563,     0.99556,     0.99551,     0.99542,\n",
              "             0.9953,      0.9952,     0.99499,      0.9948,     0.99467,      0.9946,     0.99437,     0.99429,     0.99392,     0.99368,      0.9933,     0.99306,     0.99286,     0.99271,     0.99238,     0.99184,     0.99174,     0.99149,     0.99091,     0.99065,     0.99028,     0.99017,     0.99012,\n",
              "            0.98944,     0.98887,     0.98871,           1,           1,           1,           1,           1,           1,           1,           1,           1,           1,           1,           1,           1,           1,           1,           1,           1,           1,           1,           1,\n",
              "                  1,           1,           1,           1,           1,           1,           1,           1,           1,           1,           1,           1,           1,           1,           1,           1,           1,           1,           1,           1,           1,           1,           1,\n",
              "                  1,           1,           1,           1,           1,           1,           1,           1,           1,           1,           1,           1,           1,           1,           1,           1,           1,           1,           1,           1,           1,           1,           1,\n",
              "                  1,           1,           1,           1,           1,           1,           1,           1,           1,           1,           1,           1,           1,           1,           1,           1,           1,           1,           1,           1,           1,           1,           1,\n",
              "                  1,           1,           1,           1,           1,           1,           1,           1,           1,           1,           1,           1,           1,           1,           1,           1,           1,           1,           1,           1,           1,           1,           1,\n",
              "                  1,           1,           1,           1,           1,           1,           1,           1,           1,           1,           1,           1,           1,           1,           1,           1,           1,           1,           1,           1,           1,           1,           1,\n",
              "                  1,           1,           1,           1,           1,           1,           1,           1,           1,           1,           1,           1,           1,           1,           1,           1,           1,           1,           1,           1,           1,           1,           1,\n",
              "                  1,           1,           1,           1,           1,           1,           1,           1,           1,           1,           1,           1,           1,           1,           1,           1,           1,           1,           1,           1,           1,           1,           1,\n",
              "                  1,           1,           1,           1,           1,           1,           1,           1,           1,           1,           1]]), 'Confidence', 'Precision'], [array([          0,    0.001001,    0.002002,    0.003003,    0.004004,    0.005005,    0.006006,    0.007007,    0.008008,    0.009009,     0.01001,    0.011011,    0.012012,    0.013013,    0.014014,    0.015015,    0.016016,    0.017017,    0.018018,    0.019019,     0.02002,    0.021021,    0.022022,    0.023023,\n",
              "          0.024024,    0.025025,    0.026026,    0.027027,    0.028028,    0.029029,     0.03003,    0.031031,    0.032032,    0.033033,    0.034034,    0.035035,    0.036036,    0.037037,    0.038038,    0.039039,     0.04004,    0.041041,    0.042042,    0.043043,    0.044044,    0.045045,    0.046046,    0.047047,\n",
              "          0.048048,    0.049049,     0.05005,    0.051051,    0.052052,    0.053053,    0.054054,    0.055055,    0.056056,    0.057057,    0.058058,    0.059059,     0.06006,    0.061061,    0.062062,    0.063063,    0.064064,    0.065065,    0.066066,    0.067067,    0.068068,    0.069069,     0.07007,    0.071071,\n",
              "          0.072072,    0.073073,    0.074074,    0.075075,    0.076076,    0.077077,    0.078078,    0.079079,     0.08008,    0.081081,    0.082082,    0.083083,    0.084084,    0.085085,    0.086086,    0.087087,    0.088088,    0.089089,     0.09009,    0.091091,    0.092092,    0.093093,    0.094094,    0.095095,\n",
              "          0.096096,    0.097097,    0.098098,    0.099099,      0.1001,      0.1011,      0.1021,      0.1031,      0.1041,     0.10511,     0.10611,     0.10711,     0.10811,     0.10911,     0.11011,     0.11111,     0.11211,     0.11311,     0.11411,     0.11512,     0.11612,     0.11712,     0.11812,     0.11912,\n",
              "           0.12012,     0.12112,     0.12212,     0.12312,     0.12412,     0.12513,     0.12613,     0.12713,     0.12813,     0.12913,     0.13013,     0.13113,     0.13213,     0.13313,     0.13413,     0.13514,     0.13614,     0.13714,     0.13814,     0.13914,     0.14014,     0.14114,     0.14214,     0.14314,\n",
              "           0.14414,     0.14515,     0.14615,     0.14715,     0.14815,     0.14915,     0.15015,     0.15115,     0.15215,     0.15315,     0.15415,     0.15516,     0.15616,     0.15716,     0.15816,     0.15916,     0.16016,     0.16116,     0.16216,     0.16316,     0.16416,     0.16517,     0.16617,     0.16717,\n",
              "           0.16817,     0.16917,     0.17017,     0.17117,     0.17217,     0.17317,     0.17417,     0.17518,     0.17618,     0.17718,     0.17818,     0.17918,     0.18018,     0.18118,     0.18218,     0.18318,     0.18418,     0.18519,     0.18619,     0.18719,     0.18819,     0.18919,     0.19019,     0.19119,\n",
              "           0.19219,     0.19319,     0.19419,      0.1952,      0.1962,      0.1972,      0.1982,      0.1992,      0.2002,      0.2012,      0.2022,      0.2032,      0.2042,     0.20521,     0.20621,     0.20721,     0.20821,     0.20921,     0.21021,     0.21121,     0.21221,     0.21321,     0.21421,     0.21522,\n",
              "           0.21622,     0.21722,     0.21822,     0.21922,     0.22022,     0.22122,     0.22222,     0.22322,     0.22422,     0.22523,     0.22623,     0.22723,     0.22823,     0.22923,     0.23023,     0.23123,     0.23223,     0.23323,     0.23423,     0.23524,     0.23624,     0.23724,     0.23824,     0.23924,\n",
              "           0.24024,     0.24124,     0.24224,     0.24324,     0.24424,     0.24525,     0.24625,     0.24725,     0.24825,     0.24925,     0.25025,     0.25125,     0.25225,     0.25325,     0.25425,     0.25526,     0.25626,     0.25726,     0.25826,     0.25926,     0.26026,     0.26126,     0.26226,     0.26326,\n",
              "           0.26426,     0.26527,     0.26627,     0.26727,     0.26827,     0.26927,     0.27027,     0.27127,     0.27227,     0.27327,     0.27427,     0.27528,     0.27628,     0.27728,     0.27828,     0.27928,     0.28028,     0.28128,     0.28228,     0.28328,     0.28428,     0.28529,     0.28629,     0.28729,\n",
              "           0.28829,     0.28929,     0.29029,     0.29129,     0.29229,     0.29329,     0.29429,      0.2953,      0.2963,      0.2973,      0.2983,      0.2993,      0.3003,      0.3013,      0.3023,      0.3033,      0.3043,     0.30531,     0.30631,     0.30731,     0.30831,     0.30931,     0.31031,     0.31131,\n",
              "           0.31231,     0.31331,     0.31431,     0.31532,     0.31632,     0.31732,     0.31832,     0.31932,     0.32032,     0.32132,     0.32232,     0.32332,     0.32432,     0.32533,     0.32633,     0.32733,     0.32833,     0.32933,     0.33033,     0.33133,     0.33233,     0.33333,     0.33433,     0.33534,\n",
              "           0.33634,     0.33734,     0.33834,     0.33934,     0.34034,     0.34134,     0.34234,     0.34334,     0.34434,     0.34535,     0.34635,     0.34735,     0.34835,     0.34935,     0.35035,     0.35135,     0.35235,     0.35335,     0.35435,     0.35536,     0.35636,     0.35736,     0.35836,     0.35936,\n",
              "           0.36036,     0.36136,     0.36236,     0.36336,     0.36436,     0.36537,     0.36637,     0.36737,     0.36837,     0.36937,     0.37037,     0.37137,     0.37237,     0.37337,     0.37437,     0.37538,     0.37638,     0.37738,     0.37838,     0.37938,     0.38038,     0.38138,     0.38238,     0.38338,\n",
              "           0.38438,     0.38539,     0.38639,     0.38739,     0.38839,     0.38939,     0.39039,     0.39139,     0.39239,     0.39339,     0.39439,      0.3954,      0.3964,      0.3974,      0.3984,      0.3994,      0.4004,      0.4014,      0.4024,      0.4034,      0.4044,     0.40541,     0.40641,     0.40741,\n",
              "           0.40841,     0.40941,     0.41041,     0.41141,     0.41241,     0.41341,     0.41441,     0.41542,     0.41642,     0.41742,     0.41842,     0.41942,     0.42042,     0.42142,     0.42242,     0.42342,     0.42442,     0.42543,     0.42643,     0.42743,     0.42843,     0.42943,     0.43043,     0.43143,\n",
              "           0.43243,     0.43343,     0.43443,     0.43544,     0.43644,     0.43744,     0.43844,     0.43944,     0.44044,     0.44144,     0.44244,     0.44344,     0.44444,     0.44545,     0.44645,     0.44745,     0.44845,     0.44945,     0.45045,     0.45145,     0.45245,     0.45345,     0.45445,     0.45546,\n",
              "           0.45646,     0.45746,     0.45846,     0.45946,     0.46046,     0.46146,     0.46246,     0.46346,     0.46446,     0.46547,     0.46647,     0.46747,     0.46847,     0.46947,     0.47047,     0.47147,     0.47247,     0.47347,     0.47447,     0.47548,     0.47648,     0.47748,     0.47848,     0.47948,\n",
              "           0.48048,     0.48148,     0.48248,     0.48348,     0.48448,     0.48549,     0.48649,     0.48749,     0.48849,     0.48949,     0.49049,     0.49149,     0.49249,     0.49349,     0.49449,      0.4955,      0.4965,      0.4975,      0.4985,      0.4995,      0.5005,      0.5015,      0.5025,      0.5035,\n",
              "            0.5045,     0.50551,     0.50651,     0.50751,     0.50851,     0.50951,     0.51051,     0.51151,     0.51251,     0.51351,     0.51451,     0.51552,     0.51652,     0.51752,     0.51852,     0.51952,     0.52052,     0.52152,     0.52252,     0.52352,     0.52452,     0.52553,     0.52653,     0.52753,\n",
              "           0.52853,     0.52953,     0.53053,     0.53153,     0.53253,     0.53353,     0.53453,     0.53554,     0.53654,     0.53754,     0.53854,     0.53954,     0.54054,     0.54154,     0.54254,     0.54354,     0.54454,     0.54555,     0.54655,     0.54755,     0.54855,     0.54955,     0.55055,     0.55155,\n",
              "           0.55255,     0.55355,     0.55455,     0.55556,     0.55656,     0.55756,     0.55856,     0.55956,     0.56056,     0.56156,     0.56256,     0.56356,     0.56456,     0.56557,     0.56657,     0.56757,     0.56857,     0.56957,     0.57057,     0.57157,     0.57257,     0.57357,     0.57457,     0.57558,\n",
              "           0.57658,     0.57758,     0.57858,     0.57958,     0.58058,     0.58158,     0.58258,     0.58358,     0.58458,     0.58559,     0.58659,     0.58759,     0.58859,     0.58959,     0.59059,     0.59159,     0.59259,     0.59359,     0.59459,      0.5956,      0.5966,      0.5976,      0.5986,      0.5996,\n",
              "            0.6006,      0.6016,      0.6026,      0.6036,      0.6046,     0.60561,     0.60661,     0.60761,     0.60861,     0.60961,     0.61061,     0.61161,     0.61261,     0.61361,     0.61461,     0.61562,     0.61662,     0.61762,     0.61862,     0.61962,     0.62062,     0.62162,     0.62262,     0.62362,\n",
              "           0.62462,     0.62563,     0.62663,     0.62763,     0.62863,     0.62963,     0.63063,     0.63163,     0.63263,     0.63363,     0.63463,     0.63564,     0.63664,     0.63764,     0.63864,     0.63964,     0.64064,     0.64164,     0.64264,     0.64364,     0.64464,     0.64565,     0.64665,     0.64765,\n",
              "           0.64865,     0.64965,     0.65065,     0.65165,     0.65265,     0.65365,     0.65465,     0.65566,     0.65666,     0.65766,     0.65866,     0.65966,     0.66066,     0.66166,     0.66266,     0.66366,     0.66466,     0.66567,     0.66667,     0.66767,     0.66867,     0.66967,     0.67067,     0.67167,\n",
              "           0.67267,     0.67367,     0.67467,     0.67568,     0.67668,     0.67768,     0.67868,     0.67968,     0.68068,     0.68168,     0.68268,     0.68368,     0.68468,     0.68569,     0.68669,     0.68769,     0.68869,     0.68969,     0.69069,     0.69169,     0.69269,     0.69369,     0.69469,      0.6957,\n",
              "            0.6967,      0.6977,      0.6987,      0.6997,      0.7007,      0.7017,      0.7027,      0.7037,      0.7047,     0.70571,     0.70671,     0.70771,     0.70871,     0.70971,     0.71071,     0.71171,     0.71271,     0.71371,     0.71471,     0.71572,     0.71672,     0.71772,     0.71872,     0.71972,\n",
              "           0.72072,     0.72172,     0.72272,     0.72372,     0.72472,     0.72573,     0.72673,     0.72773,     0.72873,     0.72973,     0.73073,     0.73173,     0.73273,     0.73373,     0.73473,     0.73574,     0.73674,     0.73774,     0.73874,     0.73974,     0.74074,     0.74174,     0.74274,     0.74374,\n",
              "           0.74474,     0.74575,     0.74675,     0.74775,     0.74875,     0.74975,     0.75075,     0.75175,     0.75275,     0.75375,     0.75475,     0.75576,     0.75676,     0.75776,     0.75876,     0.75976,     0.76076,     0.76176,     0.76276,     0.76376,     0.76476,     0.76577,     0.76677,     0.76777,\n",
              "           0.76877,     0.76977,     0.77077,     0.77177,     0.77277,     0.77377,     0.77477,     0.77578,     0.77678,     0.77778,     0.77878,     0.77978,     0.78078,     0.78178,     0.78278,     0.78378,     0.78478,     0.78579,     0.78679,     0.78779,     0.78879,     0.78979,     0.79079,     0.79179,\n",
              "           0.79279,     0.79379,     0.79479,      0.7958,      0.7968,      0.7978,      0.7988,      0.7998,      0.8008,      0.8018,      0.8028,      0.8038,      0.8048,     0.80581,     0.80681,     0.80781,     0.80881,     0.80981,     0.81081,     0.81181,     0.81281,     0.81381,     0.81481,     0.81582,\n",
              "           0.81682,     0.81782,     0.81882,     0.81982,     0.82082,     0.82182,     0.82282,     0.82382,     0.82482,     0.82583,     0.82683,     0.82783,     0.82883,     0.82983,     0.83083,     0.83183,     0.83283,     0.83383,     0.83483,     0.83584,     0.83684,     0.83784,     0.83884,     0.83984,\n",
              "           0.84084,     0.84184,     0.84284,     0.84384,     0.84484,     0.84585,     0.84685,     0.84785,     0.84885,     0.84985,     0.85085,     0.85185,     0.85285,     0.85385,     0.85485,     0.85586,     0.85686,     0.85786,     0.85886,     0.85986,     0.86086,     0.86186,     0.86286,     0.86386,\n",
              "           0.86486,     0.86587,     0.86687,     0.86787,     0.86887,     0.86987,     0.87087,     0.87187,     0.87287,     0.87387,     0.87487,     0.87588,     0.87688,     0.87788,     0.87888,     0.87988,     0.88088,     0.88188,     0.88288,     0.88388,     0.88488,     0.88589,     0.88689,     0.88789,\n",
              "           0.88889,     0.88989,     0.89089,     0.89189,     0.89289,     0.89389,     0.89489,      0.8959,      0.8969,      0.8979,      0.8989,      0.8999,      0.9009,      0.9019,      0.9029,      0.9039,      0.9049,     0.90591,     0.90691,     0.90791,     0.90891,     0.90991,     0.91091,     0.91191,\n",
              "           0.91291,     0.91391,     0.91491,     0.91592,     0.91692,     0.91792,     0.91892,     0.91992,     0.92092,     0.92192,     0.92292,     0.92392,     0.92492,     0.92593,     0.92693,     0.92793,     0.92893,     0.92993,     0.93093,     0.93193,     0.93293,     0.93393,     0.93493,     0.93594,\n",
              "           0.93694,     0.93794,     0.93894,     0.93994,     0.94094,     0.94194,     0.94294,     0.94394,     0.94494,     0.94595,     0.94695,     0.94795,     0.94895,     0.94995,     0.95095,     0.95195,     0.95295,     0.95395,     0.95495,     0.95596,     0.95696,     0.95796,     0.95896,     0.95996,\n",
              "           0.96096,     0.96196,     0.96296,     0.96396,     0.96496,     0.96597,     0.96697,     0.96797,     0.96897,     0.96997,     0.97097,     0.97197,     0.97297,     0.97397,     0.97497,     0.97598,     0.97698,     0.97798,     0.97898,     0.97998,     0.98098,     0.98198,     0.98298,     0.98398,\n",
              "           0.98498,     0.98599,     0.98699,     0.98799,     0.98899,     0.98999,     0.99099,     0.99199,     0.99299,     0.99399,     0.99499,       0.996,       0.997,       0.998,       0.999,           1]), array([[          1,           1,           1,           1,           1,           1,           1,           1,           1,           1,           1,           1,           1,           1,           1,           1,           1,           1,           1,           1,           1,           1,           1,\n",
              "                  1,           1,     0.99831,     0.99686,     0.99686,     0.99686,     0.99686,     0.99686,     0.99686,     0.99686,     0.99686,     0.99686,     0.99686,     0.99686,     0.99686,     0.99686,     0.99686,     0.99686,     0.99686,     0.99686,     0.99686,     0.99686,     0.99686,\n",
              "            0.99686,     0.99686,     0.99686,     0.99686,     0.99686,     0.99686,     0.99686,     0.99686,     0.99686,     0.99686,     0.99686,     0.99686,     0.99686,     0.99686,     0.99686,     0.99686,     0.99686,     0.99686,     0.99686,     0.99686,     0.99686,     0.99686,     0.99686,\n",
              "            0.99686,     0.99686,     0.99686,     0.99686,     0.99686,     0.99686,     0.99686,     0.99686,     0.99686,     0.99686,     0.99686,     0.99686,     0.99686,     0.99686,     0.99686,     0.99686,     0.99686,     0.99686,     0.99686,     0.99686,     0.99686,     0.99686,     0.99686,\n",
              "            0.99686,     0.99686,     0.99686,     0.99686,     0.99686,     0.99686,     0.99686,     0.99686,     0.99686,     0.99686,     0.99686,     0.99686,     0.99686,     0.99686,     0.99686,     0.99686,     0.99686,     0.99686,     0.99686,     0.99686,     0.99686,     0.99686,     0.99686,\n",
              "            0.99686,     0.99686,     0.99686,     0.99686,     0.99686,     0.99686,     0.99686,     0.99686,     0.99686,     0.99686,     0.99686,     0.99686,     0.99686,     0.99686,     0.99686,     0.99686,     0.99686,     0.99686,     0.99686,     0.99686,     0.99686,     0.99686,     0.99686,\n",
              "            0.99686,     0.99686,     0.99686,     0.99686,     0.99686,     0.99686,     0.99686,     0.99686,     0.99686,     0.99686,     0.99686,     0.99686,     0.99686,     0.99686,     0.99686,     0.99686,     0.99686,     0.99686,     0.99686,     0.99686,     0.99686,     0.99686,     0.99686,\n",
              "            0.99686,     0.99686,     0.99686,     0.99686,     0.99686,     0.99686,     0.99686,     0.99686,     0.99686,     0.99686,     0.99686,     0.99686,     0.99686,     0.99686,     0.99686,     0.99686,     0.99686,     0.99686,     0.99686,     0.99686,     0.99686,     0.99686,     0.99686,\n",
              "            0.99686,     0.99686,     0.99686,     0.99686,     0.99686,     0.99686,     0.99686,     0.99686,     0.99686,     0.99686,     0.99686,     0.99686,     0.99686,     0.99686,     0.99686,     0.99686,     0.99686,     0.99686,     0.99686,     0.99686,     0.99686,     0.99686,     0.99686,\n",
              "            0.99686,     0.99686,     0.99686,     0.99686,     0.99686,     0.99686,     0.99686,     0.99686,     0.99686,     0.99686,     0.99686,     0.99686,     0.99686,     0.99686,     0.99686,     0.99686,     0.99686,     0.99686,     0.99686,     0.99686,     0.99686,     0.99686,     0.99686,\n",
              "            0.99686,     0.99686,     0.99686,     0.99686,     0.99686,     0.99686,     0.99686,     0.99686,     0.99686,     0.99686,     0.99686,     0.99686,     0.99686,     0.99686,     0.99686,     0.99686,     0.99686,     0.99686,     0.99686,     0.99686,     0.99686,     0.99686,     0.99686,\n",
              "            0.99686,     0.99686,     0.99686,     0.99686,     0.99686,     0.99686,     0.99686,     0.99686,     0.99686,     0.99686,     0.99686,     0.99686,     0.99686,     0.99686,     0.99686,     0.99686,     0.99686,     0.99686,     0.99686,     0.99686,     0.99686,     0.99686,     0.99686,\n",
              "            0.99686,     0.99686,     0.99686,     0.99686,     0.99686,     0.99686,     0.99686,     0.99686,     0.99686,     0.99686,     0.99686,     0.99686,     0.99686,     0.99686,     0.99686,     0.99686,     0.99686,     0.99686,     0.99686,     0.99686,     0.99686,     0.99686,     0.99686,\n",
              "            0.99686,     0.99686,     0.99686,     0.99686,     0.99686,     0.99686,     0.99686,     0.99686,     0.99686,     0.99686,     0.99686,     0.99686,     0.99686,     0.99686,     0.99686,     0.99686,     0.99686,     0.99686,     0.99686,     0.99686,     0.99686,     0.99686,     0.99686,\n",
              "            0.99686,     0.99686,     0.99686,     0.99686,     0.99686,     0.99686,     0.99686,     0.99686,     0.99686,     0.99686,     0.99686,     0.99686,     0.99686,     0.99686,     0.99686,     0.99686,     0.99686,     0.99686,     0.99686,     0.99686,     0.99686,     0.99686,     0.99686,\n",
              "            0.99686,     0.99686,     0.99686,     0.99686,     0.99686,     0.99686,     0.99686,     0.99686,     0.99686,     0.99686,     0.99686,     0.99686,     0.99686,     0.99686,     0.99686,     0.99686,     0.99686,     0.99686,     0.99686,     0.99686,     0.99686,     0.99686,     0.99686,\n",
              "            0.99686,     0.99686,     0.99686,     0.99686,     0.99686,     0.99686,     0.99686,     0.99686,     0.99686,     0.99686,     0.99686,     0.99686,     0.99686,     0.99686,     0.99686,     0.99686,     0.99686,     0.99686,     0.99686,     0.99686,     0.99686,     0.99686,     0.99686,\n",
              "            0.99686,     0.99686,     0.99686,     0.99686,     0.99686,     0.99686,     0.99686,     0.99686,     0.99686,     0.99686,     0.99686,     0.99686,     0.99686,     0.99686,     0.99686,     0.99686,     0.99686,     0.99686,     0.99686,     0.99686,     0.99686,     0.99686,     0.99686,\n",
              "            0.99686,     0.99686,     0.99686,     0.99686,     0.99686,     0.99686,     0.99686,     0.99686,     0.99686,     0.99686,     0.99686,     0.99686,     0.99686,     0.99686,     0.99686,     0.99686,     0.99686,     0.99686,     0.99686,     0.99686,     0.99686,     0.99686,     0.99686,\n",
              "            0.99686,     0.99686,     0.99686,     0.99686,     0.99686,     0.99686,     0.99686,     0.99686,     0.99686,     0.99686,     0.99686,     0.99686,     0.99686,     0.99686,     0.99686,     0.99686,     0.99686,     0.99686,     0.99686,     0.99686,     0.99686,     0.99686,     0.99686,\n",
              "            0.99686,     0.99686,     0.99686,     0.99686,     0.99686,     0.99686,     0.99686,     0.99686,     0.99686,     0.99686,     0.99686,     0.99686,     0.99686,     0.99686,     0.99686,     0.99686,     0.99686,     0.99686,     0.99686,     0.99686,     0.99686,     0.99686,     0.99686,\n",
              "            0.99686,     0.99686,     0.99686,     0.99686,     0.99686,     0.99686,     0.99686,     0.99686,     0.99686,     0.99686,     0.99686,     0.99686,     0.99686,     0.99686,     0.99686,     0.99686,     0.99686,     0.99686,     0.99686,     0.99686,     0.99686,     0.99686,     0.99686,\n",
              "            0.99686,     0.99686,     0.99686,     0.99686,     0.99686,     0.99686,     0.99686,     0.99686,     0.99686,     0.99686,     0.99686,     0.99686,     0.99686,     0.99686,     0.99686,     0.99686,     0.99686,     0.99686,     0.99686,     0.99686,     0.99686,     0.99686,     0.99686,\n",
              "            0.99686,     0.99686,     0.99686,     0.99686,     0.99686,     0.99686,     0.99686,     0.99686,     0.99686,     0.99686,     0.99686,     0.99686,     0.99686,     0.99686,     0.99686,     0.99686,     0.99686,     0.99686,     0.99686,     0.99686,     0.99686,     0.99686,     0.99686,\n",
              "            0.99686,     0.99686,     0.99686,     0.99686,     0.99686,     0.99686,     0.99686,     0.99686,     0.99686,     0.99686,     0.99686,     0.99686,     0.99686,     0.99686,     0.99686,     0.99686,     0.99686,     0.99686,     0.99686,     0.99686,     0.99686,     0.99686,     0.99686,\n",
              "            0.99686,     0.99686,     0.99686,     0.99686,     0.99686,     0.99686,     0.99686,     0.99686,     0.99686,     0.99686,     0.99686,     0.99686,     0.99686,     0.99686,     0.99686,     0.99686,     0.99686,     0.99686,     0.99686,     0.99686,     0.99686,     0.99686,     0.99686,\n",
              "            0.99686,     0.99686,     0.99686,     0.99686,     0.99686,     0.99686,     0.99686,     0.99686,     0.99686,     0.99686,     0.99686,     0.99686,     0.99686,     0.99686,     0.99686,     0.99686,     0.99686,     0.99686,     0.99686,     0.99686,     0.99686,     0.99686,     0.99686,\n",
              "            0.99686,     0.99686,     0.99686,     0.99686,     0.99686,     0.99686,     0.99686,     0.99686,     0.99686,     0.99686,     0.99686,     0.99686,     0.99686,     0.99686,     0.99686,     0.99686,     0.99686,     0.99686,     0.99686,     0.99686,     0.99686,     0.99686,     0.99686,\n",
              "            0.99686,     0.99686,     0.99686,     0.99686,     0.99686,     0.99686,     0.99686,     0.99686,     0.99686,     0.99686,     0.99686,     0.99686,     0.99686,     0.99686,     0.99686,     0.99686,     0.99686,     0.99686,     0.99686,     0.99686,     0.99686,     0.99686,     0.99686,\n",
              "            0.99686,     0.99686,     0.99686,     0.99686,     0.99686,     0.99686,     0.99686,     0.99686,     0.99686,     0.99686,     0.99686,     0.99686,     0.99686,     0.99686,     0.99686,     0.99686,     0.99686,     0.99686,     0.99686,     0.99686,     0.99686,     0.99686,     0.99686,\n",
              "            0.99686,     0.99686,     0.99686,     0.99686,     0.99686,     0.99686,     0.99686,     0.99686,     0.99686,     0.99686,     0.99686,     0.99686,     0.99686,     0.99686,     0.99686,     0.99686,     0.99686,     0.99686,     0.99686,     0.99686,     0.99686,     0.99686,     0.99686,\n",
              "            0.99686,     0.99686,     0.99686,     0.99686,     0.99675,     0.99663,     0.99652,      0.9964,     0.99629,     0.99617,     0.99606,     0.99594,     0.99583,     0.99571,      0.9956,     0.99548,     0.99537,     0.99525,     0.99514,     0.99502,     0.99491,     0.99479,     0.99468,\n",
              "            0.99456,     0.99445,     0.99433,     0.99422,      0.9941,     0.99399,     0.99387,     0.99376,     0.99306,     0.99199,     0.99091,     0.98319,     0.98157,     0.97957,       0.974,     0.96165,      0.9595,     0.95735,     0.95365,     0.94373,     0.94195,     0.94034,     0.92934,\n",
              "            0.92457,     0.90554,     0.89137,     0.88039,     0.87878,     0.86755,     0.85129,     0.83123,     0.82014,     0.81378,     0.81055,     0.80648,     0.79624,     0.78201,     0.77142,     0.75356,     0.74595,     0.73707,     0.73305,     0.71708,     0.70444,     0.69799,     0.68382,\n",
              "            0.66623,     0.65222,     0.62503,     0.60175,     0.58698,     0.57958,     0.55522,     0.54797,     0.51403,     0.49436,     0.46654,     0.45017,     0.43752,       0.428,     0.40931,     0.38225,     0.37755,     0.36637,     0.34264,     0.33319,     0.32031,     0.31667,     0.31506,\n",
              "            0.29468,     0.27934,      0.2755,     0.25333,     0.24372,     0.22786,     0.21007,     0.20792,     0.20174,     0.18437,     0.17676,     0.16717,     0.16259,     0.16044,     0.14468,     0.12887,     0.10992,      0.1067,     0.10317,    0.092388,    0.080845,    0.074398,    0.068567,\n",
              "            0.06465,     0.06133,    0.059181,    0.057032,    0.054883,    0.051284,    0.046587,    0.044975,    0.041378,    0.032608,    0.029966,    0.027262,     0.02188,    0.017723,    0.015679,    0.015034,    0.014389,    0.013745,      0.0131,   0.0093218,   0.0087357,   0.0081497,   0.0075636,\n",
              "          0.0069775,   0.0063915,   0.0060764,   0.0058185,   0.0055607,   0.0053028,   0.0050449,   0.0047871,   0.0045292,   0.0042713,   0.0040134,   0.0037556,   0.0034977,   0.0032398,           0,           0,           0,           0,           0,           0,           0,           0,           0,\n",
              "                  0,           0,           0,           0,           0,           0,           0,           0,           0,           0,           0,           0,           0,           0,           0,           0,           0,           0,           0,           0,           0,           0,           0,\n",
              "                  0,           0,           0,           0,           0,           0,           0,           0,           0,           0,           0,           0,           0,           0,           0,           0,           0,           0,           0,           0,           0,           0,           0,\n",
              "                  0,           0,           0,           0,           0,           0,           0,           0,           0,           0,           0,           0,           0,           0,           0,           0,           0,           0,           0,           0,           0,           0,           0,\n",
              "                  0,           0,           0,           0,           0,           0,           0,           0,           0,           0,           0,           0,           0,           0,           0,           0,           0,           0,           0,           0,           0,           0,           0,\n",
              "                  0,           0,           0,           0,           0,           0,           0,           0,           0,           0,           0,           0,           0,           0,           0,           0,           0,           0,           0,           0,           0,           0,           0,\n",
              "                  0,           0,           0,           0,           0,           0,           0,           0,           0,           0,           0]]), 'Confidence', 'Recall']]\n",
              "fitness: 0.7639393025301785\n",
              "keys: ['metrics/precision(B)', 'metrics/recall(B)', 'metrics/mAP50(B)', 'metrics/mAP50-95(B)']\n",
              "maps: array([    0.73852])\n",
              "names: {0: 'Text'}\n",
              "plot: True\n",
              "results_dict: {'metrics/precision(B)': 0.9951360732934623, 'metrics/recall(B)': 0.9968553459119497, 'metrics/mAP50(B)': 0.9927044025157234, 'metrics/mAP50-95(B)': 0.7385209580873401, 'fitness': 0.7639393025301785}\n",
              "save_dir: PosixPath('runs/detect/train')\n",
              "speed: {'preprocess': 0.18811675737488945, 'inference': 2.3556317923203953, 'loss': 0.0001799385502653302, 'postprocess': 1.0896358849867334}\n",
              "task: 'detect'"
            ]
          },
          "metadata": {},
          "execution_count": 3
        }
      ]
    },
    {
      "cell_type": "code",
      "source": [
        "from ultralytics import YOLO\n",
        "from PIL import Image\n",
        "\n",
        "# Load the trained YOLOv8 model\n",
        "model = YOLO(\"/content/runs/detect/train/weights/best.pt\")  # Update the path to your trained model weights\n",
        "\n",
        "# Path to the test image\n",
        "test_image_path = \"/content/cheque 2_1.png\"\n",
        "\n",
        "try:\n",
        "    # Perform prediction\n",
        "    results = model.predict(\n",
        "        source=test_image_path,\n",
        "        save=True,\n",
        "        conf=0.1,  # Lower confidence threshold to detect more objects\n",
        "        show=True  # Display results if running locally\n",
        "    )\n",
        "\n",
        "    # Optionally, print detection results\n",
        "    for result in results:\n",
        "        print(result.boxes)  # Print bounding box details\n",
        "\n",
        "except ValueError as e:\n",
        "    print(f\"Error during prediction: {e}\")\n",
        "    print(\"Ensure the test image exists and contains objects trained on.\")\n",
        "\n",
        "# Display the saved result if predictions succeeded\n",
        "output_image_path = f\"{test_image_path.split('/')[-1].split('.')[0]}_pred.jpg\"\n",
        "try:\n",
        "    result_image = Image.open(output_image_path)\n",
        "    result_image.show()\n",
        "except FileNotFoundError:\n",
        "    print(\"No output image generated. Check your test image or model performance.\")\n"
      ],
      "metadata": {
        "colab": {
          "base_uri": "https://localhost:8080/"
        },
        "id": "4SMtV1Iiusyw",
        "outputId": "2d4e5b24-7604-4b33-cba1-a83bbeb2f254"
      },
      "execution_count": null,
      "outputs": [
        {
          "output_type": "stream",
          "name": "stdout",
          "text": [
            "WARNING ⚠️ Environment does not support cv2.imshow() or PIL Image.show()\n",
            "\n",
            "\n",
            "image 1/1 /content/cheque 2_1.png: 288x640 3 Texts, 35.8ms\n",
            "Speed: 1.7ms preprocess, 35.8ms inference, 1.9ms postprocess per image at shape (1, 3, 288, 640)\n",
            "Results saved to \u001b[1mruns/detect/predict\u001b[0m\n",
            "ultralytics.engine.results.Boxes object with attributes:\n",
            "\n",
            "cls: tensor([0., 0., 0.], device='cuda:0')\n",
            "conf: tensor([0.6200, 0.5906, 0.1504], device='cuda:0')\n",
            "data: tensor([[5.7781e+02, 1.7177e+02, 1.7000e+03, 3.0834e+02, 6.1998e-01, 0.0000e+00],\n",
            "        [6.1548e+02, 3.7195e+02, 9.9041e+02, 4.7809e+02, 5.9059e-01, 0.0000e+00],\n",
            "        [1.0747e+03, 3.6890e+02, 1.6868e+03, 4.3101e+02, 1.5036e-01, 0.0000e+00]], device='cuda:0')\n",
            "id: None\n",
            "is_track: False\n",
            "orig_shape: (766, 1700)\n",
            "shape: torch.Size([3, 6])\n",
            "xywh: tensor([[1138.9031,  240.0573, 1122.1938,  136.5671],\n",
            "        [ 802.9423,  425.0176,  374.9294,  106.1369],\n",
            "        [1380.7725,  399.9506,  612.1400,   62.1098]], device='cuda:0')\n",
            "xywhn: tensor([[0.6699, 0.3134, 0.6601, 0.1783],\n",
            "        [0.4723, 0.5549, 0.2205, 0.1386],\n",
            "        [0.8122, 0.5221, 0.3601, 0.0811]], device='cuda:0')\n",
            "xyxy: tensor([[ 577.8061,  171.7737, 1700.0000,  308.3408],\n",
            "        [ 615.4775,  371.9492,  990.4069,  478.0861],\n",
            "        [1074.7024,  368.8957, 1686.8424,  431.0055]], device='cuda:0')\n",
            "xyxyn: tensor([[0.3399, 0.2242, 1.0000, 0.4025],\n",
            "        [0.3620, 0.4856, 0.5826, 0.6241],\n",
            "        [0.6322, 0.4816, 0.9923, 0.5627]], device='cuda:0')\n",
            "No output image generated. Check your test image or model performance.\n"
          ]
        }
      ]
    }
  ]
}